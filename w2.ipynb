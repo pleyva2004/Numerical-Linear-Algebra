{
  "nbformat": 4,
  "nbformat_minor": 0,
  "metadata": {
    "colab": {
      "provenance": []
    },
    "kernelspec": {
      "name": "python3",
      "display_name": "Python 3"
    },
    "language_info": {
      "name": "python"
    }
  },
  "cells": [
    {
      "cell_type": "code",
      "execution_count": 3,
      "metadata": {
        "colab": {
          "base_uri": "https://localhost:8080/"
        },
        "id": "eKy7EWRffs2e",
        "outputId": "c2111544-6aac-413a-c2b6-84a83e6de112"
      },
      "outputs": [
        {
          "output_type": "stream",
          "name": "stdout",
          "text": [
            "Populating the interactive namespace from numpy and matplotlib\n"
          ]
        }
      ],
      "source": [
        "%pylab inline\n",
        "import numpy as np\n",
        "import scipy as sp\n",
        "import scipy.linalg as la\n",
        "\n"
      ]
    },
    {
      "cell_type": "markdown",
      "source": [
        "# LU Decomposition for Solving Linear Equations\n",
        "\n",
        "* We want to understand the factorization ${\\bf A} = {\\bf LU}$.\n",
        "* We want to compare the cost of ${\\bf LU}$ with other methods, such as Gaussian Elimination.\n",
        "* We show how to implement an ${\\bf LU}$ decomposition algorithm, with and without partial pivoting.\n",
        "* We will use the ${\\bf LU}$ decomposition for solving ${\\bf Ax} = {\\bf b}$.\n",
        "* Finaly, we will use ${\\bf LU}$ decompositions using library functions.\n",
        "\n",
        "## Basic Idea: The \"Undo\" button for Linear Operations\n",
        "\n",
        "---\n",
        "\n",
        "Matrix-vector multiplication: given the data \\\\({\\bf x}\\\\) and the operator \\\\({\\bf A}\\\\), we can find \\\\({\\bf y}\\\\) such that \\\\({\\bf y = Ax}\\\\). Conversely, if we know \\\\({\\bf y}\\\\) but not \\\\({\\bf x}\\\\), we can ''undo'' the transformation, by solving\n",
        "\\\\({\\bf Ax = y}\\\\) to find \\\\({\\bf x}\\\\).\n",
        "\n",
        "\n",
        "### Example: Image Blurring and Recovery (from: CS357 course at UIUC)\n",
        "\n",
        "The original image displaying a number is stored as a \\\\(2D\\\\) array of real numbers between \\\\(0\\\\) and \\\\(1\\\\) (\\\\(0\\\\) represents a white pixel, \\\\(1\\\\) represents a black pixel). It has \\\\(40\\\\) rows of pixels and \\\\(100\\\\) columns of pixels. We can flatten the \\\\(2D\\\\) array into a \\\\(1D\\\\) array \\\\(\\bf{x}\\\\) containing the \\\\(1D\\\\) data with dimension \\\\(4000\\\\). We can then apply blurring operation to data \\\\(\\bf{x}\\\\), i.e.\n",
        "\n",
        "$$\\bf{y} = \\bf{A}\\bf{x}$$\n",
        "\n",
        "where \\\\(\\bf{A}\\\\) is the blur operator and \\\\(\\bf{y}\\\\) is the blurred image:  \n",
        "\n",
        "![](https://drive.google.com/uc?export=view&id=1sLP5-V9jaWpNKvXM7obsQosPcSfImVIB)\n",
        "\n",
        "\n",
        "To \"undo\" blurring to recover original image, we solve a linear system of equations using the blur operator \\\\(\\bf{A}\\\\) and the blurred image \\\\(\\bf{y}\\\\). The following graph shows the transformation when \\\\(\\bf{y}\\\\) does not have any noise:  \n",
        "\n",
        "![](https://drive.google.com/uc?export=view&id=1EzAd868lXe02JaWugENeaWwrFh8kdFit)\n",
        "\n",
        "It is also possible to recover \\\\(\\bf{x}\\\\) with a certain extent of noise:\n",
        "\n",
        "![](https://drive.google.com/uc?export=view&id=1eK6jQZMN3MVIWkXA7UoaWekLMdtoq6bY)\n",
        "\n",
        "\n",
        "\n",
        "## Back Substitution for Upper Triangular Systems\n",
        "\n",
        "\n",
        "---\n",
        "\n",
        "\n",
        "The **_back substitution algorithm_** solves the linear system \\\\({\\bf U x} = {\\bf b}\\\\) where \\\\({\\bf U}\\\\) is an upper-triangular matrix. The **computational complexity** of back substitution is \\\\(\\bf{O(n^2)}\\\\).\n",
        "\n",
        "\n",
        "The code for the back substitution algorithm to solve \\\\({\\bf U x} = {\\bf b}\\\\) is:\n",
        "\n",
        "```\n",
        "import numpy as np\n",
        "def back_sub(U, b):\n",
        "    \"\"\"x = back_sub(U, b) is the solution to U x = b\n",
        "       U must be an upper-triangular matrix\n",
        "       b must be a vector of the same leading dimension as U\n",
        "    \"\"\"\n",
        "    n = U.shape[0]\n",
        "    x = np.zeros(n)\n",
        "    for i in range(n-1, -1, -1):\n",
        "        tmp = b[i]\n",
        "        for j in range(i+1, n):\n",
        "            tmp -= U[i,j] * x[j]\n",
        "        x[i] = tmp / U[i,i]\n",
        "    return x\n",
        "\n",
        "```\n",
        "\n",
        "\n",
        "## Forward Substitution for Lower Triangular Systems\n",
        "\n",
        "\n",
        "---\n",
        "\n",
        "The **_forward substitution algorithm_** solves the linear system \\\\({\\bf Lx} = {\\bf b}\\\\) where \\\\({\\bf L}\\\\) is a lower triangular matrix. It is the reversed version of back substitution. Like the back substitution, there are also \\\\(n\\\\) divisions, \\\\(\\frac{n(n-1)}{2}\\\\) subtractions / additions, and \\\\(\\frac{n(n-1)}{2}\\\\) multiplications, hence the **computational complexity** is \\\\(\\bf{O(n^2)}\\\\).\n",
        "\n",
        "The code for the forward substitution algorithm to solve \\\\({\\bf L x} = {\\bf b}\\\\) is:\n",
        "\n",
        "```\n",
        "import numpy as np\n",
        "def forward_sub(L, b):\n",
        "    \"\"\"x = forward_sub(L, b) is the solution to L x = b\n",
        "       L must be a lower-triangular matrix\n",
        "       b must be a vector of the same leading dimension as L\n",
        "    \"\"\"\n",
        "    n = L.shape[0]\n",
        "    x = np.zeros(n)\n",
        "    for i in range(n):\n",
        "        tmp = b[i]\n",
        "        for j in range(i):\n",
        "            tmp -= L[i,j] * x[j]\n",
        "        x[i] = tmp / L[i,i]\n",
        "    return x\n",
        "\n",
        "```\n",
        "\n",
        "\n",
        "## LU Decomposition Definition\n",
        "\n",
        "\n",
        "---\n",
        "\n",
        "\n",
        "To solve \\\\({\\bf A x} = {\\bf b}\\\\) we can perform ${\\bf LU}$ factorization: given an \\\\(n \\times n\\\\) matrix \\\\(\\bf{A}\\\\), the **_LU decomposition_** of a matrix \\\\({\\bf A}\\\\) is the pair of matrices \\\\({\\bf L}\\\\) and \\\\({\\bf U}\\\\) such that:\n",
        "\n",
        "1.  \\\\({\\bf A} = {\\bf LU}\\\\)\n",
        "2.  \\\\({\\bf L}\\\\) is a lower-triangular matrix with all diagonal entries equal to 1\n",
        "3.  \\\\({\\bf U}\\\\) is an upper-triangular matrix.\n",
        "\n",
        "The LU decomposition may not exist for a matrix \\\\({\\bf A}\\\\). The LU decomposition provides an efficient means of solving linear equations.\n",
        "\n",
        "\n",
        "## Solving LU-Decomposed Linear Systems\n",
        "\n",
        "---\n",
        "\n",
        "Knowing the LU decomposition for a matrix \\\\({\\bf A}\\\\) allows us to solve the linear system \\\\({\\bf A x} = {\\bf b}\\\\) using a combination of forward and back substitution:\n",
        "\n",
        "$$\\begin{aligned} {\\bf A x} &= {\\bf b} \\\\\\\\ {\\bf L U x} &= {\\bf b} \\\\\\\\ {\\bf U x} &= {\\bf L}^{-1} {\\bf b} \\\\\\\\ {\\bf x} &= {\\bf U}^{-1} ({\\bf L}^{-1} {\\bf b}), \\end{aligned}$$\n",
        "\n",
        "where we first evaluate \\\\({\\bf L}^{-1} {\\bf b}\\\\) using forward substitution and then evaluate \\\\({\\bf x} = {\\bf U}^{-1} ({\\bf L}^{-1} {\\bf b})\\\\) using back substitution.\n",
        "\n",
        "An equivalent way to write this is to introduce a new vector \\\\({\\bf y}\\\\) defined by \\\\(\\bf{y} = {\\bf U x}\\\\). Assuming the LU factorization of matrix \\\\(\\bf{A}\\\\) is known, we can solve the general system\n",
        "\n",
        "$$\\bf{LU \\hspace{1mm} x = b}$$\n",
        "\n",
        "By solving two triangular systems:\n",
        "\n",
        "$$\\bf{Ly=b} \\hspace{5mm} {\\Rightarrow^{\\text{Solve for } \\bf{y}}} \\hspace{5mm} \\text{Forward substitution with complexity } O(n^2)$$\n",
        "$$\\bf{Ux=y} \\hspace{5mm} {\\Rightarrow^{\\text{Solve for } \\bf{x}}} \\hspace{5mm} \\text{Back substitution with complexity } O(n^2)$$\n",
        "\n",
        "We have thus replaced \\\\({\\bf A x} = {\\bf b}\\\\) with _two_ linear systems: \\\\({\\bf L y} = {\\bf b}\\\\) and \\\\({\\bf U x} = {\\bf y}\\\\). These two linear systems can then be solved one after the other using forward and back substitution.\n",
        "The number of operations for the LU algorithm is \\\\(O(n^2)\\\\) as \\\\(n \\to \\infty\\\\).\n",
        "\n",
        "The **_LU solve algorithm_** code for solving the linear system \\\\({\\bf L U x} = {\\bf b}\\\\) is:\n",
        "\n",
        "```\n",
        "import numpy as np\n",
        "def lu_solve(L, U, b):\n",
        "    \"\"\"x = lu_solve(L, U, b) is the solution to L U x = b\n",
        "       L must be a lower-triangular matrix\n",
        "       U must be an upper-triangular matrix of the same size as L\n",
        "       b must be a vector of the same leading dimension as L\n",
        "    \"\"\"\n",
        "    y = forward_sub(L, b)\n",
        "    x = back_sub(U, y)\n",
        "    return x\n",
        "\n",
        "```\n",
        "\n",
        "\n",
        "## The LU Decomposition Algorithm\n",
        "\n",
        "---\n",
        "\n",
        "Given a matrix \\\\({\\bf A}\\\\) there are many different algorithms to find the matrices \\\\({\\bf L}\\\\) and \\\\({\\bf U}\\\\) for the LU decomposition:\n",
        "\n",
        "$$\n",
        "\\begin{aligned} \\begin{bmatrix} a_{11} & \\boldsymbol{a}_{12} \\\\ \\boldsymbol{a}_{21} & {\\bf A}_{22} \\end{bmatrix} &= \\begin{bmatrix} 1 & \\boldsymbol{0} \\\\ \\boldsymbol{\\ell}_{21} & {\\bf L}_{22} \\end{bmatrix} \\begin{bmatrix} u_{11} & \\boldsymbol{u}_{12} \\\\ \\boldsymbol{0} & {\\bf U}_{22} \\end{bmatrix} \\\\ &= \\begin{bmatrix} u_{11} & \\boldsymbol{u}_{12} \\\\ u_{11} \\boldsymbol{\\ell}_{21} & (\\boldsymbol{\\ell}_{21} \\boldsymbol{u}_{12} + {\\bf L}_{22} {\\bf U}_{22}) \\end{bmatrix}, \\end{aligned}\n",
        "$$\n",
        "\n",
        "where the entry $a_{11}$ is a scalar, \\\\(\\boldsymbol{a}_{12}\\\\) is a \\\\(1 \\times (n-1)\\\\) row vector, \\\\(\\boldsymbol{a}_{12}\\\\) is an \\\\((n-1) \\times 1\\\\) column vector, and \\\\({\\bf A}_{22}\\\\) is an \\\\((n-1) \\times (n-1)\\\\) matrix, and:\n",
        "\n",
        "$$\\begin{aligned} a_{11} &= u_{11} \\\\ \\boldsymbol{a}_{12} &= \\boldsymbol{u}_{12} \\\\ \\boldsymbol{a}_{21} &= u_{11} \\boldsymbol{\\ell}_{21} \\\\ A_{22} &= \\boldsymbol{\\ell}_{21} \\boldsymbol{u}_{12} + {\\bf L}_{22} {\\bf U}_{22}. \\end{aligned}$$\n",
        "\n",
        "These four equations can be solved for the components of the \\\\({\\bf L}\\\\) and \\\\({\\bf U}\\\\) matrices as:\n",
        "\n",
        "$$\\begin{aligned} u_{11} &= a_{11}\\\\ \\boldsymbol{u}_{12} &= \\boldsymbol{a}_{12} \\\\ \\boldsymbol{\\ell}_{21} &= \\frac{1}{u_{11}} \\boldsymbol{a}_{21} \\\\ {\\bf L}_{22} {\\bf U}_{22} &= \\underbrace{ {\\bf A}_{22} - \\boldsymbol{a}_{21} (a_{11})^{-1} \\boldsymbol{a}_{12}}_{\\text{ }}. \\end{aligned}$$\n",
        "\n",
        "where the first row of \\\\(\\bf{U}\\\\) is the first row of \\\\(\\bf{A}\\\\),\n",
        "the first column of \\\\(\\bf{L}\\\\) is \\\\(\\frac{\\text{the first column of }\\textbf{A}}{u_{11}}\\\\), and  \\\\({\\bf L}_{22} {\\bf U}_{22}\\\\) needs another factorization.\n",
        "\n",
        "In other words, the first three equations above can be immediately evaluated to give the first row and column of \\\\({\\bf L}\\\\) and \\\\({\\bf U}\\\\). The last equation can then have its right-hand-side evaluated, which gives \\\\({\\bf L}_{22} {\\bf U}_{22} = {\\bf A}_{22} - \\boldsymbol{a}_{21} (a_{11})^{-1} \\boldsymbol{a}_{12}\\\\), which is an \\\\((n-1) \\times (n-1)\\\\) LU decomposition problem which we can be recursively solved:\n",
        "\n",
        "```\n",
        "def lu_decomp(A):\n",
        "    \"\"\"(L, U) = lu_decomp(A) is the LU decomposition A = L U\n",
        "       A is any matrix\n",
        "       L will be a lower-triangular matrix with 1 on the diagonal, the same shape as A\n",
        "       U will be an upper-triangular matrix, the same shape as A\n",
        "    \"\"\"\n",
        "    n = A.shape[0]\n",
        "    if n == 1:\n",
        "        L = np.array([[1]])\n",
        "        U = A.copy()\n",
        "        return (L, U)\n",
        "\n",
        "    A11 = A[0,0]\n",
        "    A12 = A[0,1:]\n",
        "    A21 = A[1:,0]\n",
        "    A22 = A[1:,1:]\n",
        "\n",
        "    L11 = 1\n",
        "    U11 = A11\n",
        "\n",
        "    L12 = np.zeros(n-1)\n",
        "    U12 = A12.copy()\n",
        "\n",
        "    L21 = A21.copy() / U11\n",
        "    U21 = np.zeros(n-1)\n",
        "\n",
        "    S22 = A22 - np.outer(L21, U12)\n",
        "    (L22, U22) = lu_decomp(S22)\n",
        "\n",
        "    L = np.block([[L11, L12], [L21, L22]])\n",
        "    U = np.block([[U11, U12], [U21, U22]])\n",
        "    return (L, U)\n",
        "\n",
        "```\n",
        "\n",
        "Here we also show the non-recursive \"Doolitte\" method:\n",
        "\n",
        "```\n",
        "def lu_decomp(A, LOUD=True):\n",
        "    '''Compute LU (Doolitte) decomposition of A\n",
        "\n",
        "    Args:\n",
        "        A: N by N array\n",
        "\n",
        "    Returns:\n",
        "        L: N by N array\n",
        "        U: N by N array\n",
        "    '''\n",
        "\n",
        "    # Check dimensions\n",
        "    [Nrow, Ncol] = A.shape\n",
        "    assert Nrow == Ncol\n",
        "    N = Nrow\n",
        "\n",
        "    # Allocate L as identify matrix\n",
        "    L = np.eye(N)\n",
        "\n",
        "    # Copy A into U\n",
        "    U = A.copy()\n",
        "\n",
        "    # Loop over columns\n",
        "    for c in range(0,N):\n",
        "\n",
        "        # Loop over rows\n",
        "        for r in range(c+1,N):\n",
        "\n",
        "            # Extract row to modify\n",
        "            mod_row = U[r,:]\n",
        "\n",
        "            # Calculate factor (just like Gaussian Elimination)\n",
        "            factor = mod_row[c]/U[c,c]\n",
        "\n",
        "            # Save factor into L\n",
        "            L[r,c] = factor\n",
        "\n",
        "            # Perform elimination, save into U\n",
        "            mod_row -= factor*U[c]\n",
        "\n",
        "            #mod_row = U[r-1,:]\n",
        "\n",
        "            if LOUD:\n",
        "                print(\"After working on column\",c,\"and row\",r)\n",
        "                print(\"L = \\n\",L)\n",
        "                print(\"U = \\n\",U)\n",
        "                print(\"\\n\")\n",
        "    return L,U\n",
        "```\n",
        "\n",
        "The code for the **_linear solver using LU decomposition_** is:\n",
        "\n",
        "```\n",
        "import numpy as np\n",
        "def linear_solve_without_pivoting(A, b):\n",
        "    \"\"\"x = linear_solve_without_pivoting(A, b) is the solution to A x = b (computed without pivoting)\n",
        "       A is any matrix\n",
        "       b is a vector of the same leading dimension as A\n",
        "       x will be a vector of the same leading dimension as A\n",
        "    \"\"\"\n",
        "    (L, U) = lu_decomp(A)\n",
        "    x = lu_solve(L, U, b)\n",
        "    return x\n",
        "\n",
        "```\n"
      ],
      "metadata": {
        "id": "GYpH2c1prgLO"
      }
    },
    {
      "cell_type": "code",
      "source": [
        "import numpy as np\n",
        "def back_sub(U, b):\n",
        "    \"\"\"x = back_sub(U, b) is the solution to U x = b\n",
        "       U must be an upper-triangular matrix\n",
        "       b must be a vector of the same leading dimension as U\n",
        "    \"\"\"\n",
        "    n = U.shape[0]\n",
        "    x = np.zeros(n)\n",
        "    for i in range(n-1, -1, -1):\n",
        "        tmp = b[i]\n",
        "        for j in range(i+1, n):\n",
        "            tmp -= U[i,j] * x[j]\n",
        "        x[i] = tmp / U[i,i]\n",
        "    return x\n",
        "\n",
        "def forward_sub(L, b):\n",
        "    \"\"\"x = forward_sub(L, b) is the solution to L x = b\n",
        "       L must be a lower-triangular matrix\n",
        "       b must be a vector of the same leading dimension as L\n",
        "    \"\"\"\n",
        "    n = L.shape[0]\n",
        "    x = np.zeros(n)\n",
        "    for i in range(n):\n",
        "        tmp = b[i]\n",
        "        for j in range(i):\n",
        "            tmp -= L[i,j] * x[j]\n",
        "        x[i] = tmp / L[i,i]\n",
        "    return x\n",
        "\n",
        "def lu_solve(L, U, b):\n",
        "    \"\"\"x = lu_solve(L, U, b) is the solution to L U x = b\n",
        "       L must be a lower-triangular matrix\n",
        "       U must be an upper-triangular matrix of the same size as L\n",
        "       b must be a vector of the same leading dimension as L\n",
        "    \"\"\"\n",
        "    y = forward_sub(L, b)\n",
        "    x = back_sub(U, y)\n",
        "    return x\n",
        "\n",
        "def lu_decomp(A, LOUD=True):\n",
        "    '''Compute LU (Doolitte) decomposition of A\n",
        "\n",
        "    Args:\n",
        "        A: N by N array\n",
        "\n",
        "    Returns:\n",
        "        L: N by N array\n",
        "        U: N by N array\n",
        "    '''\n",
        "\n",
        "    # Check dimensions\n",
        "    [Nrow, Ncol] = A.shape\n",
        "    assert Nrow == Ncol\n",
        "    N = Nrow\n",
        "\n",
        "    # Allocate L as identify matrix\n",
        "    L = np.eye(N)\n",
        "\n",
        "    # Copy A into U\n",
        "    U = A.copy()\n",
        "\n",
        "    # Loop over columns\n",
        "    for c in range(0,N):\n",
        "\n",
        "        # Loop over rows\n",
        "        for r in range(c+1,N):\n",
        "\n",
        "            # Extract row to modify\n",
        "            mod_row = U[r,:]\n",
        "\n",
        "            # Calculate factor (just like Gaussian Elimination)\n",
        "            if U[c, c] == 0:\n",
        "                raise ZeroDivisionError(\"Zero pivot encountered. Cannot factorize.\")\n",
        "            factor = mod_row[c]/U[c,c]\n",
        "\n",
        "            # Save factor into L\n",
        "            L[r,c] = factor\n",
        "\n",
        "            # Perform elimination, save into U\n",
        "            mod_row -= factor*U[c]\n",
        "\n",
        "            #mod_row = U[r-1,:]\n",
        "\n",
        "            if LOUD:\n",
        "                print(\"After working on column\",c,\"and row\",r)\n",
        "                print(\"L = \\n\",L)\n",
        "                print(\"U = \\n\",U)\n",
        "                print(\"\\n\")\n",
        "    return L,U\n",
        "\n",
        "def linear_solve_without_pivoting(A, b):\n",
        "    \"\"\"x = linear_solve_without_pivoting(A, b) is the solution to A x = b (computed without pivoting)\n",
        "       A is any matrix\n",
        "       b is a vector of the same leading dimension as A\n",
        "       x will be a vector of the same leading dimension as A\n",
        "    \"\"\"\n",
        "    (L, U) = lu_decomp(A, LOUD = False)\n",
        "    x = lu_solve(L, U, b)\n",
        "    return x"
      ],
      "metadata": {
        "id": "TE6Kr6zBNz5U"
      },
      "execution_count": 5,
      "outputs": []
    },
    {
      "cell_type": "code",
      "source": [
        "A = np.array([[2,1,1,0],[4,3,3,1],[8,7,9,5],[6,7,9,8]], dtype=float)\n",
        "b = np.array([1,2,3,4], dtype=float)\n",
        "linear_solve_without_pivoting(A, b)"
      ],
      "metadata": {
        "colab": {
          "base_uri": "https://localhost:8080/"
        },
        "id": "kJ0PmGa0g_Uq",
        "outputId": "4ee62ba1-4837-4b47-8baa-9b24b9d42711"
      },
      "execution_count": null,
      "outputs": [
        {
          "output_type": "execute_result",
          "data": {
            "text/plain": [
              "array([ 1. ,  0.5, -1.5,  1. ])"
            ]
          },
          "metadata": {},
          "execution_count": 122
        }
      ]
    },
    {
      "cell_type": "code",
      "source": [
        "x = np.linalg.solve(A, b)\n",
        "x"
      ],
      "metadata": {
        "colab": {
          "base_uri": "https://localhost:8080/"
        },
        "id": "B99-UcSkiAEW",
        "outputId": "7b74051c-5dd1-46ea-c46b-9eca1dfb32e1"
      },
      "execution_count": null,
      "outputs": [
        {
          "output_type": "execute_result",
          "data": {
            "text/plain": [
              "array([ 1. ,  0.5, -1.5,  1. ])"
            ]
          },
          "metadata": {},
          "execution_count": 123
        }
      ]
    },
    {
      "cell_type": "code",
      "source": [
        "A = np.random.rand(4,4)\n",
        "print(\"A = \\n\",A,\"\\n\")\n",
        "\n",
        "b = np.random.rand(4)\n",
        "print(\"b = \\n\",b,\"\\n\")\n",
        "\n",
        "x = linear_solve_without_pivoting(A, b)\n",
        "print(x)\n",
        "x = np.linalg.solve(A, b)\n",
        "x"
      ],
      "metadata": {
        "colab": {
          "base_uri": "https://localhost:8080/"
        },
        "id": "MojPp1bCjDm1",
        "outputId": "00195602-78d8-4bfa-d980-88d4d4804e9f"
      },
      "execution_count": null,
      "outputs": [
        {
          "output_type": "stream",
          "name": "stdout",
          "text": [
            "A = \n",
            " [[0.1965432  0.11113026 0.80172531 0.17799968]\n",
            " [0.89522935 0.00303988 0.57767951 0.26762565]\n",
            " [0.76160007 0.09370908 0.99663928 0.23327586]\n",
            " [0.09835395 0.98691889 0.98646141 0.02524747]] \n",
            "\n",
            "b = \n",
            " [0.9435315  0.54379972 0.06352596 0.17030429] \n",
            "\n",
            "[-2.32290418  1.23911981 -1.14947183 12.26934458]\n"
          ]
        },
        {
          "output_type": "execute_result",
          "data": {
            "text/plain": [
              "array([-2.32290418,  1.23911981, -1.14947183, 12.26934458])"
            ]
          },
          "metadata": {},
          "execution_count": 124
        }
      ]
    },
    {
      "cell_type": "code",
      "source": [
        "#Example: Matrix for which LU Decomposition Fails\n",
        "\n",
        "A = np.array([[2 , 8 , 4 , 1],[1 , 4 , 3 , 3],[1 , 2 , 6 , 2],[1 , 3 , 4 , 2]], dtype=float)\n",
        "b = np.array([1,2,3,4], dtype=float)\n",
        "x = linear_solve_without_pivoting(A, b)\n",
        "print(x)"
      ],
      "metadata": {
        "colab": {
          "base_uri": "https://localhost:8080/",
          "height": 355
        },
        "id": "7FIgp2_4BLrS",
        "outputId": "b4539e6c-42f4-48b2-f55b-ca414378236e"
      },
      "execution_count": null,
      "outputs": [
        {
          "output_type": "error",
          "ename": "ZeroDivisionError",
          "evalue": "Zero pivot encountered. Cannot factorize.",
          "traceback": [
            "\u001b[0;31m---------------------------------------------------------------------------\u001b[0m",
            "\u001b[0;31mZeroDivisionError\u001b[0m                         Traceback (most recent call last)",
            "\u001b[0;32m/tmp/ipython-input-4126871514.py\u001b[0m in \u001b[0;36m<cell line: 0>\u001b[0;34m()\u001b[0m\n\u001b[1;32m      1\u001b[0m \u001b[0mA\u001b[0m \u001b[0;34m=\u001b[0m \u001b[0mnp\u001b[0m\u001b[0;34m.\u001b[0m\u001b[0marray\u001b[0m\u001b[0;34m(\u001b[0m\u001b[0;34m[\u001b[0m\u001b[0;34m[\u001b[0m\u001b[0;36m2\u001b[0m \u001b[0;34m,\u001b[0m \u001b[0;36m8\u001b[0m \u001b[0;34m,\u001b[0m \u001b[0;36m4\u001b[0m \u001b[0;34m,\u001b[0m \u001b[0;36m1\u001b[0m\u001b[0;34m]\u001b[0m\u001b[0;34m,\u001b[0m\u001b[0;34m[\u001b[0m\u001b[0;36m1\u001b[0m \u001b[0;34m,\u001b[0m \u001b[0;36m4\u001b[0m \u001b[0;34m,\u001b[0m \u001b[0;36m3\u001b[0m \u001b[0;34m,\u001b[0m \u001b[0;36m3\u001b[0m\u001b[0;34m]\u001b[0m\u001b[0;34m,\u001b[0m\u001b[0;34m[\u001b[0m\u001b[0;36m1\u001b[0m \u001b[0;34m,\u001b[0m \u001b[0;36m2\u001b[0m \u001b[0;34m,\u001b[0m \u001b[0;36m6\u001b[0m \u001b[0;34m,\u001b[0m \u001b[0;36m2\u001b[0m\u001b[0;34m]\u001b[0m\u001b[0;34m,\u001b[0m\u001b[0;34m[\u001b[0m\u001b[0;36m1\u001b[0m \u001b[0;34m,\u001b[0m \u001b[0;36m3\u001b[0m \u001b[0;34m,\u001b[0m \u001b[0;36m4\u001b[0m \u001b[0;34m,\u001b[0m \u001b[0;36m2\u001b[0m\u001b[0;34m]\u001b[0m\u001b[0;34m]\u001b[0m\u001b[0;34m,\u001b[0m \u001b[0mdtype\u001b[0m\u001b[0;34m=\u001b[0m\u001b[0mfloat\u001b[0m\u001b[0;34m)\u001b[0m\u001b[0;34m\u001b[0m\u001b[0;34m\u001b[0m\u001b[0m\n\u001b[1;32m      2\u001b[0m \u001b[0mb\u001b[0m \u001b[0;34m=\u001b[0m \u001b[0mnp\u001b[0m\u001b[0;34m.\u001b[0m\u001b[0marray\u001b[0m\u001b[0;34m(\u001b[0m\u001b[0;34m[\u001b[0m\u001b[0;36m1\u001b[0m\u001b[0;34m,\u001b[0m\u001b[0;36m2\u001b[0m\u001b[0;34m,\u001b[0m\u001b[0;36m3\u001b[0m\u001b[0;34m,\u001b[0m\u001b[0;36m4\u001b[0m\u001b[0;34m]\u001b[0m\u001b[0;34m,\u001b[0m \u001b[0mdtype\u001b[0m\u001b[0;34m=\u001b[0m\u001b[0mfloat\u001b[0m\u001b[0;34m)\u001b[0m\u001b[0;34m\u001b[0m\u001b[0;34m\u001b[0m\u001b[0m\n\u001b[0;32m----> 3\u001b[0;31m \u001b[0mx\u001b[0m \u001b[0;34m=\u001b[0m \u001b[0mlinear_solve_without_pivoting\u001b[0m\u001b[0;34m(\u001b[0m\u001b[0mA\u001b[0m\u001b[0;34m,\u001b[0m \u001b[0mb\u001b[0m\u001b[0;34m)\u001b[0m\u001b[0;34m\u001b[0m\u001b[0;34m\u001b[0m\u001b[0m\n\u001b[0m\u001b[1;32m      4\u001b[0m \u001b[0mprint\u001b[0m\u001b[0;34m(\u001b[0m\u001b[0mx\u001b[0m\u001b[0;34m)\u001b[0m\u001b[0;34m\u001b[0m\u001b[0;34m\u001b[0m\u001b[0m\n",
            "\u001b[0;32m/tmp/ipython-input-1873965833.py\u001b[0m in \u001b[0;36mlinear_solve_without_pivoting\u001b[0;34m(A, b)\u001b[0m\n\u001b[1;32m     95\u001b[0m        \u001b[0mx\u001b[0m \u001b[0mwill\u001b[0m \u001b[0mbe\u001b[0m \u001b[0ma\u001b[0m \u001b[0mvector\u001b[0m \u001b[0mof\u001b[0m \u001b[0mthe\u001b[0m \u001b[0msame\u001b[0m \u001b[0mleading\u001b[0m \u001b[0mdimension\u001b[0m \u001b[0;32mas\u001b[0m \u001b[0mA\u001b[0m\u001b[0;34m\u001b[0m\u001b[0;34m\u001b[0m\u001b[0m\n\u001b[1;32m     96\u001b[0m     \"\"\"\n\u001b[0;32m---> 97\u001b[0;31m     \u001b[0;34m(\u001b[0m\u001b[0mL\u001b[0m\u001b[0;34m,\u001b[0m \u001b[0mU\u001b[0m\u001b[0;34m)\u001b[0m \u001b[0;34m=\u001b[0m \u001b[0mlu_decomp\u001b[0m\u001b[0;34m(\u001b[0m\u001b[0mA\u001b[0m\u001b[0;34m,\u001b[0m \u001b[0mLOUD\u001b[0m \u001b[0;34m=\u001b[0m \u001b[0;32mFalse\u001b[0m\u001b[0;34m)\u001b[0m\u001b[0;34m\u001b[0m\u001b[0;34m\u001b[0m\u001b[0m\n\u001b[0m\u001b[1;32m     98\u001b[0m     \u001b[0mx\u001b[0m \u001b[0;34m=\u001b[0m \u001b[0mlu_solve\u001b[0m\u001b[0;34m(\u001b[0m\u001b[0mL\u001b[0m\u001b[0;34m,\u001b[0m \u001b[0mU\u001b[0m\u001b[0;34m,\u001b[0m \u001b[0mb\u001b[0m\u001b[0;34m)\u001b[0m\u001b[0;34m\u001b[0m\u001b[0;34m\u001b[0m\u001b[0m\n\u001b[1;32m     99\u001b[0m     \u001b[0;32mreturn\u001b[0m \u001b[0mx\u001b[0m\u001b[0;34m\u001b[0m\u001b[0;34m\u001b[0m\u001b[0m\n",
            "\u001b[0;32m/tmp/ipython-input-1873965833.py\u001b[0m in \u001b[0;36mlu_decomp\u001b[0;34m(A, LOUD)\u001b[0m\n\u001b[1;32m     71\u001b[0m             \u001b[0;31m# Calculate factor (just like Gaussian Elimination)\u001b[0m\u001b[0;34m\u001b[0m\u001b[0;34m\u001b[0m\u001b[0m\n\u001b[1;32m     72\u001b[0m             \u001b[0;32mif\u001b[0m \u001b[0mU\u001b[0m\u001b[0;34m[\u001b[0m\u001b[0mc\u001b[0m\u001b[0;34m,\u001b[0m \u001b[0mc\u001b[0m\u001b[0;34m]\u001b[0m \u001b[0;34m==\u001b[0m \u001b[0;36m0\u001b[0m\u001b[0;34m:\u001b[0m\u001b[0;34m\u001b[0m\u001b[0;34m\u001b[0m\u001b[0m\n\u001b[0;32m---> 73\u001b[0;31m                 \u001b[0;32mraise\u001b[0m \u001b[0mZeroDivisionError\u001b[0m\u001b[0;34m(\u001b[0m\u001b[0;34m\"Zero pivot encountered. Cannot factorize.\"\u001b[0m\u001b[0;34m)\u001b[0m\u001b[0;34m\u001b[0m\u001b[0;34m\u001b[0m\u001b[0m\n\u001b[0m\u001b[1;32m     74\u001b[0m             \u001b[0mfactor\u001b[0m \u001b[0;34m=\u001b[0m \u001b[0mmod_row\u001b[0m\u001b[0;34m[\u001b[0m\u001b[0mc\u001b[0m\u001b[0;34m]\u001b[0m\u001b[0;34m/\u001b[0m\u001b[0mU\u001b[0m\u001b[0;34m[\u001b[0m\u001b[0mc\u001b[0m\u001b[0;34m,\u001b[0m\u001b[0mc\u001b[0m\u001b[0;34m]\u001b[0m\u001b[0;34m\u001b[0m\u001b[0;34m\u001b[0m\u001b[0m\n\u001b[1;32m     75\u001b[0m \u001b[0;34m\u001b[0m\u001b[0m\n",
            "\u001b[0;31mZeroDivisionError\u001b[0m: Zero pivot encountered. Cannot factorize."
          ]
        }
      ]
    },
    {
      "cell_type": "markdown",
      "source": [
        "### Pivoting\n",
        "\n",
        "---\n",
        "\n",
        "The LU decomposition can fail when the pivot entry in the matrix \\\\({\\bf A}\\\\) is zero or very small compared to other entries. **_Pivoting_** the will be required to mitigate this problem by rearranging the rows and/or columns of \\\\({\\bf A}\\\\). Here we will only discuss **_simple pivoting_**.\n",
        "\n",
        "\n",
        "## LU Decomposition with Pivoting\n",
        "\n",
        "---\n",
        "\n",
        "For simplicity, we will exchange any row that has a zero on the diagonal with the first row below it that has a nonzero number in that column. Here we have to keep track of the row exchanges by creating a permutation matrix, $\\bf P$, by performing the same row exchanges to an identity matrix.\n",
        "\n",
        "Consider the matrices \\\\({\\bf L}\\\\), \\\\({\\bf U}\\\\), and \\\\({\\bf P}\\\\) such that:\n",
        "\\\\({\\bf P A} = {\\bf LU} \\\\), where \\\\({\\bf P}\\\\) is an \\\\(n \\times n\\\\) permutation matrix. The permutation matrix \\\\({\\bf P}\\\\) acts to permute the rows of \\\\({\\bf A}\\\\).\n",
        "\n",
        "### Solving LUP decomposition linear systems\n",
        "\n",
        "---\n",
        "\n",
        "Knowing the LUP decomposition for a matrix \\\\({\\bf A}\\\\) allows us to solve the linear system \\\\({\\bf A x} = {\\bf b}\\\\) by first applying \\\\({\\bf P}\\\\) and then using the LU solver. In equations we start by taking \\\\({\\bf A x} = {\\bf b}\\\\) and multiplying both sides by \\\\({\\bf P}\\\\), giving\n",
        "\n",
        "$$\\begin{aligned} {\\bf Ax} &= {\\bf b} \\\\ {\\bf PAx} &= {\\bf Pb} \\\\ {\\bf LUx} &= {\\bf Pb}. \\end{aligned}$$\n",
        "\n",
        "The code for the **_LUP solve algorithm_** to solve the linear system \\\\({\\bf L U x} = {\\bf P b}\\\\) is:\n"
      ],
      "metadata": {
        "id": "Phnrn94ouNPS"
      }
    },
    {
      "cell_type": "code",
      "source": [
        "def lup_decomp(A):\n",
        "\n",
        "    #Get the number of rows\n",
        "    n = A.shape[0]\n",
        "\n",
        "    #Allocate space for P, L, and U\n",
        "    U = A.copy()\n",
        "    L = np.eye(n, dtype=np.double)\n",
        "    P = np.eye(n, dtype=np.double)\n",
        "\n",
        "    #Loop over rows\n",
        "    for i in range(n):\n",
        "\n",
        "        #Permute rows if needed\n",
        "        for k in range(i, n):\n",
        "            if ~np.isclose(U[i, i], 0.0):\n",
        "                break\n",
        "            U[[k, k+1]] = U[[k+1, k]]\n",
        "            P[[k, k+1]] = P[[k+1, k]]\n",
        "\n",
        "        #Eliminate entries below i with row\n",
        "        #operations on U and #reverse the row\n",
        "        #operations to manipulate L\n",
        "        factor = U[i+1:, i] / U[i, i]\n",
        "        L[i+1:, i] = factor\n",
        "        U[i+1:] -= factor[:, np.newaxis] * U[i]\n",
        "\n",
        "    return P, L, U\n",
        "\n",
        "def lup_solve(P, L, U, b):\n",
        "    \"\"\"x = lu_solve(L, U, b) is the solution to L U x = b\n",
        "       L must be a lower-triangular matrix\n",
        "       U must be an upper-triangular matrix of the same size as L\n",
        "       b must be a vector of the same leading dimension as L\n",
        "    \"\"\"\n",
        "    y = forward_sub(L, np.dot(P, b))\n",
        "    x = back_sub(U, y)\n",
        "    return x\n",
        "\n",
        "def linear_solve_with_pivoting(A, b):\n",
        "    \"\"\"x = linear_solve_without_pivoting(A, b) is the solution to A x = b (computed without pivoting)\n",
        "       A is any matrix\n",
        "       b is a vector of the same leading dimension as A\n",
        "       x will be a vector of the same leading dimension as A\n",
        "    \"\"\"\n",
        "    (P, L, U) = lup_decomp(A)\n",
        "    x = lup_solve(P, L, U, b)\n",
        "    return x\n",
        "\n",
        "A = np.array([[2 , 8 , 4 , 1],[1 , 4 , 3 , 3],[1 , 2 , 6 , 2],[1 , 3 , 4 , 2]], dtype=float)\n",
        "b = np.array([1,2,3,4], dtype=float)\n",
        "x = linear_solve_with_pivoting(A, b)\n",
        "print(x)\n",
        "\n",
        "x = np.linalg.solve(A, b)\n",
        "x\n"
      ],
      "metadata": {
        "colab": {
          "base_uri": "https://localhost:8080/"
        },
        "id": "9ok1rd4wDxoR",
        "outputId": "8f4c9f1f-44a8-4850-fae0-93c2ced27b3a"
      },
      "execution_count": 6,
      "outputs": [
        {
          "output_type": "stream",
          "name": "stdout",
          "text": [
            "[ 55. -11.  -6.   3.]\n"
          ]
        },
        {
          "output_type": "execute_result",
          "data": {
            "text/plain": [
              "array([ 55., -11.,  -6.,   3.])"
            ]
          },
          "metadata": {},
          "execution_count": 6
        }
      ]
    },
    {
      "cell_type": "markdown",
      "source": [
        "## Perform LUP decomposition using scipy\n"
      ],
      "metadata": {
        "id": "LJHu0We1SFxO"
      }
    },
    {
      "cell_type": "code",
      "source": [
        "# Perform LUP decomposition using scipy\n",
        "(P, L, U) = la.lu(A)\n",
        "print(\"P = \\n\",P)\n",
        "print(\"L = \\n\",L)\n",
        "print(\"U = \\n\",U)"
      ],
      "metadata": {
        "colab": {
          "base_uri": "https://localhost:8080/"
        },
        "id": "MlOaHxPHSICS",
        "outputId": "eb6ca76b-77c4-4748-f18f-4a5823924dcb"
      },
      "execution_count": 8,
      "outputs": [
        {
          "output_type": "stream",
          "name": "stdout",
          "text": [
            "P = \n",
            " [[1. 0. 0. 0.]\n",
            " [0. 0. 1. 0.]\n",
            " [0. 1. 0. 0.]\n",
            " [0. 0. 0. 1.]]\n",
            "L = \n",
            " [[ 1.   0.   0.   0. ]\n",
            " [ 0.5  1.   0.   0. ]\n",
            " [ 0.5 -0.   1.   0. ]\n",
            " [ 0.5  0.5  0.   1. ]]\n",
            "U = \n",
            " [[ 2.    8.    4.    1.  ]\n",
            " [ 0.   -2.    4.    1.5 ]\n",
            " [ 0.    0.    1.    2.5 ]\n",
            " [ 0.    0.    0.    0.75]]\n"
          ]
        }
      ]
    },
    {
      "cell_type": "markdown",
      "metadata": {
        "id": "ch5ddhDKHXH3"
      },
      "source": [
        "### Matrix Transpose\n",
        "\n",
        "The *transpose* of $A$ $\\in$ $\\mathbb{R}^{n \\times m}$ is $A^T$ $\\in$ $\\mathbb{R}^{m \\times n}$ with the rows and columns of A interchanged, i.e.$ \\mathbf{\\{A^T\\}_{ij}} =  \\mathbf{\\{A\\}_{ji}}$.\n",
        "\n",
        "<div style=\"background-color: rgba(0,255,0,0.05) ; padding: 10px; border: 1px solid darkgreen;\">\n",
        "<b>Class Activity</b>: Calculate ${\\bf P}^{T}$, ${\\bf P}^{-1}$, ${\\bf P}^{T}{\\bf P}$. Describe your observation. Is $\\bf P$ an orthogonal matrix? (An orthogonal $A$ matrix satisfies $A^TA = I$)\n",
        "</div>"
      ]
    },
    {
      "cell_type": "markdown",
      "source": [
        "\n",
        "**Class Activity**: Is $Q$ matrix below an orthogonal matrix?\n"
      ],
      "metadata": {
        "id": "Xy87YgldkLBf"
      }
    },
    {
      "cell_type": "code",
      "execution_count": null,
      "metadata": {
        "tags": [
          "remove-output"
        ],
        "id": "MpnCwrroHXIC",
        "outputId": "900c41bc-b043-4c3e-8d34-7f7856e2f580"
      },
      "outputs": [
        {
          "name": "stdout",
          "output_type": "stream",
          "text": [
            "Q = \n",
            "[[ 0.98006658 -0.19866933]\n",
            " [ 0.19866933  0.98006658]]\n",
            "Qinv = \n",
            " [[ 0.98006658  0.19866933]\n",
            " [-0.19866933  0.98006658]]\n",
            "Q^T = \n",
            " [[ 0.98006658  0.19866933]\n",
            " [-0.19866933  0.98006658]]\n"
          ]
        }
      ],
      "source": [
        "# Create Q\n",
        "theta = 0.2\n",
        "Q = np.array([(np.cos(theta), -np.sin(theta)),(np.sin(theta),np.cos(theta))])\n",
        "print(\"Q = \")\n",
        "print(Q)\n",
        "\n",
        "# Verification\n",
        "### BEGIN SOLUTION\n",
        "print(\"Qinv = \\n\", linalg.inv(Q))\n",
        "print(\"Q^T = \\n\", Q.transpose())\n",
        "### END SOLUTION"
      ]
    },
    {
      "cell_type": "markdown",
      "metadata": {
        "id": "kgOPVymKrnKR"
      },
      "source": [
        "## Determinant of a Matrix"
      ]
    },
    {
      "cell_type": "markdown",
      "metadata": {
        "id": "UY98KBf6rnKR"
      },
      "source": [
        "You might recall from linear algebra that there are several ways of computing the determinant of a matrix (e.g. Leibniz formula, Laplace formula, Cramer's rule, etc.); however, none of these are as computationally efficient as using the $\\mathbf{LU}$ decomposition and a few properties of determinants to compute the determinate of a matrix $\\mathbf{A}$. Recall,"
      ]
    },
    {
      "cell_type": "markdown",
      "metadata": {
        "id": "cbshu7DernKR"
      },
      "source": [
        "For $\\mathbf{A = LU}, \\implies \\det(\\mathbf{A}) = \\det(\\mathbf{L})\\det(\\mathbf{U})$"
      ]
    },
    {
      "cell_type": "markdown",
      "metadata": {
        "id": "szOC4zoArnKR"
      },
      "source": [
        "where for an upper (or lower) triangular matrix, the determinate of the matrix is simply the product of the diagonal entries. Therefore, if we solve for $\\mathbf{L}$ and $\\mathbf{U}$, where there are 1's on the diagonal of the $\\mathbf{L}$ matrix, then the determinate of $\\mathbf{L}$ is 1. Thus,"
      ]
    },
    {
      "cell_type": "markdown",
      "metadata": {
        "id": "sZ7GVa1nrnKR"
      },
      "source": [
        "$$\\det(\\mathbf{A}) = 1 \\cdot \\det(\\mathbf{U}) = \\prod_{j=1}^{n}u_{jj}$$"
      ]
    },
    {
      "cell_type": "markdown",
      "metadata": {
        "id": "1RRihvj5rnKR"
      },
      "source": [
        "Similarly, for a $\\mathbf{PLU}$ decomposition,\n",
        "\n",
        "$$\\det(\\mathbf{A}) = \\det(\\mathbf{P})\\det(\\mathbf{L})\\det(\\mathbf{U}) = \\det(\\mathbf{P})\\cdot\\prod_{j=1}^{n}u_{jj}$$\n",
        "\n",
        "where\n",
        "$$\n",
        "\\det(\\mathbf{P}) =\n",
        "\\begin{cases}\n",
        "1, & \\textrm{for even number of permutations} \\\\\n",
        "-1,& \\textrm{for odd number of permutations}\n",
        "\\end{cases}\n",
        "$$"
      ]
    },
    {
      "cell_type": "markdown",
      "source": [
        "**Class Activity**: Find the determinant of the $\\bf A$:\n"
      ],
      "metadata": {
        "id": "iEVlOcvPvNGI"
      }
    },
    {
      "cell_type": "code",
      "source": [
        "# a matrix and its det\n",
        "M = 6\n",
        "A = np.random.randn(M,M)\n",
        "\n",
        "# LU\n",
        "P,L,U = la.lu(A)\n",
        "\n",
        "# determinant as the product of the diagonals of U\n",
        "detLU = np.prod( np.diag(U) ) * np.linalg.det(P)\n",
        "\n",
        "# check against the det function\n",
        "detNP = np.linalg.det(A)\n",
        "\n",
        "# compare\n",
        "print(detLU,detNP)\n",
        "print(detLU-detNP)"
      ],
      "metadata": {
        "id": "Vu6vRVJkyJdV",
        "colab": {
          "base_uri": "https://localhost:8080/"
        },
        "outputId": "72787bf1-5609-439d-c8e1-f2960fb45d06"
      },
      "execution_count": 10,
      "outputs": [
        {
          "output_type": "stream",
          "name": "stdout",
          "text": [
            "-5.146189112870946 -5.146189112870946\n",
            "0.0\n"
          ]
        }
      ]
    },
    {
      "cell_type": "markdown",
      "metadata": {
        "tags": [],
        "id": "54iIdZnzdUHh"
      },
      "source": [
        "## Summary\n",
        "\n",
        "LU factorization is *very* similar to Gaussian elimination:\n",
        " * $\\mathbf{L}$ matrix saves the scaling factors from Gaussian elimination\n",
        " * $\\mathbf{U}$ matrix is the same as the reduced matrix\n",
        " * $\\mathbf{L}$ and $\\mathbf{U}$ save all of the steps from matrix reduction, making LU factorization efficient to resolve $\\mathbf{A} \\vec{x} = \\vec{b}$ for many different $\\vec{b}$\n",
        " * Partial pivoting works the same way for both LU factorization and Gaussian elimination\n",
        "\n",
        "Solving a linear system with LU factorization is easy:\n",
        " * First, perform forward substitution, which exploits that $\\mathbf{L}$ is lower triangular\n",
        " * Second, perform backward substitution, which exploits that $\\mathbf{U}$ is upper triangular"
      ]
    },
    {
      "cell_type": "markdown",
      "source": [
        "## Invertable Matrix Theorem\n",
        "\n",
        "Let $A$ be a square $n \\times n$ identity matrix. Then the following statements are equivalent:\n",
        "\n",
        "a. $A$ is an invertible matrix.\n",
        "\n",
        "b. $A$ is row equivalent to the $n \\times n$ identity matrix.\n",
        "\n",
        "c. $A$ has $n$ pivot positions.\n",
        "\n",
        "d. The equation $Ax = 0$ has only the trivial solution.\n",
        "\n",
        "e. The columns of $A$ form a linearly independent set.\n",
        "\n",
        "f. The linear transformation $x\\longmapsto Ax$ is one-to-one.\n",
        "\n",
        "g. The equation $Ax = b$ has at least one solution for each $b$ in $\\mathbb{R}^n$.\n",
        "\n",
        "h. The columns of $A$ span $\\mathbb{R}^n$.\n",
        "\n",
        "i. The linear transformation $x\\longmapsto Ax$ maps $\\mathbb{R}^n$ onto $\\mathbb{R}^n$.\n",
        "\n",
        "j. There is an $n \\times n$ matrix $C$ such that $CA = I$.\n",
        "\n",
        "k. There is an $n \\times n$ matrix $D$ such that $AD = I$.\n",
        "\n",
        "l. $A^T$ is an invertible matrix.\n",
        "\n",
        "**Let $A$ be an $n \\times n$ matrix. Then the following statements are each equivalent to the statement that $A$ is an invertible matrix.**\n",
        "\n",
        "m. The columns of $A$ form a basis of $\\mathbb{R}^n$.\n",
        "\n",
        "n. Col$A$ = $\\mathbb{R}^n$\n",
        "\n",
        "o. dim Col$A$ = $n$\n",
        "\n",
        "p. rank $A$ = $n$\n",
        "\n",
        "q. Nul$A$ = $\\{0\\}$\n",
        "\n",
        "r. dim Nul$A$ = $0$\n",
        "\n",
        "**Let $A$ be an $n \\times n$ matrix. Then $A$ is invertible if and only if:**\n",
        "\n",
        "s. The number 0 is *not* an eigenvalue of $A$.\n",
        "\n",
        "t. The determinant of $A$ is *not* zero.\n",
        "\n",
        "**Let $A$ be an $n \\times n$ matrix. Then the following statements are each equivalent to the statement that $A$ is an invertible matrix.**\n",
        "\n",
        "u. (Col$A$)$^\\perp$ = $\\{0\\}$.\n",
        "\n",
        "v. (Nul$A$)$^\\perp$ = $\\mathbb{R}^n$.\n",
        "\n",
        "w. Row$A$ = $\\mathbb{R}^n$.\n",
        "\n",
        "x. $A$ has $n$ nonzero singular values."
      ],
      "metadata": {
        "id": "QJdfvE0nwoBS"
      }
    },
    {
      "cell_type": "markdown",
      "metadata": {
        "id": "6bNbh048hB8E"
      },
      "source": [
        "# Matrix Multiplication\n",
        "\n",
        "\n",
        "Matrix-vector multiplication is a fundamental operation in machine learning, particularly within the context of neural networks and various linear algebra-based algorithms. It forms the core of many computations, especially during the forward and backward passes of neural networks.\n",
        "\n",
        "#### Example:\n",
        "Linear Layers (Dense Layers): The primary computation in a linear layer involves multiplying an input vector (or a batch of input vectors represented as a matrix) by a weight matrix. This operation calculates the weighted sum of inputs for each neuron in the layer.\n",
        "$$\n",
        "\\mathbf{Y} = w_0 + X\\,w\n",
        "$$\n",
        "\n",
        "Multiplying two matrices $A$ $\\in$ $\\mathbb{R}^{n \\times m}$ and $B$ $\\in$ $\\mathbb{R}^{m \\times p}$ leads to the product $C \\in$ $\\mathbb{R}^{n \\times p}$ with elements $ \\mathbf{\\{C\\}_{ij}}$ = $\\sum_{k=1}^m  \\mathbf{\\{A\\}_{ik}}  \\mathbf{\\{B\\}_{kj}}$. This operation is defined only if the number of columns in $A$ and rows of $B$ is the same."
      ]
    },
    {
      "cell_type": "code",
      "source": [
        "#n = 4096\n",
        "n = 32\n",
        "A = np.array(np.random.randn(n,n), order='F')\n",
        "B = np.array(np.random.randn(n,n), order='F')\n",
        "\n",
        "A.shape[1] == B.shape[0] # ensures two matrices are compatible\n",
        "\n",
        "C = np.zeros((n,n))\n",
        "\n",
        "for i in range(n):\n",
        "  for k in range(n):\n",
        "    for j in range(n):\n",
        "      C[i,k]= C[i,k] + A[i,j]*B[j,k]\n",
        "\n",
        "np.linalg.norm(A@B - C)"
      ],
      "metadata": {
        "colab": {
          "base_uri": "https://localhost:8080/"
        },
        "id": "F5Rl7gdtgSVY",
        "outputId": "4ecb3e6a-3e7b-4219-82b2-8aeae2a8e5ea"
      },
      "execution_count": null,
      "outputs": [
        {
          "output_type": "execute_result",
          "data": {
            "text/plain": [
              "np.float64(3.0350759810859074e-14)"
            ]
          },
          "metadata": {},
          "execution_count": 7
        }
      ]
    },
    {
      "cell_type": "markdown",
      "metadata": {
        "id": "lv9j-2NlhB8E"
      },
      "source": [
        "<div style=\"background-color: rgba(0,255,0,0.05) ; padding: 10px; border: 1px solid darkgreen;\">\n",
        "<b>Class Activity</b>: What is the computational time for using the code above for matrix multiplication?\n",
        "</div>"
      ]
    },
    {
      "cell_type": "markdown",
      "metadata": {
        "id": "yW8L4OdshB8F"
      },
      "source": [
        "Below are various ways of multiplying matrices:"
      ]
    },
    {
      "cell_type": "code",
      "source": [
        "%timeit C_np = np.matmul(A,B) # numpy"
      ],
      "metadata": {
        "colab": {
          "base_uri": "https://localhost:8080/"
        },
        "id": "GZHBo7MSgd7a",
        "outputId": "fc417af6-77a5-46b7-f0a0-0f1eb27702d7"
      },
      "execution_count": null,
      "outputs": [
        {
          "output_type": "stream",
          "name": "stdout",
          "text": [
            "4.53 µs ± 159 ns per loop (mean ± std. dev. of 7 runs, 100000 loops each)\n"
          ]
        }
      ]
    },
    {
      "cell_type": "markdown",
      "source": [
        "## View Your Configuration\n",
        "\n",
        "You can view what BLAS and LAPACK libraries NumPy is using.\n",
        "The command ``np.__config__.show()`` in NumPy displays information about the libraries and system details on which the NumPy installation was built. This includes details about the linked BLAS (Basic Linear Algebra Subprograms) and LAPACK (Linear Algebra Package) implementations, which are crucial for high-performance numerical computations in NumPy.\n"
      ],
      "metadata": {
        "id": "UEizpkRjJiuT"
      }
    },
    {
      "cell_type": "code",
      "source": [
        "print(np.__config__.show())\n",
        "print(sp.__config__.show())"
      ],
      "metadata": {
        "colab": {
          "base_uri": "https://localhost:8080/"
        },
        "id": "5i3wcUxIJoiR",
        "outputId": "35811868-f5d8-431e-8100-423edd3aa27a"
      },
      "execution_count": null,
      "outputs": [
        {
          "output_type": "stream",
          "name": "stdout",
          "text": [
            "Build Dependencies:\n",
            "  blas:\n",
            "    detection method: pkgconfig\n",
            "    found: true\n",
            "    include directory: /opt/_internal/cpython-3.12.2/lib/python3.12/site-packages/scipy_openblas64/include\n",
            "    lib directory: /opt/_internal/cpython-3.12.2/lib/python3.12/site-packages/scipy_openblas64/lib\n",
            "    name: scipy-openblas\n",
            "    openblas configuration: OpenBLAS 0.3.27  USE64BITINT DYNAMIC_ARCH NO_AFFINITY\n",
            "      Zen MAX_THREADS=64\n",
            "    pc file directory: /project/.openblas\n",
            "    version: 0.3.27\n",
            "  lapack:\n",
            "    detection method: pkgconfig\n",
            "    found: true\n",
            "    include directory: /opt/_internal/cpython-3.12.2/lib/python3.12/site-packages/scipy_openblas64/include\n",
            "    lib directory: /opt/_internal/cpython-3.12.2/lib/python3.12/site-packages/scipy_openblas64/lib\n",
            "    name: scipy-openblas\n",
            "    openblas configuration: OpenBLAS 0.3.27  USE64BITINT DYNAMIC_ARCH NO_AFFINITY\n",
            "      Zen MAX_THREADS=64\n",
            "    pc file directory: /project/.openblas\n",
            "    version: 0.3.27\n",
            "Compilers:\n",
            "  c:\n",
            "    commands: cc\n",
            "    linker: ld.bfd\n",
            "    name: gcc\n",
            "    version: 10.2.1\n",
            "  c++:\n",
            "    commands: c++\n",
            "    linker: ld.bfd\n",
            "    name: gcc\n",
            "    version: 10.2.1\n",
            "  cython:\n",
            "    commands: cython\n",
            "    linker: cython\n",
            "    name: cython\n",
            "    version: 3.0.11\n",
            "Machine Information:\n",
            "  build:\n",
            "    cpu: x86_64\n",
            "    endian: little\n",
            "    family: x86_64\n",
            "    system: linux\n",
            "  host:\n",
            "    cpu: x86_64\n",
            "    endian: little\n",
            "    family: x86_64\n",
            "    system: linux\n",
            "Python Information:\n",
            "  path: /tmp/build-env-8744k94k/bin/python\n",
            "  version: '3.12'\n",
            "SIMD Extensions:\n",
            "  baseline:\n",
            "  - SSE\n",
            "  - SSE2\n",
            "  - SSE3\n",
            "  found:\n",
            "  - SSSE3\n",
            "  - SSE41\n",
            "  - POPCNT\n",
            "  - SSE42\n",
            "  - AVX\n",
            "  - F16C\n",
            "  - FMA3\n",
            "  - AVX2\n",
            "  not found:\n",
            "  - AVX512F\n",
            "  - AVX512CD\n",
            "  - AVX512_KNL\n",
            "  - AVX512_KNM\n",
            "  - AVX512_SKX\n",
            "  - AVX512_CLX\n",
            "  - AVX512_CNL\n",
            "  - AVX512_ICL\n",
            "\n",
            "None\n",
            "Build Dependencies:\n",
            "  blas:\n",
            "    detection method: pkgconfig\n",
            "    found: true\n",
            "    include directory: /opt/_internal/cpython-3.12.11/lib/python3.12/site-packages/scipy_openblas32/include\n",
            "    lib directory: /opt/_internal/cpython-3.12.11/lib/python3.12/site-packages/scipy_openblas32/lib\n",
            "    name: scipy-openblas\n",
            "    openblas configuration: OpenBLAS 0.3.28 DYNAMIC_ARCH NO_AFFINITY Haswell MAX_THREADS=64\n",
            "    pc file directory: /project\n",
            "    version: 0.3.28\n",
            "  lapack:\n",
            "    detection method: pkgconfig\n",
            "    found: true\n",
            "    include directory: /opt/_internal/cpython-3.12.11/lib/python3.12/site-packages/scipy_openblas32/include\n",
            "    lib directory: /opt/_internal/cpython-3.12.11/lib/python3.12/site-packages/scipy_openblas32/lib\n",
            "    name: scipy-openblas\n",
            "    openblas configuration: OpenBLAS 0.3.28 DYNAMIC_ARCH NO_AFFINITY Haswell MAX_THREADS=64\n",
            "    pc file directory: /project\n",
            "    version: 0.3.28\n",
            "  pybind11:\n",
            "    detection method: config-tool\n",
            "    include directory: unknown\n",
            "    name: pybind11\n",
            "    version: 3.0.0\n",
            "Compilers:\n",
            "  c:\n",
            "    commands: cc\n",
            "    linker: ld.bfd\n",
            "    name: gcc\n",
            "    version: 10.2.1\n",
            "  c++:\n",
            "    commands: c++\n",
            "    linker: ld.bfd\n",
            "    name: gcc\n",
            "    version: 10.2.1\n",
            "  cython:\n",
            "    commands: cython\n",
            "    linker: cython\n",
            "    name: cython\n",
            "    version: 3.1.2\n",
            "  fortran:\n",
            "    commands: gfortran\n",
            "    linker: ld.bfd\n",
            "    name: gcc\n",
            "    version: 10.2.1\n",
            "  pythran:\n",
            "    include directory: ../../tmp/build-env-6xfqstu7/lib/python3.12/site-packages/pythran\n",
            "    version: 0.18.0\n",
            "Machine Information:\n",
            "  build:\n",
            "    cpu: x86_64\n",
            "    endian: little\n",
            "    family: x86_64\n",
            "    system: linux\n",
            "  cross-compiled: false\n",
            "  host:\n",
            "    cpu: x86_64\n",
            "    endian: little\n",
            "    family: x86_64\n",
            "    system: linux\n",
            "Python Information:\n",
            "  path: /tmp/build-env-6xfqstu7/bin/python\n",
            "  version: '3.12'\n",
            "\n",
            "None\n"
          ]
        }
      ]
    },
    {
      "cell_type": "code",
      "source": [
        "from scipy.linalg import blas\n",
        "\n",
        "%timeit C_blas = blas.dgemm(1.0, A, B) # blas"
      ],
      "metadata": {
        "colab": {
          "base_uri": "https://localhost:8080/"
        },
        "id": "s-kYpluNgg6W",
        "outputId": "e638dd4c-80d5-416e-c850-c63702967bad"
      },
      "execution_count": null,
      "outputs": [
        {
          "output_type": "stream",
          "name": "stdout",
          "text": [
            "3.01 µs ± 104 ns per loop (mean ± std. dev. of 7 runs, 100000 loops each)\n"
          ]
        }
      ]
    },
    {
      "cell_type": "code",
      "source": [
        "np.linalg.norm(np.matmul(A,B) - blas.dgemm(1.0, A, B))"
      ],
      "metadata": {
        "colab": {
          "base_uri": "https://localhost:8080/"
        },
        "id": "FrWuyXrNoyqa",
        "outputId": "68bc38a9-582e-4c16-f55f-c44a25ea562a"
      },
      "execution_count": null,
      "outputs": [
        {
          "output_type": "execute_result",
          "data": {
            "text/plain": [
              "np.float64(0.0)"
            ]
          },
          "metadata": {},
          "execution_count": 10
        }
      ]
    },
    {
      "cell_type": "code",
      "source": [
        "%timeit C_np = np.dot(A, B) # numpy"
      ],
      "metadata": {
        "colab": {
          "base_uri": "https://localhost:8080/"
        },
        "id": "dy9qop0mhXx9",
        "outputId": "10fd10c3-4a4e-4e2c-ab87-7515342b1f74"
      },
      "execution_count": null,
      "outputs": [
        {
          "output_type": "stream",
          "name": "stdout",
          "text": [
            "3.94 µs ± 111 ns per loop (mean ± std. dev. of 7 runs, 100000 loops each)\n"
          ]
        }
      ]
    },
    {
      "cell_type": "code",
      "source": [
        "%timeit C = A.dot(B) # pyhton"
      ],
      "metadata": {
        "colab": {
          "base_uri": "https://localhost:8080/"
        },
        "id": "NlW5tONylGNG",
        "outputId": "39c217d1-3567-406a-fcda-16b511c58b51"
      },
      "execution_count": null,
      "outputs": [
        {
          "output_type": "stream",
          "name": "stdout",
          "text": [
            "4.58 µs ± 1.08 µs per loop (mean ± std. dev. of 7 runs, 100000 loops each)\n"
          ]
        }
      ]
    },
    {
      "cell_type": "code",
      "source": [
        "%timeit C = A@B # pyhton"
      ],
      "metadata": {
        "colab": {
          "base_uri": "https://localhost:8080/"
        },
        "id": "9sx2XX5XlbUw",
        "outputId": "69c4ce0d-9ec3-4fdf-8e75-d3553251b372"
      },
      "execution_count": null,
      "outputs": [
        {
          "output_type": "stream",
          "name": "stdout",
          "text": [
            "4.39 µs ± 94.9 ns per loop (mean ± std. dev. of 7 runs, 100000 loops each)\n"
          ]
        }
      ]
    },
    {
      "cell_type": "code",
      "source": [
        "import torch\n",
        "A_t = torch.from_numpy(A)\n",
        "B_t = torch.from_numpy(B)\n",
        "\n",
        "%timeit C_p = torch.matmul(A_t, B_t)"
      ],
      "metadata": {
        "colab": {
          "base_uri": "https://localhost:8080/"
        },
        "id": "wMlQyNKth1WV",
        "outputId": "81855f59-f121-40bc-eb24-6301b812e831"
      },
      "execution_count": null,
      "outputs": [
        {
          "output_type": "stream",
          "name": "stdout",
          "text": [
            "7.59 µs ± 1.09 µs per loop (mean ± std. dev. of 7 runs, 100000 loops each)\n"
          ]
        }
      ]
    },
    {
      "cell_type": "code",
      "source": [
        "import tensorflow as tf\n",
        "A_tf = tf.convert_to_tensor(A)\n",
        "B_tf = tf.convert_to_tensor(B)\n",
        "\n",
        "%timeit C_tf = tf.matmul(A_tf, B_tf)"
      ],
      "metadata": {
        "colab": {
          "base_uri": "https://localhost:8080/"
        },
        "id": "4AWU06vxjTJe",
        "outputId": "abe2cf41-db0e-4e2e-bc53-cd4527b82f8d"
      },
      "execution_count": null,
      "outputs": [
        {
          "output_type": "stream",
          "name": "stdout",
          "text": [
            "59.8 µs ± 10.6 µs per loop (mean ± std. dev. of 7 runs, 10000 loops each)\n"
          ]
        }
      ]
    },
    {
      "cell_type": "code",
      "source": [
        "# measure FLOPs of gemm\n",
        "\n",
        "import time\n",
        "\n",
        "n = 4096\n",
        "dtype = np.float64\n",
        "A = np.array(np.random.randn(n, n), dtype=dtype)\n",
        "B = np.array(np.random.randn(n, n), dtype=dtype)\n",
        "print(\"measuring BLAS Level 3 flops using {}\".format(dtype))\n",
        "t0 = time.time()\n",
        "C = blas.sgemm(1.0, A, B)\n",
        "t1 = time.time()\n",
        "print(\"time elapsed = {} sec.\".format(t1 - t0))\n",
        "flops = (2 * n**3) / (t1 - t0) # 2 n**3 FLOP - n multiplications and additions per entry of C\n",
        "print(\"{:e} FLOPS\".format(flops))"
      ],
      "metadata": {
        "colab": {
          "base_uri": "https://localhost:8080/"
        },
        "id": "5ZtrvLrYkIHm",
        "outputId": "94873e39-1d4e-4519-ade5-edd6203179f4"
      },
      "execution_count": null,
      "outputs": [
        {
          "output_type": "stream",
          "name": "stdout",
          "text": [
            "measuring BLAS Level 3 flops using <class 'numpy.float64'>\n",
            "time elapsed = 3.200159788131714 sec.\n",
            "4.294753e+10 FLOPS\n"
          ]
        }
      ]
    },
    {
      "cell_type": "markdown",
      "source": [
        "Here's a compact version of LU, with no pivoting:"
      ],
      "metadata": {
        "id": "E_FUTxa4GnQA"
      }
    },
    {
      "cell_type": "code",
      "source": [
        "def LU(A):\n",
        "    U = np.copy(A)\n",
        "    m, n = A.shape\n",
        "    L = np.eye(n)\n",
        "    for k in range(n-1):\n",
        "        for j in range(k+1,n):\n",
        "            L[j,k] = U[j,k]/U[k,k]\n",
        "            U[j,k:n] -= L[j,k] * U[k,k:n]\n",
        "    return L, U\n"
      ],
      "metadata": {
        "id": "Ff2NJejmZ7BQ"
      },
      "execution_count": 13,
      "outputs": []
    },
    {
      "cell_type": "code",
      "source": [
        "A = np.array([[2,1,1,0],[4,3,3,1],[8,7,9,5],[6,7,9,8]], dtype=float)\n",
        "L, U = LU(A)\n",
        "print(\"L = \\n\",L)\n",
        "print(\"U = \\n\",U)\n",
        "L@U"
      ],
      "metadata": {
        "id": "YZ6q8b8waM5m",
        "colab": {
          "base_uri": "https://localhost:8080/"
        },
        "outputId": "29877761-55f0-4264-d87c-fdb688d9c5b5"
      },
      "execution_count": 14,
      "outputs": [
        {
          "output_type": "stream",
          "name": "stdout",
          "text": [
            "L = \n",
            " [[1. 0. 0. 0.]\n",
            " [2. 1. 0. 0.]\n",
            " [4. 3. 1. 0.]\n",
            " [3. 4. 1. 1.]]\n",
            "U = \n",
            " [[2. 1. 1. 0.]\n",
            " [0. 1. 1. 1.]\n",
            " [0. 0. 2. 2.]\n",
            " [0. 0. 0. 2.]]\n"
          ]
        },
        {
          "output_type": "execute_result",
          "data": {
            "text/plain": [
              "array([[2., 1., 1., 0.],\n",
              "       [4., 3., 3., 1.],\n",
              "       [8., 7., 9., 5.],\n",
              "       [6., 7., 9., 8.]])"
            ]
          },
          "metadata": {},
          "execution_count": 14
        }
      ]
    },
    {
      "cell_type": "markdown",
      "source": [
        "The ``scipy.linalg.lu`` function performs LU decomposition for the general form matrices (matrices that are not necessarily square):"
      ],
      "metadata": {
        "id": "BfMeMOCIT24F"
      }
    },
    {
      "cell_type": "code",
      "source": [
        "# matrix sizes\n",
        "m = 4\n",
        "n = 6\n",
        "\n",
        "A = np.random.randn(m,n)\n",
        "\n",
        "P,L,U = sp.linalg.lu(A)\n",
        "\n",
        "# show the matrices\n",
        "fig,axs = plt.subplots(1,5,figsize=(13,4))\n",
        "\n",
        "axs[0].imshow(A,vmin=-1,vmax=1)\n",
        "axs[0].set_title('A')\n",
        "\n",
        "axs[1].imshow(np.ones((m,n)),cmap='gray',vmin=-1,vmax=1)\n",
        "axs[1].text(n/2,m/2,'=',ha='center',fontsize=30,fontweight='bold')\n",
        "# axs[1].axis('off')\n",
        "\n",
        "axs[2].imshow(P.T,vmin=-1,vmax=1)\n",
        "axs[2].set_title(r'P$^T$')\n",
        "\n",
        "axs[3].imshow(L,vmin=-1,vmax=1)\n",
        "axs[3].set_title('L')\n",
        "\n",
        "h = axs[4].imshow(U,vmin=-1,vmax=1)\n",
        "axs[4].set_title('U')\n",
        "\n",
        "for a in axs:\n",
        "  a.axis('off')\n",
        "  a.set_xlim([-.5,n-.5])\n",
        "  a.set_ylim([m-.5,-.5])\n",
        "\n",
        "\n",
        "fig.colorbar(h,ax=axs[-1],fraction=.05)\n",
        "plt.tight_layout()\n",
        "plt.savefig('Figure_10_01.png',dpi=300)\n",
        "plt.show()"
      ],
      "metadata": {
        "id": "_VpWAq6AeEdC",
        "colab": {
          "base_uri": "https://localhost:8080/",
          "height": 283
        },
        "outputId": "00e463a4-862b-4987-a7e1-6d71cc83d120"
      },
      "execution_count": 11,
      "outputs": [
        {
          "output_type": "display_data",
          "data": {
            "text/plain": [
              "<Figure size 1300x400 with 6 Axes>"
            ],
            "image/png": "[encoded data removed]"
          },
          "metadata": {}
        }
      ]
    }
  ]
}