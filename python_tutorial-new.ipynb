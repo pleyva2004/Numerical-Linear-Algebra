{
  "cells": [
    {
      "cell_type": "markdown",
      "metadata": {
        "deletable": true,
        "editable": true,
        "id": "WuZlifigzJhu"
      },
      "source": [
        "## The Python Tutorial\n",
        "\n",
        "This tutorial introduces you, informally, to the basic concepts and features of the Python language and system. You are expected to have a basic understanding of programming in general. For a more extensive resource for Python programming, check for example:\n",
        "https://docs.python.org/3/tutorial/index.html\n",
        "\n",
        "\n",
        "For this course, you will be running Python online, using the web-based cloud-located Python, which allows you to access your code from any browser on any computer and any operating system. Google's Colaboratory environment is the recommended platform:\n",
        "https://colab.research.google.comTh.\n",
        "\n",
        "#### Working with code files in Googl Colab\n",
        "\n",
        "Make a copy of the file that is provided to you through the course canvas and upload it into your Google Drive. From there, you can click on the file to open the notebook. I recommend changing the name of the file by clicking on the; you can change the name of the file by clicking on the\n",
        "filename at the top-left of the screen.\n",
        "\n",
        "#### Markdown cells\n",
        "\n",
        "Re-running will render the markdown text. To edit an existing markdown cell, double-click on it.\n",
        "\n",
        "<hr>"
      ]
    },
    {
      "cell_type": "markdown",
      "metadata": {
        "deletable": true,
        "editable": true,
        "id": "MC3PaypZzJhw"
      },
      "source": [
        "## Jupyter\n",
        "\n",
        "\n",
        "Jupyter Notebooks (and Jupyter Labs) are IDEs that are widely used in Python programming and data science applications. They allow the user to combine blocks of executable code with Markdown, allowing you to integrate formatted text, links, images, and even videos in between the blocks of code.\n",
        "\n",
        "\n",
        "## Common Jupyter operations\n",
        "\n",
        "Near the top of the Jupyter notebook window, there are a row of menu options (`File`, `Edit`, `View`, `Insert`, ...) and a row of tool bar icons (disk, plus sign, scissors, 2 files, clipboard and file, up arrow, ...).\n",
        "\n",
        "#### Inserting and removing cells\n",
        "\n",
        "- Use the \"plus sign\" icon to insert a cell below the currently selected cell\n",
        "- Use \"Insert\" -> \"Insert Cell Above\" from the menu to insert above\n",
        "\n",
        "#### Clear the output of all cells\n",
        "\n",
        "- Use \"Kernel\" -> \"Restart\" from the menu to restart the kernel\n",
        "    - click on \"clear all outputs & restart\" to have all the output cleared\n",
        "\n",
        "#### Save your notebook file locally\n",
        "\n",
        "- Clear the output of all cells\n",
        "- Use \"File\" -> \"Download as\" -> \"IPython Notebook (.ipynb)\" to download a notebook file\n",
        "\n",
        "You can use **JupyterLab** (https://jupyter.org/try-jupyter/lab/) which is the latest web-based interactive development environment for notebooks, code, and data.\n",
        "\n",
        "<hr>"
      ]
    },
    {
      "cell_type": "markdown",
      "metadata": {
        "deletable": true,
        "editable": true,
        "id": "_MFg3SoezJhw"
      },
      "source": [
        "## References\n",
        "- https://jupyter.org/try-jupyter/lab/\n",
        "- https://docs.python.org/3/tutorial/index.html\n",
        "\n",
        "<hr>"
      ]
    },
    {
      "cell_type": "markdown",
      "metadata": {
        "deletable": true,
        "editable": true,
        "id": "AUjJyUIyzJhx"
      },
      "source": [
        "## Variables\n",
        "\n",
        "A **variable** in Python is a\n",
        "reference to stored data such as a number, an image, a database, etc..\n",
        "The variable name refers to a particular **object**, object **instance**, or value. Some of the basic types include:\n",
        "\n",
        "- **`int`** (integer; a whole number with no decimal place)\n",
        "  - `10`\n",
        "  - `-10`\n",
        "- **`float`** (float; a number that has a decimal place)\n",
        "  - `3.14`\n",
        "  - `-0.006`\n",
        "- **`str`** (string; a sequence of characters enclosed in single quotes, double quotes, or triple quotes)\n",
        "  - `'this is a string using single quotes'`\n",
        "  - `\"this is a string using double quotes\"`\n",
        "  - `'''this is a triple quoted string using single quotes'''`\n",
        "  - `\"\"\"this is a triple quoted string using double quotes\"\"\"`\n",
        "- **`bool`** (boolean; a binary value that is either true or false)\n",
        "  - `True`\n",
        "  - `False`\n",
        "- **`NoneType`** (a special type representing the absence of a value)\n",
        "  - `None`\n",
        "\n",
        "Names for variables can only contain letters, underscores (`_`), or numbers (no spaces, dashes, or other characters). Variable names must start with a letter or underscore.\n",
        "\n",
        "<hr>"
      ]
    },
    {
      "cell_type": "code",
      "execution_count": null,
      "metadata": {
        "colab": {
          "base_uri": "https://localhost:8080/"
        },
        "id": "Uu7Y6SOM42Ug",
        "outputId": "6d4bfa5e-b3d7-4059-ec6d-6a7b5dc7b3f9"
      },
      "outputs": [],
      "source": [
        "# Example\n",
        "# Comments are pieces of code that are ignored by Python. Comments help you and\n",
        "# others interpret and understand the code. Comments in Python are indicated using\n",
        "# the # symbol. Any text after the # is ignored.\n",
        "\n",
        "var1 = 10\n",
        "var2 = 20.4\n",
        "var3 = 'hello'\n",
        "var1 + var2    # Python only prints output of the final line in a cell, and only when that line does not involve a variable assignment."
      ]
    },
    {
      "cell_type": "code",
      "execution_count": null,
      "metadata": {
        "colab": {
          "base_uri": "https://localhost:8080/",
          "height": 147
        },
        "id": "aaPZLhrtUHzo",
        "outputId": "36b0930f-72f2-458d-d3de-3397ba951e93"
      },
      "outputs": [],
      "source": [
        "var1 + var3"
      ]
    },
    {
      "cell_type": "markdown",
      "metadata": {
        "id": "PhGQWA0UUaCz"
      },
      "source": [
        "Python indicates the offending line with an arrow. The error message provides indication on what went wrong; in this case, the error message is a TypeError, indicating mixing data types."
      ]
    },
    {
      "cell_type": "markdown",
      "metadata": {
        "deletable": true,
        "editable": true,
        "id": "bmAWuEQ_zJhx"
      },
      "source": [
        "## Basic operators\n",
        "\n",
        "In Python, there are different types of **operators** (special symbols) that operate on different values. Some of the basic operators include:\n",
        "\n",
        "- arithmetic operators\n",
        "  - **`+`** (addition)\n",
        "  - **`-`** (subtraction)\n",
        "  - **`*`** (multiplication)\n",
        "  - **`/`** (division)\n",
        "  - __`**`__ (exponent)\n",
        "- assignment operators\n",
        "  - **`=`** (assign a value)\n",
        "  - **`+=`** (add and re-assign; increment)\n",
        "  - **`-=`** (subtract and re-assign; decrement)\n",
        "  - **`*=`** (multiply and re-assign)\n",
        "- comparison operators (return either `True` or `False`)\n",
        "  - **`==`** (equal to)\n",
        "  - **`!=`** (not equal to)\n",
        "  - **`<`** (less than)\n",
        "  - **`<=`** (less than or equal to)\n",
        "  - **`>`** (greater than)\n",
        "  - **`>=`** (greater than or equal to)\n",
        "\n",
        "When multiple operators are used in a single expression, **operator precedence** determines which parts of the expression are evaluated in which order. Operators with higher precedence are evaluated first (like PEMDAS in math). Operators with the same precedence are evaluated from left to right.\n",
        "\n",
        "- `()` parentheses, for grouping\n",
        "- `**` exponent\n",
        "- `*`, `/` multiplication and division\n",
        "- `+`, `-` addition and subtraction\n",
        "- `==`, `!=`, `<`, `<=`, `>`, `>=` comparisons\n",
        "\n"
      ]
    },
    {
      "cell_type": "code",
      "execution_count": null,
      "metadata": {
        "colab": {
          "base_uri": "https://localhost:8080/"
        },
        "deletable": true,
        "editable": true,
        "id": "CNp5fB2LzJh2",
        "outputId": "63344671-31e0-4320-a33a-3f4f097c88ab"
      },
      "outputs": [],
      "source": [
        "# Increment/Decrement existing variable\n",
        "var1 += 1\n",
        "var1"
      ]
    },
    {
      "cell_type": "code",
      "execution_count": null,
      "metadata": {
        "colab": {
          "base_uri": "https://localhost:8080/"
        },
        "id": "24a32wTnWZQm",
        "outputId": "628255a5-91be-4128-bb29-19ed586867b9"
      },
      "outputs": [],
      "source": [
        "# Exponent and assignment\n",
        "var4 = var1**2\n",
        "var4"
      ]
    },
    {
      "cell_type": "code",
      "execution_count": null,
      "metadata": {
        "colab": {
          "base_uri": "https://localhost:8080/"
        },
        "deletable": true,
        "editable": true,
        "id": "vNYvyAw9zJh4",
        "outputId": "d41e1c1e-f9a4-46a4-e987-6696b026f828"
      },
      "outputs": [],
      "source": [
        "# Boolean\n",
        "var4 != var1"
      ]
    },
    {
      "cell_type": "code",
      "execution_count": null,
      "metadata": {
        "colab": {
          "base_uri": "https://localhost:8080/",
          "height": 36
        },
        "deletable": true,
        "editable": true,
        "id": "DUJ3eN9dzJh5",
        "outputId": "62f8ec34-b326-4ac0-9e1f-29262a7dcd35"
      },
      "outputs": [],
      "source": [
        "# String addition\n",
        "var3 + ' world'"
      ]
    },
    {
      "cell_type": "code",
      "execution_count": null,
      "metadata": {
        "collapsed": true,
        "deletable": true,
        "editable": true,
        "id": "8WSfJHwbzJh8"
      },
      "outputs": [],
      "source": [
        "# Note: Subtraction, division, and decrement operators do not apply to strings."
      ]
    },
    {
      "cell_type": "code",
      "execution_count": null,
      "metadata": {
        "colab": {
          "base_uri": "https://localhost:8080/"
        },
        "id": "hquBiQrsZjyk",
        "outputId": "1542f02a-a523-4946-d2ec-c91a3edcd5ff"
      },
      "outputs": [],
      "source": [
        "#You can determine the data type using the function type.\n",
        "\n",
        "type(var3)"
      ]
    },
    {
      "cell_type": "code",
      "execution_count": null,
      "metadata": {
        "colab": {
          "base_uri": "https://localhost:8080/"
        },
        "id": "t0MX91mK_R_3",
        "outputId": "3f9fc8f5-b400-41a5-83b6-98f07460adbb"
      },
      "outputs": [],
      "source": [
        "# Formatted print\n",
        "print('var1, var2, var4 = %5d %12.6f %14.6e' %(var1,var2,var4))"
      ]
    },
    {
      "cell_type": "markdown",
      "metadata": {
        "deletable": true,
        "editable": true,
        "id": "9BjJiqulzJh8"
      },
      "source": [
        "## Basic containers\n",
        "\n",
        "> Note: **mutable** objects can be modified after creation and **immutable** objects cannot.\n",
        "\n",
        "Containers are objects that can be used to group other objects together. The basic container types include:\n",
        "\n",
        "- **`str`** (string: immutable; indexed by integers; items are stored in the order they were added)\n",
        "- **`list`** (list: mutable; indexed by integers; items are stored in the order they were added)\n",
        "  - `[3, 5, 6, 3, 'dog', 'cat', False]`\n",
        "- **`tuple`** (tuple: immutable; indexed by integers; items are stored in the order they were added)\n",
        "  - `(3, 5, 6, 3, 'dog', 'cat', False)`\n",
        "- **`set`** (set: mutable; not indexed at all; items are NOT stored in the order they were added; can only contain immutable objects; does NOT contain duplicate objects)\n",
        "  - `{3, 5, 6, 3, 'dog', 'cat', False}`\n",
        "- **`dict`** (dictionary: mutable; key-value pairs are indexed by immutable keys; items are NOT stored in the order they were added)\n",
        "  - `{'name': 'Jane', 'age': 23, 'fav_foods': ['pizza', 'fruit', 'fish']}`\n",
        "\n",
        "When defining lists, tuples, or sets, use commas (,) to separate the individual items. When defining dicts, use a colon (:) to separate keys from values and commas (,) to separate the key-value pairs.\n",
        "\n",
        "Strings, lists, and tuples are all **sequence types** that can use the `+`, `*`, `+=`, and `*=` operators."
      ]
    },
    {
      "cell_type": "code",
      "execution_count": null,
      "metadata": {
        "collapsed": true,
        "deletable": true,
        "editable": true,
        "id": "RpBc4UnAzJh8"
      },
      "outputs": [],
      "source": [
        "# Assign some containers to different variables\n",
        "list1 = [3, 5, 6, 3, 'dog', 'cat', False]\n",
        "tuple1 = (3, 5, 6, 3, 'dog', 'cat', False)\n",
        "set1 = {3, 5, 6, 3, 'dog', 'cat', False}\n",
        "dict1 = {'name': 'Jane', 'age': 23, 'fav_foods': ['pizza', 'fruit', 'fish']}"
      ]
    },
    {
      "cell_type": "code",
      "execution_count": null,
      "metadata": {
        "colab": {
          "base_uri": "https://localhost:8080/"
        },
        "deletable": true,
        "editable": true,
        "id": "1ERNM2KvzJh8",
        "outputId": "89687764-3650-48df-ee17-46744d1c86da"
      },
      "outputs": [],
      "source": [
        "# Items in the list object are stored in the order they were added\n",
        "list1"
      ]
    },
    {
      "cell_type": "markdown",
      "metadata": {
        "id": "5G6ZanhHaOt_"
      },
      "source": [
        "List can contain other lists."
      ]
    },
    {
      "cell_type": "code",
      "execution_count": null,
      "metadata": {
        "colab": {
          "base_uri": "https://localhost:8080/"
        },
        "id": "dppLcz2Wadgj",
        "outputId": "39fe2c04-dafa-4c7f-96c5-69e1a7f9b134"
      },
      "outputs": [],
      "source": [
        "list2 = ['hello', 123.2, list1]\n",
        "list2"
      ]
    },
    {
      "cell_type": "code",
      "execution_count": null,
      "metadata": {
        "colab": {
          "base_uri": "https://localhost:8080/"
        },
        "deletable": true,
        "editable": true,
        "id": "0gzHaXIDzJh9",
        "outputId": "b1e40b2d-5415-46f6-a2b4-a153611d1188"
      },
      "outputs": [],
      "source": [
        "# Items in the tuple object are stored in the order they were added\n",
        "tuple1"
      ]
    },
    {
      "cell_type": "code",
      "execution_count": null,
      "metadata": {
        "colab": {
          "base_uri": "https://localhost:8080/"
        },
        "deletable": true,
        "editable": true,
        "id": "2VveF_8OzJh9",
        "outputId": "1e702bb1-ecd0-4ec2-d4cc-8e02dfb626a2"
      },
      "outputs": [],
      "source": [
        "# Items in the set object are not stored in the order they were added\n",
        "# Also, notice that the value 3 only appears once in this set object\n",
        "set1"
      ]
    },
    {
      "cell_type": "code",
      "execution_count": null,
      "metadata": {
        "colab": {
          "base_uri": "https://localhost:8080/"
        },
        "deletable": true,
        "editable": true,
        "id": "2GRIVKE8zJh9",
        "outputId": "ba4a2153-03ac-4676-862a-8f78cb89bb09"
      },
      "outputs": [],
      "source": [
        "# Items in the dict object are not stored in the order they were added\n",
        "dict1"
      ]
    },
    {
      "cell_type": "code",
      "execution_count": null,
      "metadata": {
        "colab": {
          "base_uri": "https://localhost:8080/"
        },
        "deletable": true,
        "editable": true,
        "id": "QOYk0eXNzJh9",
        "outputId": "9a8af05e-a39d-4c31-e397-599fcb1819de"
      },
      "outputs": [],
      "source": [
        "# Add and re-assign\n",
        "list1 += [5, 'grapes']\n",
        "list1"
      ]
    },
    {
      "cell_type": "code",
      "execution_count": null,
      "metadata": {
        "colab": {
          "base_uri": "https://localhost:8080/"
        },
        "deletable": true,
        "editable": true,
        "id": "iCAmvE8FzJh9",
        "outputId": "43ae656b-bc89-40ba-e5f3-dcec12d331f4"
      },
      "outputs": [],
      "source": [
        "# Add and re-assign\n",
        "tuple1 += (5, 'grapes')\n",
        "tuple1"
      ]
    },
    {
      "cell_type": "code",
      "execution_count": null,
      "metadata": {
        "colab": {
          "base_uri": "https://localhost:8080/"
        },
        "deletable": true,
        "editable": true,
        "id": "_t19ZkC8zJh9",
        "outputId": "e35f76a8-3559-4c56-8a8a-b681a5fa19ce"
      },
      "outputs": [],
      "source": [
        "# Multiply\n",
        "[1, 2, 3, 4] * 2"
      ]
    },
    {
      "cell_type": "code",
      "execution_count": null,
      "metadata": {
        "colab": {
          "base_uri": "https://localhost:8080/"
        },
        "deletable": true,
        "editable": true,
        "id": "lk7rGUGCzJh9",
        "outputId": "458193d8-569d-48f6-b6ef-6978a78557ef"
      },
      "outputs": [],
      "source": [
        "# Multiply\n",
        "(1, 2, 3, 4) * 3"
      ]
    },
    {
      "cell_type": "markdown",
      "metadata": {
        "deletable": true,
        "editable": true,
        "id": "vU-LebGyzJh-"
      },
      "source": [
        "## Accessing data in containers\n",
        "\n",
        "Indexing allows accessing a specific element; for strings, lists, tuples, and dicts, we can use **subscript notation** (square brackets) to access data at an index.\n",
        "\n",
        "- strings, lists, and tuples are indexed by integers, **starting at 0** for first item\n",
        "  - these sequence types also support accesing a range of items, known as **slicing**\n",
        "  - use **negative indexing** to start at the back of the sequence\n",
        "- dicts are indexed by their keys\n",
        "\n",
        "> Note 1: sets are not indexed, so we cannot use subscript notation to access data elements.\n",
        "\n",
        "> Note 2: Python is a 0-based indexing language, which\n",
        "means that index 0 is the first element."
      ]
    },
    {
      "cell_type": "code",
      "execution_count": null,
      "metadata": {
        "colab": {
          "base_uri": "https://localhost:8080/"
        },
        "deletable": true,
        "editable": true,
        "id": "tDAthElMzJh-",
        "outputId": "79ed2d56-cd51-4399-80a7-ed467ca212a9"
      },
      "outputs": [],
      "source": [
        "# Access the first item in a sequence\n",
        "list1[0]"
      ]
    },
    {
      "cell_type": "code",
      "execution_count": null,
      "metadata": {
        "colab": {
          "base_uri": "https://localhost:8080/",
          "height": 36
        },
        "deletable": true,
        "editable": true,
        "id": "-c3_O5TtzJh-",
        "outputId": "cb6b815e-b09c-40d2-ab18-dfddc014eb0c"
      },
      "outputs": [],
      "source": [
        "# Access the last item in a sequence\n",
        "tuple1[-1]"
      ]
    },
    {
      "cell_type": "code",
      "execution_count": null,
      "metadata": {
        "colab": {
          "base_uri": "https://localhost:8080/",
          "height": 36
        },
        "deletable": true,
        "editable": true,
        "id": "kQkgU2iHzJh-",
        "outputId": "6a63649d-7a8e-413e-ea70-f36dbe90142c"
      },
      "outputs": [],
      "source": [
        "# Access a range of items in a sequence\n",
        "var3[3:8]"
      ]
    },
    {
      "cell_type": "code",
      "execution_count": null,
      "metadata": {
        "colab": {
          "base_uri": "https://localhost:8080/"
        },
        "deletable": true,
        "editable": true,
        "id": "zBxJ26_ZzJh_",
        "outputId": "ad6b294a-4cd9-4a9e-aa35-f3abad479ae0"
      },
      "outputs": [],
      "source": [
        "# Access a range of items in a sequence\n",
        "tuple1[:-3]"
      ]
    },
    {
      "cell_type": "code",
      "execution_count": null,
      "metadata": {
        "colab": {
          "base_uri": "https://localhost:8080/"
        },
        "deletable": true,
        "editable": true,
        "id": "nLo3_Sx9zJh_",
        "outputId": "278fd74b-a29e-4736-aa6d-c1d41aa4fb3d"
      },
      "outputs": [],
      "source": [
        "# Access a range of items in a sequence\n",
        "list1[4:]"
      ]
    },
    {
      "cell_type": "code",
      "execution_count": null,
      "metadata": {
        "colab": {
          "base_uri": "https://localhost:8080/",
          "height": 36
        },
        "deletable": true,
        "editable": true,
        "id": "LuWhF9EfzJh_",
        "outputId": "d52e0f14-e07a-40a4-d9ee-6b756bbe0786"
      },
      "outputs": [],
      "source": [
        "# Access an item in a dictionary\n",
        "dict1['name']"
      ]
    },
    {
      "cell_type": "code",
      "execution_count": null,
      "metadata": {
        "colab": {
          "base_uri": "https://localhost:8080/",
          "height": 36
        },
        "deletable": true,
        "editable": true,
        "id": "_-mqq2PpzJiA",
        "outputId": "20fc4a80-e0e4-4f10-d6e8-a794e24066fc"
      },
      "outputs": [],
      "source": [
        "# Access an element of a sequence in a dictionary\n",
        "dict1['fav_foods'][2]"
      ]
    },
    {
      "cell_type": "markdown",
      "metadata": {
        "deletable": true,
        "editable": true,
        "id": "6tpao3CtzJiA"
      },
      "source": [
        "## Functions and Python built-in functions and callables\n",
        "\n",
        "A **function**, a collection of code, is a Python object that you can \"call\" to **perform an action** or compute and **return another object**.\n",
        "Functions are indicated in Python using parentheses immediately after the function name.\n",
        "You call a function by placing parentheses to the right of the function name. Some functions allow you to pass **arguments** inside the parentheses (separating multiple arguments with a comma). Internal to the function, these arguments are treated like variables.\n",
        "\n",
        "Python has several useful built-in functions to help you work with different objects and/or your environment. Here is a small sample of them:\n",
        "\n",
        "- **`type(obj)`** to determine the type of an object\n",
        "- **`len(container)`** to determine how many items are in a container\n",
        "- **`callable(obj)`** to determine if an object is callable\n",
        "- **`sorted(container)`** to return a new list from a container, with the items sorted\n",
        "- **`sum(container)`** to compute the sum of a container of numbers\n",
        "- **`min(container)`** to determine the smallest item in a container\n",
        "- **`max(container)`** to determine the largest item in a container\n",
        "- **`abs(number)`** to determine the absolute value of a number\n",
        "- **`repr(obj)`** to return a string representation of an object\n",
        "\n",
        "> Complete list of built-in functions: https://docs.python.org/3/library/functions.html\n",
        "\n",
        "There are also different ways of defining your own functions and callable objects that we will explore later."
      ]
    },
    {
      "cell_type": "code",
      "execution_count": null,
      "metadata": {
        "colab": {
          "base_uri": "https://localhost:8080/"
        },
        "deletable": true,
        "editable": true,
        "id": "d1r1q-qwzJiA",
        "outputId": "dbd055d2-c191-4525-ad41-d99de605cc17"
      },
      "outputs": [],
      "source": [
        "# Use the type() function to determine the type of an object\n",
        "type(var1)"
      ]
    },
    {
      "cell_type": "code",
      "execution_count": null,
      "metadata": {
        "colab": {
          "base_uri": "https://localhost:8080/"
        },
        "deletable": true,
        "editable": true,
        "id": "WO85ni7yzJiB",
        "outputId": "d602d316-9440-4f9a-e126-21e73d20f984"
      },
      "outputs": [],
      "source": [
        "# Use the len() function to determine how many items are in a container\n",
        "len(dict1)"
      ]
    },
    {
      "cell_type": "code",
      "execution_count": null,
      "metadata": {
        "colab": {
          "base_uri": "https://localhost:8080/",
          "height": 36
        },
        "deletable": true,
        "editable": true,
        "id": "iryCazXSzJiB",
        "outputId": "a03c4b6b-12a0-4138-f8a6-9f42f56fe9f5"
      },
      "outputs": [],
      "source": [
        "# Use the len() function to determine how many items are in a container\n",
        "len(var3)"
      ]
    },
    {
      "cell_type": "code",
      "execution_count": null,
      "metadata": {
        "colab": {
          "base_uri": "https://localhost:8080/"
        },
        "deletable": true,
        "editable": true,
        "id": "Fct4sCHizJiB",
        "outputId": "d6490cc1-1cf7-43c3-c741-5f632aa54383"
      },
      "outputs": [],
      "source": [
        "# Use the callable() function to determine if an object is callable\n",
        "callable(len)"
      ]
    },
    {
      "cell_type": "code",
      "execution_count": null,
      "metadata": {
        "colab": {
          "base_uri": "https://localhost:8080/"
        },
        "deletable": true,
        "editable": true,
        "id": "Vkj_M4JVzJiC",
        "outputId": "16ad9116-165f-44e8-ba06-d2a99b8e4729"
      },
      "outputs": [],
      "source": [
        "# Use the callable() function to determine if an object is callable\n",
        "callable(dict1)"
      ]
    },
    {
      "cell_type": "code",
      "execution_count": null,
      "metadata": {
        "colab": {
          "base_uri": "https://localhost:8080/"
        },
        "deletable": true,
        "editable": true,
        "id": "ujK2K2fizJiC",
        "outputId": "2d69ef4b-8692-4ab1-fead-ca978b848594"
      },
      "outputs": [],
      "source": [
        "# Use the sorted() function to return a new list from a container, with the items sorted\n",
        "sorted([10, 1, 3.6, 7, 5, 2, -3])"
      ]
    },
    {
      "cell_type": "code",
      "execution_count": null,
      "metadata": {
        "colab": {
          "base_uri": "https://localhost:8080/"
        },
        "deletable": true,
        "editable": true,
        "id": "sN9jF3PxzJiC",
        "outputId": "65535f67-13a0-4462-bcea-a785df4ff8ce"
      },
      "outputs": [],
      "source": [
        "# Use the sorted() function to return a new list from a container, with the items sorted\n",
        "# - notice that capitalized strings come first\n",
        "sorted(['dogs', 'cats', 'zebras', 'Chicago', 'California', 'ants', 'mice'])"
      ]
    },
    {
      "cell_type": "code",
      "execution_count": null,
      "metadata": {
        "colab": {
          "base_uri": "https://localhost:8080/"
        },
        "deletable": true,
        "editable": true,
        "id": "MMhJB5blzJiD",
        "outputId": "91448762-3681-4bad-c2f2-e63fd0fd09c0"
      },
      "outputs": [],
      "source": [
        "# Use the sum() function to compute the sum of a container of numbers\n",
        "sum([10, 1, 3.6, 7, 5, 2, -3])"
      ]
    },
    {
      "cell_type": "code",
      "execution_count": null,
      "metadata": {
        "colab": {
          "base_uri": "https://localhost:8080/"
        },
        "deletable": true,
        "editable": true,
        "id": "7DJXN7I9zJiD",
        "outputId": "28750c83-bd2d-419b-881e-f3c0567aeeda"
      },
      "outputs": [],
      "source": [
        "# Use the min() function to determine the smallest item in a container\n",
        "min([10, 1, 3.6, 7, 5, 2, -3])"
      ]
    },
    {
      "cell_type": "code",
      "execution_count": null,
      "metadata": {
        "colab": {
          "base_uri": "https://localhost:8080/",
          "height": 36
        },
        "deletable": true,
        "editable": true,
        "id": "4xnqZyd8zJiD",
        "outputId": "3269385a-2dbb-462f-cfb0-3bb9eb7f1676"
      },
      "outputs": [],
      "source": [
        "# Use the min() function to determine the smallest item in a container\n",
        "min(['g', 'z', 'a', 'y'])"
      ]
    },
    {
      "cell_type": "code",
      "execution_count": null,
      "metadata": {
        "colab": {
          "base_uri": "https://localhost:8080/"
        },
        "deletable": true,
        "editable": true,
        "id": "-0NzDSKdzJiD",
        "outputId": "3b1e7903-d60f-4f3d-bcbc-71cb3807b953"
      },
      "outputs": [],
      "source": [
        "# Use the max() function to determine the largest item in a container\n",
        "max([10, 1, 3.6, 7, 5, 2, -3])"
      ]
    },
    {
      "cell_type": "code",
      "execution_count": null,
      "metadata": {
        "colab": {
          "base_uri": "https://localhost:8080/",
          "height": 36
        },
        "deletable": true,
        "editable": true,
        "id": "-PIPPllCzJiE",
        "outputId": "cb34d82d-889c-4869-f985-c63659d67658"
      },
      "outputs": [],
      "source": [
        "# Use the max() function to determine the largest item in a container\n",
        "max('gibberish')"
      ]
    },
    {
      "cell_type": "code",
      "execution_count": null,
      "metadata": {
        "colab": {
          "base_uri": "https://localhost:8080/"
        },
        "deletable": true,
        "editable": true,
        "id": "_6GPfQUHzJiE",
        "outputId": "534b63fc-fc13-4704-efdf-7dfa48fa5334"
      },
      "outputs": [],
      "source": [
        "# Use the abs() function to determine the absolute value of a number\n",
        "abs(10)"
      ]
    },
    {
      "cell_type": "code",
      "execution_count": null,
      "metadata": {
        "colab": {
          "base_uri": "https://localhost:8080/"
        },
        "deletable": true,
        "editable": true,
        "id": "2o_8fmFNzJiE",
        "outputId": "fad11c89-aa23-421c-c956-8b701cbd9954"
      },
      "outputs": [],
      "source": [
        "# Use the abs() function to determine the absolute value of a number\n",
        "abs(-12)"
      ]
    },
    {
      "cell_type": "code",
      "execution_count": null,
      "metadata": {
        "colab": {
          "base_uri": "https://localhost:8080/",
          "height": 36
        },
        "deletable": true,
        "editable": true,
        "id": "2bZX8iEdzJiE",
        "outputId": "602f237d-ec57-49e8-9cb3-ded02d6bbbe0"
      },
      "outputs": [],
      "source": [
        "# Use the repr() function to return a string representation of an object\n",
        "repr(set1)"
      ]
    },
    {
      "cell_type": "markdown",
      "metadata": {
        "deletable": true,
        "editable": true,
        "id": "sRg3inLhzJiE"
      },
      "source": [
        "## Python object attributes (methods and properties)\n",
        "\n",
        "Different types of objects in Python have different **attributes** that can be referred to by name (similar to a variable). To access an attribute of an object, use a dot (`.`) after the object, then specify the attribute (i.e. `obj.attribute`)\n",
        "\n",
        "When an attribute of an object is a callable, that attribute is called a **method**. It is the same as a function, only this function is bound to a particular object. Different data types have\n",
        "different methods, meaning that a method that works on lists may not work on\n",
        "strings. Note the syntax formatting: methods are similar to functions in that they have parentheses and (for some methods) input arguments. But methods are attached to the variable name with a period, and can directly change the variable without an explicit output.\n",
        "\n",
        "When an attribute of an object is not a callable, that attribute is called a **property**. It is just a piece of data about the object, that is itself another object.\n",
        "\n",
        "The built-in `dir()` function can be used to return a list of an object's attributes.\n",
        "\n",
        "<hr>"
      ]
    },
    {
      "cell_type": "markdown",
      "metadata": {
        "deletable": true,
        "editable": true,
        "id": "Dwau_ZoZzJiF"
      },
      "source": [
        "## Some methods on string objects\n",
        "\n",
        "- **`.capitalize()`** to return a capitalized version of the string (only first char uppercase)\n",
        "- **`.upper()`** to return an uppercase version of the string (all chars uppercase)\n",
        "- **`.lower()`** to return a lowercase version of the string (all chars lowercase)\n",
        "- **`.count(substring)`** to return the number of occurences of the substring in the string\n",
        "- **`.startswith(substring)`** to determine if the string starts with the substring\n",
        "- **`.endswith(substring)`** to determine if the string ends with the substring\n",
        "- **`.replace(old, new)`** to return a copy of the string with occurences of the \"old\" replaced by \"new\""
      ]
    },
    {
      "cell_type": "code",
      "execution_count": null,
      "metadata": {
        "deletable": true,
        "editable": true,
        "id": "bzAIfbvjzJiF"
      },
      "outputs": [],
      "source": [
        "# Assign a string to a variable\n",
        "a_string = 'tHis is a sTriNg'"
      ]
    },
    {
      "cell_type": "code",
      "execution_count": null,
      "metadata": {
        "colab": {
          "base_uri": "https://localhost:8080/",
          "height": 36
        },
        "deletable": true,
        "editable": true,
        "id": "7cTYeynLzJiF",
        "outputId": "01b410f9-d503-438d-fb03-8da4c04813c1"
      },
      "outputs": [],
      "source": [
        "# Return a capitalized version of the string\n",
        "a_string.capitalize()"
      ]
    },
    {
      "cell_type": "code",
      "execution_count": null,
      "metadata": {
        "colab": {
          "base_uri": "https://localhost:8080/",
          "height": 36
        },
        "deletable": true,
        "editable": true,
        "id": "1LC-ZfmkzJiF",
        "outputId": "edee692c-277b-46e9-99ec-b8a7d07fcf6e"
      },
      "outputs": [],
      "source": [
        "# Return an uppercase version of the string\n",
        "a_string.upper()"
      ]
    },
    {
      "cell_type": "code",
      "execution_count": null,
      "metadata": {
        "colab": {
          "base_uri": "https://localhost:8080/",
          "height": 36
        },
        "deletable": true,
        "editable": true,
        "id": "-YbzjoVzzJiG",
        "outputId": "5fa97d53-f3d3-4198-ee5b-84feb602e8a2"
      },
      "outputs": [],
      "source": [
        "# Return a lowercase version of the string\n",
        "a_string.lower()"
      ]
    },
    {
      "cell_type": "code",
      "execution_count": null,
      "metadata": {
        "colab": {
          "base_uri": "https://localhost:8080/",
          "height": 36
        },
        "deletable": true,
        "editable": true,
        "id": "M8Y5jNpozJiG",
        "outputId": "f15d28f2-eae2-4c79-8c04-20c45a2c7baf"
      },
      "outputs": [],
      "source": [
        "# Notice that the methods called have not actually modified the string\n",
        "a_string"
      ]
    },
    {
      "cell_type": "code",
      "execution_count": null,
      "metadata": {
        "colab": {
          "base_uri": "https://localhost:8080/"
        },
        "deletable": true,
        "editable": true,
        "id": "LhJxAm57zJiG",
        "outputId": "15eae3cb-ca96-49ed-8a6a-4d22e3861725"
      },
      "outputs": [],
      "source": [
        "# Count number of occurences of a substring in the string\n",
        "a_string.count('i')"
      ]
    },
    {
      "cell_type": "code",
      "execution_count": null,
      "metadata": {
        "colab": {
          "base_uri": "https://localhost:8080/"
        },
        "deletable": true,
        "editable": true,
        "id": "P5hbgfWDzJiH",
        "outputId": "cf0179e8-d6a1-452c-9989-265535bb200e"
      },
      "outputs": [],
      "source": [
        "# Count number of occurences of a substring in the string after a certain position\n",
        "a_string.count('i', 7)"
      ]
    },
    {
      "cell_type": "code",
      "execution_count": null,
      "metadata": {
        "colab": {
          "base_uri": "https://localhost:8080/"
        },
        "deletable": true,
        "editable": true,
        "id": "ZxwYOHxJzJiH",
        "outputId": "a39ebd31-909a-4993-e954-2fdeb7bf28b4"
      },
      "outputs": [],
      "source": [
        "# Count number of occurences of a substring in the string\n",
        "a_string.count('is')"
      ]
    },
    {
      "cell_type": "code",
      "execution_count": null,
      "metadata": {
        "colab": {
          "base_uri": "https://localhost:8080/"
        },
        "deletable": true,
        "editable": true,
        "id": "V4mSccuxzJiH",
        "outputId": "fb06292d-52c4-43c4-9423-b26861c9c4f7"
      },
      "outputs": [],
      "source": [
        "# Does the string start with 'this'?\n",
        "a_string.startswith('this')"
      ]
    },
    {
      "cell_type": "code",
      "execution_count": null,
      "metadata": {
        "deletable": true,
        "editable": true,
        "id": "-A6X_4NzzJiH"
      },
      "outputs": [],
      "source": [
        "# Does the lowercase string start with 'this'?\n",
        "a_string.lower().startswith('this')"
      ]
    },
    {
      "cell_type": "code",
      "execution_count": null,
      "metadata": {
        "deletable": true,
        "editable": true,
        "id": "jEsig5e-zJiI"
      },
      "outputs": [],
      "source": [
        "# Does the string end with 'Ng'?\n",
        "a_string.endswith('Ng')"
      ]
    },
    {
      "cell_type": "code",
      "execution_count": null,
      "metadata": {
        "colab": {
          "base_uri": "https://localhost:8080/",
          "height": 36
        },
        "deletable": true,
        "editable": true,
        "id": "5NMQ0RbLzJiI",
        "outputId": "99108932-6dff-486f-9681-cc11bbeac638"
      },
      "outputs": [],
      "source": [
        "# Return a version of the string with a substring replaced with something else\n",
        "a_string.replace('is', 'XYZ')"
      ]
    },
    {
      "cell_type": "code",
      "execution_count": null,
      "metadata": {
        "colab": {
          "base_uri": "https://localhost:8080/",
          "height": 36
        },
        "deletable": true,
        "editable": true,
        "id": "95Kfu9MnzJiI",
        "outputId": "be33d711-f276-49e5-fae2-3291442fda48"
      },
      "outputs": [],
      "source": [
        "# Return a version of the string with a substring replaced with something else\n",
        "a_string.replace('i', '!')"
      ]
    },
    {
      "cell_type": "code",
      "execution_count": null,
      "metadata": {
        "colab": {
          "base_uri": "https://localhost:8080/",
          "height": 36
        },
        "deletable": true,
        "editable": true,
        "id": "TsMxe6ghzJiI",
        "outputId": "905d641c-6ade-4e2f-e6ee-7070213a180d"
      },
      "outputs": [],
      "source": [
        "# Return a version of the string with the first 2 occurences of a substring replaced with something else\n",
        "a_string.replace('i', '!', 2)"
      ]
    },
    {
      "cell_type": "markdown",
      "metadata": {
        "collapsed": true,
        "deletable": true,
        "editable": true,
        "id": "mlHRDTitzJiJ"
      },
      "source": [
        "## Some methods on list objects\n",
        "\n",
        "- **`.append(item)`** to add a single item to the list\n",
        "- **`.extend([item1, item2, ...])`** to add multiple items to the list\n",
        "- **`.remove(item)`** to remove a single item from the list\n",
        "- **`.pop()`** to remove and return the item at the end of the list\n",
        "- **`.pop(index)`** to remove and return an item at an index"
      ]
    },
    {
      "cell_type": "code",
      "execution_count": null,
      "metadata": {
        "colab": {
          "base_uri": "https://localhost:8080/"
        },
        "collapsed": true,
        "deletable": true,
        "editable": true,
        "id": "Ui2ofbWLzJiJ",
        "outputId": "0d0de646-fcda-4df6-cfbe-00c40c02abc7"
      },
      "outputs": [],
      "source": [
        "aSMallList = [ 'one', 'More' ]\n",
        "print(aSMallList)\n",
        "aSMallList.append( 'time' )\n",
        "print(aSMallList)"
      ]
    },
    {
      "cell_type": "code",
      "execution_count": null,
      "metadata": {
        "colab": {
          "base_uri": "https://localhost:8080/"
        },
        "collapsed": true,
        "deletable": true,
        "editable": true,
        "id": "nW22juowzJiJ",
        "outputId": "6279ef1f-a63c-4af5-d344-085adbc1c4bf"
      },
      "outputs": [],
      "source": [
        "aSMallList.remove( 'time' )\n",
        "print(aSMallList)"
      ]
    },
    {
      "cell_type": "code",
      "execution_count": null,
      "metadata": {
        "colab": {
          "base_uri": "https://localhost:8080/"
        },
        "id": "6bm5kcleBPl2",
        "outputId": "a0618f0a-cca8-4506-b24b-55cc0e48c832"
      },
      "outputs": [],
      "source": [
        "aSMallList.pop()\n",
        "print(aSMallList)"
      ]
    },
    {
      "cell_type": "markdown",
      "metadata": {
        "deletable": true,
        "editable": true,
        "id": "88Ax9esCzJiJ"
      },
      "source": [
        "## Some methods on set objects\n",
        "\n",
        "- **`.add(item)`** to add a single item to the set\n",
        "- **`.update([item1, item2, ...])`** to add multiple items to the set\n",
        "- **`.update(set2, set3, ...)`** to add items from all provided sets to the set\n",
        "- **`.remove(item)`** to remove a single item from the set\n",
        "- **`.pop()`** to remove and return a random item from the set\n",
        "- **`.difference(set2)`** to return items in the set that are not in another set\n",
        "- **`.intersection(set2)`** to return items in both sets\n",
        "- **`.union(set2)`** to return items that are in either set\n",
        "- **`.symmetric_difference(set2)`** to return items that are only in one set (not both)\n",
        "- **`.issuperset(set2)`** does the set contain everything in the other set?\n",
        "- **`.issubset(set2)`** is the set contained in the other set?"
      ]
    },
    {
      "cell_type": "code",
      "execution_count": null,
      "metadata": {
        "colab": {
          "base_uri": "https://localhost:8080/"
        },
        "collapsed": true,
        "deletable": true,
        "editable": true,
        "id": "AA_nvmrszJiK",
        "outputId": "63d8ce2c-d146-47d6-c44c-6613921d69bc"
      },
      "outputs": [],
      "source": [
        "# Create some sets\n",
        "set_a = {1, 2, 3, 4}\n",
        "set_b = {3, 4, 5, 6}\n",
        "\n",
        "# Add an item to a set\n",
        "set_a.add(5)\n",
        "print(f'After adding 5 to set_a: {set_a}')\n",
        "\n",
        "# Update a set with multiple items\n",
        "set_a.update([6, 7])\n",
        "print(f'After updating set_a with [6, 7]: {set_a}')\n",
        "\n",
        "# Update a set with items from another set\n",
        "set_a.update(set_b)\n",
        "print(f'After updating set_a with set_b: {set_a}')\n",
        "\n",
        "# Remove an item from a set\n",
        "set_a.remove(7)\n",
        "print(f'After removing 7 from set_a: {set_a}')\n",
        "\n",
        "# Pop a random item from a set\n",
        "popped_item = set_a.pop()\n",
        "print(f'Popped item from set_a: {popped_item}')\n",
        "print(f'set_a after popping: {set_a}')\n",
        "\n",
        "# Difference of two sets\n",
        "print(f'Items in set_a but not in set_b: {set_a.difference(set_b)}')\n",
        "\n",
        "# Intersection of two sets\n",
        "print(f'Items in both set_a and set_b: {set_a.intersection(set_b)}')\n",
        "\n",
        "# Union of two sets\n",
        "print(f'Items in either set_a or set_b: {set_a.union(set_b)}')\n",
        "\n",
        "# Symmetric difference of two sets\n",
        "print(f'Items only in one of set_a or set_b: {set_a.symmetric_difference(set_b)}')\n",
        "\n",
        "# Check if set_a is a superset of set_b\n",
        "print(f'Is set_a a superset of set_b? {set_a.issuperset(set_b)}')\n",
        "\n",
        "# Check if {1, 2} is a subset of set_a\n",
        "print(f'Is {{1, 2}} a subset of set_a? {set_b.issubset(set_a)}')"
      ]
    },
    {
      "cell_type": "markdown",
      "metadata": {
        "deletable": true,
        "editable": true,
        "id": "wcS_t4j3zJiK"
      },
      "source": [
        "## Some methods on dict objects\n",
        "\n",
        "- **`.update([(key1, val1), (key2, val2), ...])`** to add multiple key-value pairs to the dict\n",
        "- **`.update(dict2)`** to add all keys and values from another dict to the dict\n",
        "- **`.pop(key)`** to remove key and return its value from the dict (error if key not found)\n",
        "- **`.pop(key, default_val)`** to remove key and return its value from the dict (or return default_val if key not found)\n",
        "- **`.get(key)`** to return the value at a specified key in the dict (or None if key not found)\n",
        "- **`.get(key, default_val)`** to return the value at a specified key in the dict (or default_val if key not found)\n",
        "- **`.keys()`** to return a list of keys in the dict\n",
        "- **`.values()`** to return a list of values in the dict\n",
        "- **`.items()`** to return a list of key-value pairs (tuples) in the dict"
      ]
    },
    {
      "cell_type": "code",
      "execution_count": null,
      "metadata": {
        "colab": {
          "base_uri": "https://localhost:8080/"
        },
        "collapsed": true,
        "deletable": true,
        "editable": true,
        "id": "stEhSTobCQIM",
        "outputId": "e898f0d4-b8ed-42e5-a61a-a8ccba139bfc"
      },
      "outputs": [],
      "source": [
        "# Create a dictionary\n",
        "my_dict = {'name': 'Alice', 'age': 30}\n",
        "\n",
        "# Update a dictionary with multiple key-value pairs\n",
        "my_dict.update([('city', 'New York'), ('country', 'USA')])\n",
        "print(f'After updating with list of tuples: {my_dict}')\n",
        "\n",
        "# Update a dictionary with another dictionary\n",
        "another_dict = {'occupation': 'Engineer', 'salary': 80000}\n",
        "my_dict.update(another_dict)\n",
        "print(f'After updating with another dictionary: {my_dict}')\n",
        "\n",
        "# Pop a key and return its value\n",
        "age_value = my_dict.pop('age')\n",
        "print(f'Popped age: {age_value}')\n",
        "print(f'Dictionary after popping age: {my_dict}')\n",
        "\n",
        "# Pop a key with a default value if not found\n",
        "non_existent = my_dict.pop('non_existent_key', 'Default Value')\n",
        "print(f'Popped non-existent key: {non_existent}')\n",
        "print(f'Dictionary after popping non-existent key: {my_dict}')\n",
        "\n",
        "# Get the value of a key\n",
        "name_value = my_dict.get('name')\n",
        "print(f'Value of name: {name_value}')\n",
        "\n",
        "# Get the value of a non-existent key (returns None)\n",
        "none_value = my_dict.get('address')\n",
        "print(f'Value of address (non-existent): {none_value}')\n",
        "\n",
        "# Get the value of a non-existent key with a default value\n",
        "default_address = my_dict.get('address', 'No address provided')\n",
        "print(f'Value of address with default: {default_address}')\n",
        "\n",
        "# Get all keys\n",
        "keys_list = my_dict.keys()\n",
        "print(f'Keys: {keys_list}')\n",
        "\n",
        "# Get all values\n",
        "values_list = my_dict.values()\n",
        "print(f'Values: {values_list}')\n",
        "\n",
        "# Get all items (key-value pairs)\n",
        "items_list = my_dict.items()\n",
        "print(f'Items: {items_list}')"
      ]
    },
    {
      "cell_type": "markdown",
      "metadata": {
        "deletable": true,
        "editable": true,
        "id": "ukVWUbEGzJiK"
      },
      "source": [
        "## Positional arguments and keyword arguments to callables\n",
        "\n",
        "You can call a function/method in a number of different ways:\n",
        "\n",
        "- `func()`: Call `func` with no arguments\n",
        "- `func(arg)`: Call `func` with one positional argument\n",
        "- `func(arg1, arg2)`: Call `func` with two positional arguments\n",
        "- `func(arg1, arg2, ..., argn)`: Call `func` with many positional arguments\n",
        "- `func(kwarg=value)`: Call `func` with one keyword argument\n",
        "- `func(kwarg1=value1, kwarg2=value2)`: Call `func` with two keyword arguments\n",
        "- `func(kwarg1=value1, kwarg2=value2, ..., kwargn=valuen)`: Call `func` with many keyword arguments\n",
        "- `func(arg1, arg2, kwarg1=value1, kwarg2=value2)`: Call `func` with positonal arguments and keyword arguments\n",
        "- `obj.method()`: Same for `func`.. and every other `func` example\n",
        "\n",
        "When using **positional arguments**, you must provide them in the order that the function defined them (the function's **signature**).\n",
        "\n",
        "When using **keyword arguments**, you can provide the arguments you want, in any order you want, as long as you specify each argument's name.\n",
        "\n",
        "When using positional and keyword arguments, positional arguments must come first."
      ]
    },
    {
      "cell_type": "code",
      "execution_count": null,
      "metadata": {
        "colab": {
          "base_uri": "https://localhost:8080/"
        },
        "collapsed": true,
        "deletable": true,
        "editable": true,
        "id": "y8ruHjT6DPeK",
        "outputId": "aa9c78ed-c421-40c3-f562-dade0b7befc9"
      },
      "outputs": [],
      "source": [
        "# Define a function that takes both positional and keyword arguments\n",
        "def greet(name, greeting=\"Hello\"):\n",
        "  \"\"\"Greets a person with an optional greeting.\"\"\"\n",
        "  print(f\"{greeting}, {name}!\")\n",
        "\n",
        "# Call with a positional argument\n",
        "greet(\"Alice\")\n",
        "\n",
        "# Call with a positional and a keyword argument\n",
        "greet(\"Bob\", greeting=\"Hi\")\n",
        "\n",
        "# Call with keyword arguments (order doesn't matter)\n",
        "greet(greeting=\"Good morning\", name=\"Charlie\")\n",
        "\n",
        "# This will raise a TypeError because positional arguments must come before keyword arguments\n",
        "# greet(greeting=\"Good evening\", \"David\")"
      ]
    },
    {
      "cell_type": "markdown",
      "metadata": {
        "deletable": true,
        "editable": true,
        "id": "mamIndJgzJiK"
      },
      "source": [
        "## Formatting strings and using placeholders"
      ]
    },
    {
      "cell_type": "code",
      "execution_count": null,
      "metadata": {
        "colab": {
          "base_uri": "https://localhost:8080/"
        },
        "deletable": true,
        "editable": true,
        "id": "4ifloGarzJiK",
        "outputId": "14df7941-ac15-424d-95e5-ced477d4401f"
      },
      "outputs": [],
      "source": [
        "name = \"Alice\"\n",
        "age = 30\n",
        "city = \"New York\"\n",
        "\n",
        "# Using f-strings (formatted string literals) - Recommended in modern Python (3.6+)\n",
        "print(f\"Hello, my name is {name} and I am {age} years old. I live in {city}.\")\n",
        "\n",
        "# Using the .format() method\n",
        "print(\"Hello, my name is {} and I am {} years old. I live in {}.\".format(name, age, city))\n",
        "print(\"Hello, my name is {0} and I am {1} years old. I live in {2}.\".format(name, age, city))\n",
        "print(\"Hello, my name is {name} and I am {age} years old. I live in {city}.\".format(name=name, age=age, city=city))\n",
        "\n",
        "# Using older style % formatting\n",
        "print(\"Hello, my name is %s and I am %d years old. I live in %s.\" % (name, age, city))"
      ]
    },
    {
      "cell_type": "markdown",
      "metadata": {
        "deletable": true,
        "editable": true,
        "id": "CkH51uY0pHEN"
      },
      "source": [
        "## Iterating over containers"
      ]
    },
    {
      "cell_type": "code",
      "execution_count": null,
      "metadata": {
        "colab": {
          "base_uri": "https://localhost:8080/"
        },
        "collapsed": true,
        "deletable": true,
        "editable": true,
        "id": "S2ggpeXCEUXp",
        "outputId": "8d0b996c-00ee-4bff-c42e-bd492a0c9b3e"
      },
      "outputs": [],
      "source": [
        "# Iterate over a list\n",
        "import numpy as np\n",
        "my_list = [2, 'hello', np.linspace(0, 1, 14)]\n",
        "print(\"Iterating over a list:\")\n",
        "for item in my_list:\n",
        "  print(item)\n",
        "\n",
        "# Iterate over a string\n",
        "my_string = \"Python\"\n",
        "print(\"\\nIterating over a string:\")\n",
        "for char in my_string:\n",
        "  print(char)\n",
        "\n",
        "# Iterate over a dictionary (keys)\n",
        "my_dict = {'a': 1, 'b': 2, 'c': 3}\n",
        "print(\"\\nIterating over dictionary keys:\")\n",
        "for key in my_dict:\n",
        "  print(key)\n",
        "\n",
        "# Iterate over a dictionary (values)\n",
        "print(\"\\nIterating over dictionary values:\")\n",
        "for value in my_dict.values():\n",
        "  print(value)\n",
        "\n",
        "# Iterate over a dictionary (key-value pairs)\n",
        "print(\"\\nIterating over dictionary items:\")\n",
        "for key, value in my_dict.items():\n",
        "  print(f\"Key: {key}, Value: {value}\")\n",
        "\n",
        "# Iterate using range()\n",
        "print(\"\\nIterating using range():\")\n",
        "for i in range(5):\n",
        "  print(i)\n",
        "\n",
        "# Iterate using range() with start and stop\n",
        "print(\"\\nIterating using range() with start and stop:\")\n",
        "for i in range(2, 7):\n",
        "  print(i)\n",
        "\n",
        "# Iterate using range() with start, stop, and step\n",
        "# The function range() creates an iterable object with its own data type\n",
        "# called range, which is often used in for loops. The range variable Excludes\n",
        "# upper bound. Also, if you start counting at 0, then you don't need the first input,\n",
        "# so range(10) is the same as range(0, 10).\n",
        "\n",
        "print(\"\\nIterating using range() with start, stop, and step:\")\n",
        "for i in range(0, 10, 2):\n",
        "  print(i)"
      ]
    },
    {
      "cell_type": "markdown",
      "metadata": {
        "id": "594KS_eA8ekg"
      },
      "source": [
        "## Writing your own functions\n",
        "\n",
        "While there are many built-in functions available in Python, you will most likely always end up writing your own functions. Creating your own functions is easy and convenient; you use the built-in keyword **def** to define the function (a keyword is a reserved name that cannot be redefined\n",
        "as a variable or function), then state the function name and any possible inputs, and end the line with a colon. Any lines thereafter are included in the function if they are indented with two spaces. Python is very particular about spacing at the beginning of the line (but not particular about spacing elsewhere in the line). Any outputs are indicated by the return keyword.\n",
        "Here's a simple example:\n",
        "\n"
      ]
    },
    {
      "cell_type": "code",
      "execution_count": null,
      "metadata": {
        "colab": {
          "base_uri": "https://localhost:8080/"
        },
        "id": "UjBuP7y3DdZj",
        "outputId": "4690e3db-fa93-4a9e-8b2d-b9cb88187608"
      },
      "outputs": [],
      "source": [
        "def add2numbers(n1, n2):\n",
        "  total= n1+n2\n",
        "  print(total)\n",
        "  return total\n",
        "\n",
        "#This function takes two inputs and computes, prints, and outputs their sum.\n",
        "\n",
        "s = add2numbers(4,5)\n",
        "print(s)\n"
      ]
    },
    {
      "cell_type": "markdown",
      "metadata": {
        "deletable": true,
        "editable": true,
        "id": "plEr_q14zJiM"
      },
      "source": [
        "# Control Flow\n",
        "\n",
        "The ability of your code to adapt its behavior depending on the state of certain variables or user inputs comes from control flow statements.\n",
        "Examples are *Comparators*, *if statements*, *for loops*, and *while loops*.\n",
        "\n",
        "## Python \"comparators\"\n",
        "\n",
        "Comparators allow you to compare different values. The outcome of a comparator is a data type called a Boolean, which takes one of two\n",
        "values: `True` or `False`.\n",
        "\n",
        "\n",
        "## Python \"for loops\"\n",
        "\n",
        "It is easy to **iterate** over a collection of items using a **for loop**. The strings, lists, tuples, sets, and dictionaries we defined are all **iterable** containers.\n",
        "\n",
        "The for loop will go through the specified container, one item at a time, and provide a temporary variable for the current item. You can use this temporary variable like a normal variable.\n",
        "\n",
        "To create a **for loop**, you specify an iterable (an iterable is a variable\n",
        "used to iterate over each element in that variable; a list can be used as an iterable) and\n",
        "then any number of lines of code that should be run inside the **for loop**.\n",
        "\n",
        "\n",
        "## Python \"if statements\"\n",
        "\n",
        "Conditional expressions can be used with these two **conditional statements**.\n",
        "\n",
        "The **if statement** allows you to test a condition and perform some actions if the condition evaluates to `True`. You can also provide `elif` and/or `else` clauses to an if statement to take alternative actions if the condition evaluates to `False`.\n",
        "\n",
        "## Python \"while loops\"\n",
        "\n",
        "The **while loop** will keep looping until its conditional expression evaluates to `False`.\n",
        "\n",
        "> Note: It is possible to \"loop forever\" when using a while loop with a conditional expression that never evaluates to `False`.\n",
        ">\n",
        "> Note: Since the **for loop** will iterate over a container of items until there are no more, there is no need to specify a \"stop looping\" condition."
      ]
    },
    {
      "cell_type": "code",
      "execution_count": null,
      "metadata": {
        "colab": {
          "base_uri": "https://localhost:8080/"
        },
        "id": "UUZTlLsuUnr2",
        "outputId": "b529e9d3-917c-452f-957f-58a27f0b5aef"
      },
      "outputs": [],
      "source": [
        "# Comparators\n",
        "print(4 < 5)\n",
        "print(4 > 5)\n",
        "print(4 == 5)\n",
        "print(4 != 5)\n",
        "print(4 <= 5)\n",
        "print(4 >= 5)"
      ]
    },
    {
      "cell_type": "code",
      "execution_count": null,
      "metadata": {
        "colab": {
          "base_uri": "https://localhost:8080/"
        },
        "deletable": true,
        "editable": true,
        "id": "B1UrxPRhUFlX",
        "outputId": "73244678-f4d8-44bf-8725-b76de7fa6bf7"
      },
      "outputs": [],
      "source": [
        "# for loops\n",
        "\n",
        "# Iterate over a list\n",
        "import numpy as np\n",
        "my_list = [2, 'hello', np.linspace(0, 1, 14)]\n",
        "print(\"Iterating over a list:\")\n",
        "for item in my_list:\n",
        "  print(item)\n",
        "\n",
        "# Iterate over a string\n",
        "my_string = \"Python\"\n",
        "print(\"\\nIterating over a string:\")\n",
        "for char in my_string:\n",
        "  print(char)\n",
        "\n",
        "# Iterate over a dictionary (keys)\n",
        "my_dict = {'a': 1, 'b': 2, 'c': 3}\n",
        "print(\"\\nIterating over dictionary keys:\")\n",
        "for key in my_dict:\n",
        "  print(key)\n",
        "\n",
        "# Iterate over a dictionary (values)\n",
        "print(\"\\nIterating over dictionary values:\")\n",
        "for value in my_dict.values():\n",
        "  print(value)\n",
        "\n",
        "# Iterate over a dictionary (key-value pairs)\n",
        "print(\"\\nIterating over dictionary items:\")\n",
        "for key, value in my_dict.items():\n",
        "  print(f\"Key: {key}, Value: {value}\")\n",
        "\n",
        "# Iterate using range()\n",
        "print(\"\\nIterating using range():\")\n",
        "for i in range(5):\n",
        "  print(i)\n",
        "\n",
        "# Iterate using range() with start and stop\n",
        "print(\"\\nIterating using range() with start and stop:\")\n",
        "for i in range(2, 7):\n",
        "  print(i)\n",
        "\n",
        "# Iterate using range() with start, stop, and step\n",
        "# The function range() creates an iterable object with its own data type\n",
        "# called range, which is often used in for loops. The range variable Excludes\n",
        "# upper bound. Also, if you start counting at 0, then you don't need the first input,\n",
        "# so range(10) is the same as range(0, 10).\n",
        "\n",
        "print(\"\\nIterating using range() with start, stop, and step:\")\n",
        "for i in range(0, 10, 2):\n",
        "  print(i)"
      ]
    },
    {
      "cell_type": "markdown",
      "metadata": {
        "id": "N5QO3ekiBPM1"
      },
      "source": [
        "### Example: Sum a list of integers\n",
        "\n",
        "Given a vector $a \\in \\mathbb{R}^n$, compute the sum of its element,\n",
        "    \n",
        "$$ s = \\sum_{i=0}^{n-1} a_i$$\n"
      ]
    },
    {
      "cell_type": "code",
      "execution_count": null,
      "metadata": {
        "colab": {
          "base_uri": "https://localhost:8080/"
        },
        "id": "iGKIkLEjCOMl",
        "outputId": "03fa130b-49f9-401a-ba12-c181a4387ad2"
      },
      "outputs": [],
      "source": [
        "a = [1,2,3,4,5,6,7,8,9,10]\n",
        "s = 0\n",
        "for x in a:\n",
        "    s += x\n",
        "print('Sum = ',s)"
      ]
    },
    {
      "cell_type": "code",
      "execution_count": null,
      "metadata": {
        "colab": {
          "base_uri": "https://localhost:8080/"
        },
        "id": "alhc4ycjVpYe",
        "outputId": "cc82dc99-a75a-4407-cace-49c580ac5775"
      },
      "outputs": [],
      "source": [
        "# if statements\n",
        "\n",
        "var = 4\n",
        "if var == 5:\n",
        "  print('var is 5') # code 1\n",
        "elif var > 5:\n",
        "  print('var > 5') # code 2\n",
        "else:\n",
        "  print('var < 5') # code 3\n",
        "\n",
        "print('Outside the if-elif-else')"
      ]
    },
    {
      "cell_type": "code",
      "execution_count": null,
      "metadata": {
        "colab": {
          "base_uri": "https://localhost:8080/"
        },
        "id": "q6foz9l7Wf86",
        "outputId": "606496f7-3ad9-438a-d382-a4f82518e580"
      },
      "outputs": [],
      "source": [
        "# Nesting flow-control statements inside other flow-control statements gives your code\n",
        "# an additional layer of flexibility\n",
        "powers = [0]*10\n",
        "for i in range(len(powers)):\n",
        "  if i % 2 == 0 and i > 0: # % is the modulus operator, and it returns the remainder after division\n",
        "    print(f'{i} is an even number')\n",
        "  if i > 4:\n",
        "    powers[i] = i**2\n",
        "\n",
        "print(powers)"
      ]
    },
    {
      "cell_type": "code",
      "execution_count": null,
      "metadata": {
        "colab": {
          "base_uri": "https://localhost:8080/"
        },
        "collapsed": true,
        "deletable": true,
        "editable": true,
        "id": "lebWl__1cafc",
        "outputId": "6883b50f-317b-43a9-df6c-08d724e04f31"
      },
      "outputs": [],
      "source": [
        "# while loop\n",
        "count = 0\n",
        "while count < 5:\n",
        "  print(count)\n",
        "  count += 1"
      ]
    },
    {
      "cell_type": "markdown",
      "metadata": {
        "deletable": true,
        "editable": true,
        "id": "7397b0CLzJiN"
      },
      "source": [
        "## List, set, and dict comprehensions"
      ]
    },
    {
      "cell_type": "code",
      "execution_count": null,
      "metadata": {
        "colab": {
          "base_uri": "https://localhost:8080/"
        },
        "deletable": true,
        "editable": true,
        "id": "yDYOTmOJzJiN",
        "outputId": "3371f2a3-497d-486c-dc49-e6b427ad88c2"
      },
      "outputs": [],
      "source": [
        "# List comprehension\n",
        "squares = [x**2 for x in range(10)]\n",
        "print(f\"List comprehension (squares): {squares}\")\n",
        "\n",
        "# List comprehension with a condition\n",
        "even_squares = [x**2 for x in range(10) if x % 2 == 0]\n",
        "print(f\"List comprehension (even squares): {even_squares}\")\n",
        "\n",
        "# Set comprehension\n",
        "unique_letters = {char for char in 'programming is fun' if char.isalpha()}\n",
        "print(f\"Set comprehension (unique letters): {unique_letters}\")\n",
        "\n",
        "# Dictionary comprehension\n",
        "square_dict = {x: x**2 for x in range(5)}\n",
        "print(f\"Dictionary comprehension (squares): {square_dict}\")\n",
        "\n",
        "# Dictionary comprehension with a condition\n",
        "even_square_dict = {x: x**2 for x in range(10) if x % 2 == 0}\n",
        "print(f\"Dictionary comprehension (even squares): {even_square_dict}\")"
      ]
    },
    {
      "cell_type": "markdown",
      "metadata": {
        "deletable": true,
        "editable": true,
        "id": "W68nqKvvzJiN"
      },
      "source": [
        "## Creating objects from arguments or other objects\n",
        "\n",
        "The basic types and containers we have used so far all provide **type constructors**:\n",
        "\n",
        "- `int()`\n",
        "- `float()`\n",
        "- `str()`\n",
        "- `list()`\n",
        "- `tuple()`\n",
        "- `set()`\n",
        "- `dict()`\n",
        "\n",
        "Up to this point, we have been defining objects of these built-in types using some syntactic shortcuts, since they are so common.\n",
        "\n",
        "Sometimes, you will have an object of one type that you need to convert to another type. Use the **type constructor** for the type of object you want to have, and pass in the object you currently have."
      ]
    },
    {
      "cell_type": "code",
      "execution_count": null,
      "metadata": {
        "colab": {
          "base_uri": "https://localhost:8080/"
        },
        "collapsed": true,
        "deletable": true,
        "editable": true,
        "id": "bgtgRjKpzJiO",
        "outputId": "0283cfbc-dfb3-4f41-ff81-8aaaf21d5ada"
      },
      "outputs": [],
      "source": [
        "# Create an integer from a float\n",
        "int_from_float = int(3.14)\n",
        "print(f\"Integer from float: {int_from_float}\")\n",
        "\n",
        "# Create a float from an integer\n",
        "float_from_int = float(10)\n",
        "print(f\"Float from integer: {float_from_int}\")\n",
        "\n",
        "# Create a string from an integer\n",
        "string_from_int = str(123)\n",
        "print(f\"String from integer: {string_from_int}\")\n",
        "\n",
        "# Create a list from a string\n",
        "list_from_string = list(\"hello\")\n",
        "print(f\"List from string: {list_from_string}\")\n",
        "\n",
        "# Create a tuple from a list\n",
        "tuple_from_list = tuple([1, 2, 3])\n",
        "print(f\"Tuple from list: {tuple_from_list}\")\n",
        "\n",
        "# Create a set from a list (removes duplicates)\n",
        "set_from_list = set([1, 2, 2, 3, 4, 4])\n",
        "print(f\"Set from list: {set_from_list}\")\n",
        "\n",
        "# Create a dictionary from a list of tuples\n",
        "dict_from_list_of_tuples = dict([('a', 1), ('b', 2), ('c', 3)])\n",
        "print(f\"Dictionary from list of tuples: {dict_from_list_of_tuples}\")\n",
        "\n",
        "# Create a dictionary from a list of lists\n",
        "dict_from_list_of_lists = dict([['x', 10], ['y', 20]])\n",
        "print(f\"Dictionary from list of lists: {dict_from_list_of_lists}\")"
      ]
    },
    {
      "cell_type": "markdown",
      "metadata": {
        "deletable": true,
        "editable": true,
        "id": "_EoKlvm7zJiO"
      },
      "source": [
        "## Exceptions"
      ]
    },
    {
      "cell_type": "code",
      "execution_count": null,
      "metadata": {
        "colab": {
          "base_uri": "https://localhost:8080/"
        },
        "collapsed": true,
        "deletable": true,
        "editable": true,
        "id": "UlXep7LwzJiP",
        "outputId": "e37cf352-2021-47c7-abe8-0ff87770d075"
      },
      "outputs": [],
      "source": [
        "# Example of a ZeroDivisionError\n",
        "try:\n",
        "  result = 10 / 0\n",
        "except ZeroDivisionError:\n",
        "  print(\"Error: Division by zero occurred!\")\n",
        "finally:\n",
        "  print(\"This block always executes.\")\n",
        "\n",
        "print(\"-\" * 20)\n",
        "\n",
        "# Example of a ValueError\n",
        "try:\n",
        "  num = int(\"abc\")\n",
        "except ValueError:\n",
        "  print(\"Error: Could not convert to integer!\")\n",
        "finally:\n",
        "  print(\"This block also always executes.\")\n",
        "\n",
        "print(\"-\" * 20)\n",
        "\n",
        "# Example with multiple exceptions\n",
        "try:\n",
        "  my_list = [1, 2, 3]\n",
        "  print(my_list[4])\n",
        "  result = 10 / 0\n",
        "except IndexError:\n",
        "  print(\"Error: Index out of bounds!\")\n",
        "except ZeroDivisionError:\n",
        "  print(\"Error: Division by zero occurred!\")\n",
        "finally:\n",
        "  print(\"This block runs after handling the exception.\")\n",
        "\n",
        "print(\"-\" * 20)\n",
        "\n",
        "# Example without an exception\n",
        "try:\n",
        "  result = 10 / 2\n",
        "  print(f\"Result: {result}\")\n",
        "except ZeroDivisionError:\n",
        "  print(\"Error: Division by zero occurred!\")\n",
        "finally:\n",
        "  print(\"This block executes even if no exception occurs.\")"
      ]
    },
    {
      "cell_type": "markdown",
      "metadata": {
        "id": "FqgC-0uHd_6j"
      },
      "source": [
        "## Libraries\n",
        "\n",
        "Python is designed to be easy and fast to install and run. But the downside is that the\n",
        "basic install of Python comes with a small number of built-in functions.\n",
        "\n",
        "\n",
        "Developers therefore create collections of functions focused on a specific topic, which\n",
        "are called libraries. Once you import a library into Python, you can access all the\n",
        "functions, variable types, and methods that are available in that library.\n",
        "\n",
        "- `NumPy`: a package for scientific computing with tools for algebra, random number generation, integrating with databases, and managing data,\n",
        "\n",
        "- `SciPy`: a Python-based ecosystem of packages for math, science, and engineering,\n",
        "\n",
        "- `Pandas`: import data via a url and create a dataframe to easily handle data for analysis and graphing,\n",
        "\n",
        "- `Matplotlib`: for making graphs,\n",
        "\n",
        "- `Plotly`: a graphing library for making interactive, publication-quality graphs. See examples of statistic, scientific, 3D charts, and more here: https://plotly.com/python.\n",
        "\n",
        "\n",
        "\n",
        "    numpy: provides arrays, linear algebra, random numbers, etc.\n",
        "\n",
        "    scipy: integration, optimization, linear algebra\n",
        "\n",
        "    matplotlib: for making graphs\n",
        "\n",
        "    sympy: symbolic math\n"
      ]
    },
    {
      "cell_type": "code",
      "execution_count": null,
      "metadata": {
        "colab": {
          "base_uri": "https://localhost:8080/"
        },
        "id": "UekPNdUOeGhh",
        "outputId": "2f36df04-47b8-41ce-b629-10a9666f35fd"
      },
      "outputs": [],
      "source": [
        "import pandas as pd\n",
        "import numpy as np\n",
        "import scipy as sp\n",
        "import plotly as py\n",
        "\n",
        "average = np.mean([1, 2, 3])\n",
        "sorted = np.sort([2, 1, 3])\n",
        "vector= np.array([9, 8, 1, 2])\n",
        "theRank = np.linalg.matrix_rank([[1,2],[1,3]])\n",
        "print(theRank)"
      ]
    },
    {
      "cell_type": "markdown",
      "metadata": {
        "id": "RqUSBlITdsZ4"
      },
      "source": [
        "## Visualization\n",
        "\n",
        "Many concepts in linear algebra and most other areas of mathematics are best\n",
        "understood by seeing them on your computer screen. Most data visualization in Python is handled by the matplotlib library. Some aspects\n",
        "of graphical displays are IDE dependent."
      ]
    },
    {
      "cell_type": "code",
      "execution_count": null,
      "metadata": {
        "colab": {
          "base_uri": "https://localhost:8080/",
          "height": 470
        },
        "id": "dHQjhwYrd7NQ",
        "outputId": "0299dcc2-4856-4b87-f866-3269e14a9427"
      },
      "outputs": [],
      "source": [
        "import matplotlib.pyplot as plt\n",
        "import numpy as np\n",
        "\n",
        "plt.plot(1,2,'ko') # 1) plot a black circle\n",
        "plt.plot([0,2],[0,4],'r--') # 2) plot a line\n",
        "plt.xlim([-4,4]) # 3) set the x-axis limits\n",
        "plt.ylim([-4,4]) # 4) set the y-axis limits\n",
        "plt.title('The graph tltle') # 5) graph title\n"
      ]
    },
    {
      "cell_type": "code",
      "execution_count": null,
      "metadata": {
        "colab": {
          "base_uri": "https://localhost:8080/",
          "height": 463
        },
        "id": "KUC1kv9gl6hb",
        "outputId": "4d1a2d89-f8d9-4e38-ea3b-ae3b01c8d17d"
      },
      "outputs": [],
      "source": [
        "_,axs = plt.subplots(1,2,figsize=(8,5)) # 1) create subplots\n",
        "axs[0].plot(np.random.randn(10,5)) # 2) line plot on the left\n",
        "axs[1].imshow(np.random.randn(10,5)) # 3) image on the right"
      ]
    },
    {
      "cell_type": "code",
      "execution_count": null,
      "metadata": {
        "colab": {
          "base_uri": "https://localhost:8080/",
          "height": 448
        },
        "id": "xDGIGFN2mggY",
        "outputId": "82e71f2a-b72f-4fff-8043-87174942c2f3"
      },
      "outputs": [],
      "source": [
        "x = np.linspace(-4,4,42)\n",
        "y = x**2\n",
        "plt.plot(x,y,'s-')\n"
      ]
    },
    {
      "cell_type": "code",
      "execution_count": null,
      "metadata": {
        "colab": {
          "base_uri": "https://localhost:8080/",
          "height": 430
        },
        "id": "DV4OoFR7nJq1",
        "outputId": "a3300569-050f-4c1d-81eb-5c11f1b09a8a"
      },
      "outputs": [],
      "source": [
        "x = np.linspace(-4,4,42)\n",
        "alpha = 1.4\n",
        "beta = 2\n",
        "num = alpha # numerator\n",
        "den = 1 + np.exp(-beta*x) # denominator\n",
        "fx = num / den\n",
        "plt.plot(x,fx,'s-');"
      ]
    },
    {
      "cell_type": "code",
      "execution_count": null,
      "metadata": {
        "colab": {
          "base_uri": "https://localhost:8080/",
          "height": 542
        },
        "id": "48CYDnbakFAz",
        "outputId": "9f5d6455-8435-4a68-ce9f-ac84be6c7a08"
      },
      "outputs": [],
      "source": [
        "import plotly.express as px\n",
        "\n",
        "z = [[.1, .3, .5, .7, .9],\n",
        "     [1, .8, .6, .4, .2],\n",
        "     [.2, 0, .5, .7, .9],\n",
        "     [.9, .8, .4, .2, 0],\n",
        "     [.3, .4, .5, .7, 1]]\n",
        "\n",
        "fig = px.imshow(z, text_auto=True)\n",
        "fig.show()"
      ]
    },
    {
      "cell_type": "markdown",
      "metadata": {
        "deletable": true,
        "editable": true,
        "id": "nmKEfzX5zJiS"
      },
      "source": [
        "## Measuring computation time\n",
        "\n",
        "When writing and evaluating code, you will often want to know how long the\n",
        "computer takes to run certain pieces of code. There are several ways to measure elapsed time in Python; one simple method is using the time library. The idea is to query the operating system's local time twice: once before running some code or functions, and once after\n",
        "running the code. The difference in clock times is the computation time. The result is the elapsed time in seconds.\n",
        "\n"
      ]
    },
    {
      "cell_type": "code",
      "execution_count": null,
      "metadata": {
        "colab": {
          "base_uri": "https://localhost:8080/"
        },
        "id": "3BirFhW6qZYh",
        "outputId": "eddf7481-5638-46dc-f9de-f4bed4fe1adb"
      },
      "outputs": [],
      "source": [
        "import time\n",
        "\n",
        "start_time = time.time()\n",
        "\n",
        "# Simulate some computation\n",
        "for i in range(1000000):\n",
        "  pass\n",
        "\n",
        "end_time = time.time()\n",
        "elapsed_time = end_time - start_time\n",
        "\n",
        "print(f\"Elapsed time: {elapsed_time} seconds\")"
      ]
    },
    {
      "cell_type": "markdown",
      "metadata": {
        "deletable": true,
        "editable": true,
        "id": "YQx5xpPXzJiP"
      },
      "source": [
        "## Classes: Creating your own objects"
      ]
    },
    {
      "cell_type": "code",
      "execution_count": null,
      "metadata": {
        "collapsed": true,
        "deletable": true,
        "editable": true,
        "id": "E5BFbPkazJiP"
      },
      "outputs": [],
      "source": [
        "# Define a new class called `Thing` that is derived from the base Python object\n",
        "class Thing(object):\n",
        "    my_property = 'I am a \"Thing\"'\n",
        "\n",
        "\n",
        "# Define a new class called `DictThing` that is derived from the `dict` type\n",
        "class DictThing(dict):\n",
        "    my_property = 'I am a \"DictThing\"'"
      ]
    },
    {
      "cell_type": "code",
      "execution_count": null,
      "metadata": {
        "colab": {
          "base_uri": "https://localhost:8080/"
        },
        "deletable": true,
        "editable": true,
        "id": "ZTohS9FfzJiP",
        "outputId": "5b731f9b-4d70-4c80-ed57-a49649824fab"
      },
      "outputs": [],
      "source": [
        "print(Thing)\n",
        "print(type(Thing))\n",
        "print(DictThing)\n",
        "print(type(DictThing))\n",
        "print(issubclass(DictThing, dict))\n",
        "print(issubclass(DictThing, object))"
      ]
    },
    {
      "cell_type": "code",
      "execution_count": null,
      "metadata": {
        "colab": {
          "base_uri": "https://localhost:8080/"
        },
        "deletable": true,
        "editable": true,
        "id": "-URssSwBzJiP",
        "outputId": "70395b66-2335-4882-89a7-5899d64f07d1"
      },
      "outputs": [],
      "source": [
        "# Create \"instances\" of our new classes\n",
        "t = Thing()\n",
        "d = DictThing()\n",
        "print(t)\n",
        "print(type(t))\n",
        "print(d)\n",
        "print(type(d))"
      ]
    },
    {
      "cell_type": "code",
      "execution_count": null,
      "metadata": {
        "colab": {
          "base_uri": "https://localhost:8080/"
        },
        "deletable": true,
        "editable": true,
        "id": "mF8zUIMlzJiP",
        "outputId": "8654dafd-42dc-4577-ab90-ea99e2103a2f"
      },
      "outputs": [],
      "source": [
        "# Interact with a DictThing instance just as you would a normal dictionary\n",
        "d['name'] = 'Sally'\n",
        "print(d)"
      ]
    },
    {
      "cell_type": "code",
      "execution_count": null,
      "metadata": {
        "colab": {
          "base_uri": "https://localhost:8080/"
        },
        "deletable": true,
        "editable": true,
        "id": "pUNHunujzJiP",
        "outputId": "3b90191d-e4ca-4dbf-f4bd-191c0a48f875"
      },
      "outputs": [],
      "source": [
        "d.update({\n",
        "        'age': 13,\n",
        "        'fav_foods': ['pizza', 'sushi', 'pad thai', 'waffles'],\n",
        "        'fav_color': 'green',\n",
        "    })\n",
        "print(d)"
      ]
    },
    {
      "cell_type": "code",
      "execution_count": null,
      "metadata": {
        "colab": {
          "base_uri": "https://localhost:8080/"
        },
        "deletable": true,
        "editable": true,
        "id": "uqRhj9YVzJiP",
        "outputId": "9525b42a-eee8-426a-fa88-02f9188e65e8"
      },
      "outputs": [],
      "source": [
        "print(d.my_property)"
      ]
    },
    {
      "cell_type": "markdown",
      "metadata": {
        "deletable": true,
        "editable": true,
        "id": "kcE_HG-ZzJiP"
      },
      "source": [
        "## Defining functions and methods"
      ]
    },
    {
      "cell_type": "code",
      "execution_count": null,
      "metadata": {
        "colab": {
          "base_uri": "https://localhost:8080/"
        },
        "collapsed": true,
        "deletable": true,
        "editable": true,
        "id": "LrLO1sGyzJiQ",
        "outputId": "91fb7987-e998-4778-c424-6d00dc4358da"
      },
      "outputs": [],
      "source": [
        "# Define a simple function\n",
        "def my_function(arg1, arg2):\n",
        "  \"\"\"This is a simple function that adds two arguments.\"\"\"\n",
        "  return arg1 + arg2\n",
        "\n",
        "# Define a class with a method\n",
        "class MyClass:\n",
        "  def my_method(self, x):\n",
        "    \"\"\"This is a method within a class that multiplies the input by 2.\"\"\"\n",
        "    return x * 2\n",
        "\n",
        "# Call the function\n",
        "result_function = my_function(5, 3)\n",
        "print(f\"Result of function call: {result_function}\")\n",
        "\n",
        "# Create an instance of the class and call the method\n",
        "my_object = MyClass()\n",
        "result_method = my_object.my_method(10)\n",
        "print(f\"Result of method call: {result_method}\")"
      ]
    },
    {
      "cell_type": "markdown",
      "metadata": {
        "deletable": true,
        "editable": true,
        "id": "ZKvnJV2yzJiQ"
      },
      "source": [
        "## Creating an initializer method for your classes"
      ]
    },
    {
      "cell_type": "code",
      "execution_count": null,
      "metadata": {
        "colab": {
          "base_uri": "https://localhost:8080/"
        },
        "collapsed": true,
        "deletable": true,
        "editable": true,
        "id": "9N90GJVozJiQ",
        "outputId": "95448449-d638-4a05-8375-defe2a75966f"
      },
      "outputs": [],
      "source": [
        "class Dog:\n",
        "  # The initializer method (constructor)\n",
        "  def __init__(self, name, breed):\n",
        "    self.name = name  # Instance variable\n",
        "    self.breed = breed # Instance variable\n",
        "\n",
        "  # A method to greet the dog\n",
        "  def bark(self):\n",
        "    print(f\"{self.name} says Woof!\")\n",
        "\n",
        "# Create an instance of the Dog class\n",
        "my_dog = Dog(\"Buddy\", \"Golden Retriever\")\n",
        "\n",
        "# Access instance variables\n",
        "print(f\"My dog's name is {my_dog.name}\")\n",
        "print(f\"My dog's breed is {my_dog.breed}\")\n",
        "\n",
        "# Call a method\n",
        "my_dog.bark()"
      ]
    },
    {
      "cell_type": "markdown",
      "metadata": {
        "deletable": true,
        "editable": true,
        "id": "8DMp_aSEzJiS"
      },
      "source": [
        "## Other \"magic methods\""
      ]
    },
    {
      "cell_type": "code",
      "execution_count": null,
      "metadata": {
        "colab": {
          "base_uri": "https://localhost:8080/"
        },
        "collapsed": true,
        "deletable": true,
        "editable": true,
        "id": "iqKq3KLVItRc",
        "outputId": "f28787d4-e571-47b2-b8e4-1678866c2c3f"
      },
      "outputs": [],
      "source": [
        "class Book:\n",
        "  def __init__(self, title, author, pages):\n",
        "    self.title = title\n",
        "    self.author = author\n",
        "    self.pages = pages\n",
        "\n",
        "  # __str__ method for a user-friendly string representation\n",
        "  def __str__(self):\n",
        "    return f\"{self.title} by {self.author}\"\n",
        "\n",
        "  # __len__ method to define the length of the object\n",
        "  def __len__(self):\n",
        "    return self.pages\n",
        "\n",
        "  # __add__ method to define behavior for the + operator\n",
        "  def __add__(self, other):\n",
        "    if isinstance(other, Book):\n",
        "      return f\"Combining {self.title} and {other.title}\"\n",
        "    return NotImplemented\n",
        "\n",
        "# Create instances of the Book class\n",
        "book1 = Book(\"The Hitchhiker's Guide to the Galaxy\", \"Douglas Adams\", 208)\n",
        "book2 = Book(\"The Restaurant at the End of the Universe\", \"Douglas Adams\", 256)\n",
        "\n",
        "# Use the magic methods\n",
        "print(book1) # Uses __str__\n",
        "print(len(book1)) # Uses __len__\n",
        "print(book1 + book2) # Uses __add__"
      ]
    },
    {
      "cell_type": "markdown",
      "metadata": {
        "deletable": true,
        "editable": true,
        "id": "9IBiRIDidI3s"
      },
      "source": [
        "## Context managers and the \"with statement\""
      ]
    },
    {
      "cell_type": "code",
      "execution_count": null,
      "metadata": {
        "colab": {
          "base_uri": "https://localhost:8080/"
        },
        "collapsed": true,
        "deletable": true,
        "editable": true,
        "id": "tXfFIlxhzJiS",
        "outputId": "7c0b07fd-511d-497b-e978-750a109b8ff2"
      },
      "outputs": [],
      "source": [
        "# Example of using a context manager with a file\n",
        "with open(\"my_file.txt\", \"w\") as f:\n",
        "  f.write(\"Hello, world!\\n\")\n",
        "  f.write(\"This is a test file.\")\n",
        "\n",
        "# The file is automatically closed outside the 'with' block\n",
        "\n",
        "# You can verify the file content by reading it\n",
        "with open(\"my_file.txt\", \"r\") as f:\n",
        "  content = f.read()\n",
        "  print(content)"
      ]
    },
    {
      "cell_type": "markdown",
      "metadata": {
        "id": "vhWwgWbPjrLp"
      },
      "source": [
        "## Exercises:\n",
        "\n",
        "Consider the numerical approximation of $\\pi$ using numerical integration in code to below. Change the number of iterations to acheive two addition digits of precision? Modify the code to measure the computational time; how much more time required to obtain two addition digits of precision?"
      ]
    },
    {
      "cell_type": "code",
      "execution_count": null,
      "metadata": {
        "colab": {
          "base_uri": "https://localhost:8080/"
        },
        "id": "XwuJvy4MkGq7",
        "outputId": "633f86c5-d4ce-49e4-a855-fa77da9484e0"
      },
      "outputs": [],
      "source": [
        "def calculate_pi(f, a, b, n):\n",
        "    h = float(b-a)/n\n",
        "    result = 0.5*f(a) + 0.5*f(b)\n",
        "    for i in range(1, n):\n",
        "        result += f(a + i*h)\n",
        "    result *= h\n",
        "    return result\n",
        "\n",
        "# Example usage:\n",
        "n = 1000  # More iterations lead to a more precise approximation\n",
        "a = 0.\n",
        "b = 1.\n",
        "f = lambda t: 4./(1.+t*t)\n",
        "pi_estimate = calculate_pi(f,a,b,n)\n",
        "print(f\"Approximation of Pi with {num_iterations} iterations: {pi_estimate}\")\n",
        "print(f\"Approximation error is: {math.fabs(pi_estimate - math.pi)}\")"
      ]
    },
    {
      "cell_type": "code",
      "execution_count": null,
      "metadata": {
        "colab": {
          "base_uri": "https://localhost:8080/",
          "height": 517
        },
        "id": "bWLYK-zBlvfW",
        "outputId": "0e0c78bc-5920-463f-d12c-aac5f995588f"
      },
      "outputs": [],
      "source": [
        "def calculate_pi(f, a, b, n):\n",
        "    h = float(b-a)/n\n",
        "    result = 0.5*f(a) + 0.5*f(b)\n",
        "    for i in range(1, n):\n",
        "        result += f(a + i*h)\n",
        "    result *= h\n",
        "    return result\n",
        "\n",
        "import time\n",
        "\n",
        "# Example usage:\n",
        "n = 10000  # More iterations lead to a more precise approximation\n",
        "#n = 10**np.arange(5) #run several different intervals\n",
        "a = 0.\n",
        "b = 1.\n",
        "f = lambda t: 4./(1.+t*t) # Python lambda function is a one line function without the function definition.\n",
        "start_time = time.time()\n",
        "pi_estimate = calculate_pi(f,a,b,n)\n",
        "end_time = time.time()\n",
        "print(f\"Approximation of Pi with {n} iterations: {pi_estimate}\")\n",
        "print(f\"Approximation error is: {math.fabs(pi_estimate - math.pi)}\")\n",
        "print(f\"Elapsed time: {end_time - start_time} seconds\")\n",
        "\n",
        "error = [1.6666666664111318e-05]\n",
        "error += [1.6666666846631983e-07]\n",
        "error += [1.6666530378017796e-09]\n",
        "error += [1.6640466782291696e-11]\n",
        "n = [100, 1000, 10000, 100000]\n",
        "\n",
        "# Create figure\n",
        "fig = plt.figure()\n",
        "ax = fig.add_subplot(111)\n",
        "import matplotlib.ticker as mtick\n",
        "plt.loglog(n,error,marker=\"o\",markersize = 10,linewidth=2);\n",
        "plt.xlabel(\"# of intervals\")\n",
        "plt.ylabel(\"Error\")\n",
        "plt.axis([1,1.5e7,1.0e-13,10])\n",
        "plt.show()"
      ]
    },
    {
      "cell_type": "code",
      "execution_count": null,
      "metadata": {
        "colab": {
          "base_uri": "https://localhost:8080/"
        },
        "id": "Z_pUhQptxPtS",
        "outputId": "6a4042d1-7820-4686-af49-a4494b4f3271"
      },
      "outputs": [],
      "source": [
        "def factorial(n, prev=1):\n",
        "    if not((n==1) or (n==0)):\n",
        "        prev = factorial(n-1,prev)*n\n",
        "    return prev\n",
        "\n",
        "def factorial_no_recursion(n):\n",
        "    output = 1;\n",
        "    #can skip 1 because x*1 = 1\n",
        "    for i in range(2,n+1):\n",
        "        output = output*i\n",
        "    return output\n",
        "x = int(input(\"Enter an integer: \"))\n",
        "print(x,\"! =\",factorial(x))\n",
        "print(x,\"! =\",factorial_no_recursion(x))"
      ]
    },
    {
      "cell_type": "code",
      "execution_count": null,
      "metadata": {
        "colab": {
          "base_uri": "https://localhost:8080/",
          "height": 800
        },
        "id": "tpcmTN7dx6Zo",
        "outputId": "3a6eb09c-b605-40c0-b8e6-7a5f11a427be"
      },
      "outputs": [],
      "source": [
        "# Return a version of the string with the first 2 occurences of a substring replaced with something else\n",
        "#this line is only needed in iPython notebooks\n",
        "%matplotlib inline\n",
        "\n",
        "import time\n",
        "\n",
        "#pick our points\n",
        "\n",
        "dur_list = []\n",
        "n = 1 \n",
        "\n",
        "for n in range(1, 10):\n",
        "    start_time = time.perf_counter()  \n",
        "\n",
        "    number_of_points = n* 10**3\n",
        "    \n",
        "    x = np.random.uniform(-1,1,number_of_points)\n",
        "    y = np.random.uniform(-1,1,number_of_points)\n",
        "    #compute pi\n",
        "    n_inside = np.sum(x**2 + y**2 <= 1)\n",
        "    print(str(number_of_points) + \" darts were thrown, and\")\n",
        "    print(str(n_inside) + \" darts landed inside the circle\")\n",
        "\n",
        "\n",
        "    pi_approx = 4.0*n_inside/number_of_points\n",
        "\n",
        "    end_time = time.perf_counter()\n",
        "\n",
        "    duration =  end_time - start_time\n",
        "    dur_list.append(duration)\n",
        "    print(f\"Duration: {duration:.6f} seconds\")  # Show more decimal places\n",
        "    print(f\"Pi approximation: {pi_approx:.6f}\")\n",
        "    print(\"-\" * 30)\n",
        "\n",
        "# Plot the duration vs number of iterations\n",
        "plt.figure(figsize=(8, 6))\n",
        "plt.plot(range(1, 10), dur_list, 'bo-', linewidth=2, markersize=8)\n",
        "plt.xlabel('Iteration Number')\n",
        "plt.ylabel('Duration (seconds)')\n",
        "plt.title('Monte Carlo Pi Approximation Runtime')\n",
        "plt.grid(True, alpha=0.3)\n",
        "plt.show()\n",
        "\n",
        "\n",
        "#now make a scatter plot\n",
        "maize = \"#ffcb05\"\n",
        "blue = \"#00274c\"\n",
        "fig = plt.figure(figsize=(4,4), dpi=200)\n",
        "plt.scatter(x, y, alpha=0.5, color=maize) #scatter plot with hex color\n",
        "#draw a circle of radius 1 with center (0,0)\n",
        "circle = plt.Circle((0,0),1,color=blue,\n",
        "                    alpha=0.7, fill=False, linewidth=4)\n",
        "#add the circle to the plot\n",
        "plt.gca().add_patch(circle)\n",
        "#make sure that the axes are square so that our circle is circular\n",
        "plt.axis([-1,1,-1,1])\n",
        "#set axes bounds: axis([min x, max x, min y, max y])\n",
        "plt.axis([-1.05,1.05,-1.05,1.05])\n",
        "#make the title have the approximation to pi\n",
        "plt.title(\"$\\\\pi \\\\approx $\" + str(pi_approx))\n",
        "plt.show()\n",
        "\n"
      ]
    },
    {
      "cell_type": "code",
      "execution_count": 14,
      "metadata": {
        "colab": {
          "base_uri": "https://localhost:8080/",
          "height": 490
        },
        "id": "1izyttWheGEW",
        "outputId": "ba3d5df7-b7c6-445a-bc6c-a207a8e15387"
      },
      "outputs": [
        {
          "name": "stdout",
          "output_type": "stream",
          "text": [
            "Duration: 0.179460 seconds\n",
            "Numerical approximation: 3.1415934673918744\n",
            "Actual integral value: 3.141592653589793\n",
            "Error: 8.138020812786806e-07\n"
          ]
        },
        {
          "data": {
            "image/png": "[encoded data removed]",
            "text/plain": [
              "<Figure size 640x480 with 1 Axes>"
            ]
          },
          "metadata": {},
          "output_type": "display_data"
        }
      ],
      "source": [
        "import numpy as np\n",
        "import matplotlib.pyplot as plt\n",
        "%matplotlib inline\n",
        "\n",
        "def midpoint_rule_graphical(f,a,b,num_intervals,filename):\n",
        "    \"\"\"integrate function f using the midpoint rule\n",
        "\n",
        "    Args:\n",
        "        f: function to be integrated, it must take one argument\n",
        "        a: lower bound of integral range\n",
        "        b: upper bound of integral range\n",
        "        num_intervals: the number of intervals to break [a,b] into\n",
        "    Returns:\n",
        "        estimate of the integral\n",
        "    Side Effect:\n",
        "        Plots intervals and areas of midpoint rule\n",
        "    \"\"\"\n",
        "    # Create plot\n",
        "    ax = plt.subplot(111)\n",
        "\n",
        "    # Setup, similar to previous midpoint_rule function\n",
        "    L = (b-a) #how big is the range\n",
        "    dx = L/num_intervals #how big is each interval\n",
        "    midpoints = np.arange(num_intervals)*dx+0.5*dx+a\n",
        "    x = midpoints\n",
        "    #y = np.zeros(num_intervals)\n",
        "    integral = 0\n",
        "    count = 0\n",
        "\n",
        "    # Loop over points\n",
        "    for point in midpoints:\n",
        "        # Evaluate function f\n",
        "        #y[count] = f(point)\n",
        "\n",
        "        # Calculate integral\n",
        "        integral = integral + f(point)\n",
        "\n",
        "        # Calculate verticies for plots\n",
        "        verts = [(point-dx/2,0)] + [(point-dx/2,f(point))]\n",
        "        verts += [(point+dx/2,f(point))] + [(point+dx/2,0)]\n",
        "\n",
        "        # Draw rectangles\n",
        "        poly = plt.Polygon(verts, facecolor='0.8', edgecolor='k')\n",
        "        ax.add_patch(poly)\n",
        "\n",
        "        # Incrememnt counter\n",
        "        count += 1\n",
        "    # y = f(x)\n",
        "\n",
        "    # Draw smooth line for f\n",
        "    smooth_x = np.linspace(a,b,10000)\n",
        "    smooth_y = f(smooth_x)\n",
        "    plt.plot(smooth_x, smooth_y, linewidth=1)\n",
        "\n",
        "    # Add labels and title\n",
        "    plt.xlabel(\"x\")\n",
        "    plt.ylabel(\"f(x)\")\n",
        "    plt.title(\"Integral Estimate is \" + str(integral*dx))\n",
        "\n",
        "    # Save figure\n",
        "    plt.savefig(filename)\n",
        "\n",
        "    # Return approximation for integral\n",
        "    return integral*dx\n",
        "\n",
        "\n",
        "# Call function\n",
        "\n",
        "import time\n",
        "\n",
        "start_time = time.perf_counter()\n",
        "\n",
        "f = lambda t: 4./(1.+t*t)\n",
        "my_pi = midpoint_rule_graphical(f,0.,1.,320,'C4_fig7.pdf')\n",
        "#midpoint_rule_graphical(np.sin,0,2*np.pi,40,'C4_fig7.pdf')\n",
        "np.abs(my_pi - np.pi)\n",
        "\n",
        "end_time = time.perf_counter()\n",
        "\n",
        "duration = end_time - start_time\n",
        "print(f\"Duration: {duration:.6f} seconds\")  # Show more decimal places\n",
        "\n",
        "# Compute the actual integral analytically for comparison\n",
        "# For f(t) = 4/(1+t²), the antiderivative is 4*arctan(t)\n",
        "# So integral from 0 to 1 is 4*arctan(1) - 4*arctan(0) = 4*(π/4) - 4*0 = π\n",
        "\n",
        "actual_integral = 4 * np.arctan(1) - 4 * np.arctan(0)\n",
        "print(f\"Numerical approximation: {my_pi}\")\n",
        "print(f\"Actual integral value: {actual_integral}\")\n",
        "print(f\"Error: {np.abs(my_pi - actual_integral)}\")\n",
        "\n",
        "\n",
        "\n",
        "\n",
        "\n",
        "\n"
      ]
    }
  ],
  "metadata": {
    "colab": {
      "provenance": []
    },
    "kernelspec": {
      "display_name": "base",
      "language": "python",
      "name": "python3"
    },
    "language_info": {
      "codemirror_mode": {
        "name": "ipython",
        "version": 3
      },
      "file_extension": ".py",
      "mimetype": "text/x-python",
      "name": "python",
      "nbconvert_exporter": "python",
      "pygments_lexer": "ipython3",
      "version": "3.12.4"
    }
  },
  "nbformat": 4,
  "nbformat_minor": 0
}
