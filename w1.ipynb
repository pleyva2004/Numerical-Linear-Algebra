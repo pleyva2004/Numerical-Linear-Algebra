{
 "cells": [
  {
   "cell_type": "markdown",
   "metadata": {
    "id": "EFnithZEjWAA"
   },
   "source": [
    "# Gaussian Elimination"
   ]
  },
  {
   "cell_type": "code",
   "execution_count": 1,
   "metadata": {
    "id": "pT7-ETX2oO8u",
    "tags": []
   },
   "outputs": [],
   "source": [
    "import numpy as np\n",
    "import matplotlib.pyplot as plt\n",
    "#this line is only needed in Jupyter notebooks\n",
    "%matplotlib inline"
   ]
  },
  {
   "cell_type": "markdown",
   "metadata": {
    "id": "zAAw5EbZjWAC"
   },
   "source": [
    "We want to solve the following system:\n",
    "\n",
    "$$3 x_1 + 2 x_2 + x_3 = 6$$\n",
    "$$-x_1 + 4 x_2 + 5x_3 = 8$$\n",
    "$$2x_1 -8 x_2 + 10 x_3 = 4$$\n",
    "\n",
    "In matrix form this looks like\n",
    "\n",
    "$$\\underbrace{\\begin{pmatrix} 3 & 2 & 1\\\\ -1 & 4 & 5\\\\ 2& -8 & 10\\end{pmatrix}}_{\\mathbf{A}} ~\n",
    "\\underbrace{\\begin{pmatrix} x_1\\\\x_2\\\\x_3\\end{pmatrix}}_{\\mathbf{x}} = \\underbrace{\\begin{pmatrix}6\\\\8\\\\4\\end{pmatrix}}_{\\mathbf{b}}\n",
    "$$\n",
    "\n",
    "Another way to write this is a notational shorthand called an **augmented matrix**, where we put the righthand side into the matrix:\n",
    "\n",
    "$$\n",
    "\\left(\\begin{array}{ccc|c}   3 & 2 & 1 &6\\\\ -1 & 4 & 5&8\\\\ 2& -8 & 10&4\\end{array}\\right)\n",
    "$$"
   ]
  },
  {
   "cell_type": "markdown",
   "metadata": {
    "id": "WBycB5tdjWAD"
   },
   "source": [
    "We will use **Gaussian elimination** to solve this system."
   ]
  },
  {
   "cell_type": "markdown",
   "metadata": {
    "id": "guYu_rLZoO8w"
   },
   "source": [
    "<div style=\"background-color: rgba(0,255,0,0.05) ; padding: 10px; border: 1px solid darkgreen;\">\n",
    "<b>Class Activity</b>: Perform Gaussian elimination with pencil and paper to convert the above matrix into row echelon form .\n",
    "</div>"
   ]
  },
  {
   "cell_type": "markdown",
   "metadata": {
    "id": "V4seN3A_oO8x"
   },
   "source": [
    "First, we assemble the augmented matrix."
   ]
  },
  {
   "cell_type": "code",
   "execution_count": 2,
   "metadata": {
    "colab": {
     "base_uri": "https://localhost:8080/"
    },
    "executionInfo": {
     "elapsed": 6,
     "status": "ok",
     "timestamp": 1757611574058,
     "user": {
      "displayName": "Shahriar Afkhami",
      "userId": "10934652738851687692"
     },
     "user_tz": 240
    },
    "id": "d76Maac-jWAE",
    "outputId": "f8f8bfa6-6a9a-42f9-8036-0c158d62582c"
   },
   "outputs": [
    {
     "name": "stdout",
     "output_type": "stream",
     "text": [
      "[[ 3.  2.  1.  6.]\n",
      " [-1.  4.  5.  8.]\n",
      " [ 2. -8. 10.  4.]]\n"
     ]
    }
   ],
   "source": [
    "# Declare matrix\n",
    "A33 = np.matrix([(3,2,1),(-1,4,5),(2,-8,10)])\n",
    "b3 = np.matrix([6,8,4])\n",
    "\n",
    "# Assemble augmented matrix\n",
    "# Study question: Why is it important to use .copy() here?\n",
    "aug_matrix = np.zeros((3,4))\n",
    "aug_matrix[0:3,0:3] = A33.copy()\n",
    "aug_matrix[:,3] = b3.copy() # Why do we access column 4 with index 3?\n",
    "\n",
    "print(aug_matrix)"
   ]
  },
  {
   "cell_type": "markdown",
   "metadata": {
    "id": "RkC60_ZIjWAJ",
    "tags": []
   },
   "source": [
    "## Gaussian Elimination: First Column\n",
    "\n",
    "\n",
    "**Step 1**: Eliminate the **-1** in the first column, second row.\n",
    "\n",
    "Multiply first row by (1/3) and add to second row:"
   ]
  },
  {
   "cell_type": "code",
   "execution_count": 3,
   "metadata": {
    "colab": {
     "base_uri": "https://localhost:8080/"
    },
    "executionInfo": {
     "elapsed": 6,
     "status": "ok",
     "timestamp": 1757611575678,
     "user": {
      "displayName": "Shahriar Afkhami",
      "userId": "10934652738851687692"
     },
     "user_tz": 240
    },
    "id": "9iorzMZUjWAJ",
    "outputId": "2534dc31-1010-4a2d-85fd-eddf15c640eb"
   },
   "outputs": [
    {
     "name": "stdout",
     "output_type": "stream",
     "text": [
      "New matrix =\n",
      " [[ 3.          2.          1.          6.        ]\n",
      " [ 0.          4.66666667  5.33333333 10.        ]\n",
      " [ 2.         -8.         10.          4.        ]]\n"
     ]
    }
   ],
   "source": [
    "#add row 2 to 1/3 times row 1\n",
    "row13 = aug_matrix[0]/3 #row1 * 1/3\n",
    "new_row2 = aug_matrix[1] + row13 #add 1/3 row 1 to row 2\n",
    "#replace row 2\n",
    "aug_matrix[1,:] = new_row2\n",
    "print(\"New matrix =\\n\",aug_matrix)"
   ]
  },
  {
   "cell_type": "markdown",
   "metadata": {
    "id": "nMHLkUGVjWAM"
   },
   "source": [
    "**Step 2**: Eliminate **2** in first column.\n",
    "\n",
    "Multiply first row by (-2/3) and add to third row:"
   ]
  },
  {
   "cell_type": "code",
   "execution_count": 4,
   "metadata": {
    "colab": {
     "base_uri": "https://localhost:8080/"
    },
    "executionInfo": {
     "elapsed": 7,
     "status": "ok",
     "timestamp": 1757611581296,
     "user": {
      "displayName": "Shahriar Afkhami",
      "userId": "10934652738851687692"
     },
     "user_tz": 240
    },
    "id": "yXgefJRyjWAM",
    "outputId": "ea9c31c8-bcd3-4380-d9af-1c2507c1ad97"
   },
   "outputs": [
    {
     "name": "stdout",
     "output_type": "stream",
     "text": [
      "New matrix =\n",
      " [[ 3.          2.          1.          6.        ]\n",
      " [ 0.          4.66666667  5.33333333 10.        ]\n",
      " [ 0.         -9.33333333  9.33333333  0.        ]]\n"
     ]
    }
   ],
   "source": [
    "#add row 3 to -2/3 times row 1\n",
    "row23 = -2*aug_matrix[0]/3 #row1 * -2/3\n",
    "new_row3 = aug_matrix[2] + row23 #add -2/3 row 1 to row 3\n",
    "#replace row 3\n",
    "aug_matrix[2] = new_row3\n",
    "print(\"New matrix =\\n\",aug_matrix)"
   ]
  },
  {
   "cell_type": "markdown",
   "metadata": {
    "id": "h5TlqFkejWAP"
   },
   "source": [
    "## Gaussian Elimination: Second Column\n",
    "\n",
    "**Step 3**: Eliminate **-9$\\frac{1}{3}$** from the last row.\n",
    "\n",
    "Multiply row 2 by 9$\\frac{1}{3}$/4$\\frac{2}{3}$ and add to last row:"
   ]
  },
  {
   "cell_type": "code",
   "execution_count": 5,
   "metadata": {
    "colab": {
     "base_uri": "https://localhost:8080/"
    },
    "executionInfo": {
     "elapsed": 7,
     "status": "ok",
     "timestamp": 1757611589009,
     "user": {
      "displayName": "Shahriar Afkhami",
      "userId": "10934652738851687692"
     },
     "user_tz": 240
    },
    "id": "SZo_Kjr2jWAP",
    "outputId": "e9fc7bc0-4d49-4b98-95af-d0d032cc2bb5"
   },
   "outputs": [
    {
     "name": "stdout",
     "output_type": "stream",
     "text": [
      "New matrix =\n",
      " [[ 3.          2.          1.          6.        ]\n",
      " [ 0.          4.66666667  5.33333333 10.        ]\n",
      " [ 0.          0.         20.         20.        ]]\n"
     ]
    }
   ],
   "source": [
    "#add row 3 to 9.33333/4.66666 times row 2\n",
    "modrow = (9+1./3)/(4+2./3)*aug_matrix[1] #row2 * (-9+1./3)/(4+2.0/3)\n",
    "new_row3 = aug_matrix[2] + modrow #add -2/3 row 1 to row 3\n",
    "#replace row 3\n",
    "aug_matrix[2] = new_row3.copy()\n",
    "print(\"New matrix =\\n\",aug_matrix)"
   ]
  },
  {
   "cell_type": "markdown",
   "metadata": {
    "id": "2BE2e7_zjWAS"
   },
   "source": [
    "Notice that we have manipulated our original system into the equivalent system\n",
    "\n",
    "$$\n",
    "\\left(\\begin{array}{ccc|c}   3 & 2 & 1 &6\\\\ 0 & 4\\frac{2}{3} & 5\\frac{1}{3}& 10\\\\ 0& 0 & 20&20\\end{array}\\right)\n",
    "$$\n",
    "\n",
    "or\n",
    "\n",
    "$$\n",
    "\\left(\\begin{array}{ccc}   3 & 2 & 1 \\\\ 0 & 4\\frac{2}{3} & 5\\frac{1}{3}\\\\ 0& 0 & 20\\end{array}\\right) \\begin{pmatrix}x_1\\\\x_2\\\\x_3\\end{pmatrix} =\n",
    "\\begin{pmatrix} 6\\\\10\\\\20\\end{pmatrix}\n",
    "$$"
   ]
  },
  {
   "cell_type": "markdown",
   "metadata": {
    "id": "jgQWKbaNjWAS"
   },
   "source": [
    "## Back Substitution\n",
    "\n",
    "We can easily solve this via **back substitution**:\n",
    "1. Take the last equation and solve for $x_3$.\n",
    "2. Plug the value for $x_3$ into the second equation, solve for $x_2$.\n",
    "3. Plug both into the first equation and solve for $x_1$.\n"
   ]
  },
  {
   "cell_type": "markdown",
   "metadata": {
    "id": "T6nab_ROoO82"
   },
   "source": [
    "We will now perform backward substitution in Python."
   ]
  },
  {
   "cell_type": "code",
   "execution_count": 6,
   "metadata": {
    "colab": {
     "base_uri": "https://localhost:8080/"
    },
    "executionInfo": {
     "elapsed": 14,
     "status": "ok",
     "timestamp": 1757611976730,
     "user": {
      "displayName": "Shahriar Afkhami",
      "userId": "10934652738851687692"
     },
     "user_tz": 240
    },
    "id": "m0en677vjWAT",
    "outputId": "cc5c4599-c86e-451d-98e8-05dea4bd5db7"
   },
   "outputs": [
    {
     "name": "stdout",
     "output_type": "stream",
     "text": [
      "x3 = 1.0\n",
      "x2 = 1.0\n",
      "x1 = 1.0\n"
     ]
    }
   ],
   "source": [
    "#backsubstitution\n",
    "x3 = aug_matrix[2,3]/aug_matrix[2,2] #solve for x3\n",
    "print(\"x3 =\",x3)\n",
    "#now solve for x2\n",
    "x2 = (aug_matrix[1,3] - x3*aug_matrix[1,2])/aug_matrix[1,1]\n",
    "print(\"x2 =\",x2)\n",
    "#now solve for x1\n",
    "x1 = (aug_matrix[0,3] - x3*aug_matrix[0,2]- x2*aug_matrix[0,1])/aug_matrix[0,0]\n",
    "print(\"x1 =\",x1)"
   ]
  },
  {
   "cell_type": "markdown",
   "metadata": {
    "id": "32Xf87IdjWAW"
   },
   "source": [
    "The solution we get is\n",
    "\n",
    "$$x_1 = 1,$$\n",
    "\n",
    "$$x_2 = 1,$$\n",
    "\n",
    "$$x_3 = 1.$$\n",
    "\n",
    "We can check this by plugging it in."
   ]
  },
  {
   "cell_type": "markdown",
   "metadata": {
    "id": "5mIWpz-TjWAX"
   },
   "source": [
    "## Verify Solution\n",
    "\n",
    "We can verify our solution is correct by computing $\\mathbf{A} \\cdot \\mathbf{x}$ and comparing to $\\mathbf{b}$."
   ]
  },
  {
   "cell_type": "markdown",
   "metadata": {
    "id": "xav3FnAXoO83"
   },
   "source": [
    "We can easily perform this matrix multiplication by Python too."
   ]
  },
  {
   "cell_type": "code",
   "execution_count": 7,
   "metadata": {
    "colab": {
     "base_uri": "https://localhost:8080/"
    },
    "executionInfo": {
     "elapsed": 14,
     "status": "ok",
     "timestamp": 1757611973474,
     "user": {
      "displayName": "Shahriar Afkhami",
      "userId": "10934652738851687692"
     },
     "user_tz": 240
    },
    "id": "PkzDYPWcjWAX",
    "outputId": "147752a7-44bf-4354-faa3-b494d7c13f85"
   },
   "outputs": [
    {
     "name": "stdout",
     "output_type": "stream",
     "text": [
      "[[6 8 4]] - [[6 8 4]] = [[0 0 0]]\n"
     ]
    }
   ],
   "source": [
    "x = np.array([1,1,1])\n",
    "print(np.dot(A33,x),\"-\",b3,\"=\",np.dot(A33,x)-b3)"
   ]
  },
  {
   "cell_type": "markdown",
   "metadata": {
    "id": "BuQD_VEGjWAb"
   },
   "source": [
    "## Generalized Gaussian Elimination"
   ]
  },
  {
   "cell_type": "markdown",
   "metadata": {
    "id": "d5fdFIXYjWAb"
   },
   "source": [
    "## Pseudocode"
   ]
  },
  {
   "cell_type": "markdown",
   "metadata": {
    "id": "L7yWwv-1oO85"
   },
   "source": [
    "<div style=\"background-color: rgba(0,255,0,0.05) ; padding: 10px; border: 1px solid darkgreen;\">\n",
    "Pseudocode for a function that performs Gaussian elimination on two inputs: matrix $\\mathbf{A}$ and vector $\\mathbf{b}$.\n",
    "</div>\n",
    "\n",
    "    // Forward Elimination\n",
    "    for k from 1 to n-1 do\n",
    "    // Make the pivot element (A[k][k]) non-zero if necessary\n",
    "    // For robustness, you might use partial pivoting here\n",
    "    // (Find the row with the largest absolute value in column k below row k and swap)\n",
    "    // Let's assume A[k][k] is not zero for simplicity\n",
    "\n",
    "        for i from k+1 to n do\n",
    "            // Calculate the multiplier\n",
    "            multiplier = A[i][k] / A[k][k]\n",
    "\n",
    "            // Eliminate the entry A[i][k]\n",
    "            for j from k to n do // Start from k for efficiency (entries to the left are already zero)\n",
    "                A[i][j] = A[i][j] - multiplier * A[k][j]\n",
    "            end for\n",
    "        end for\n",
    "    end for\n",
    "\n",
    "    // The augmented matrix A is now in the form [U|c]\n",
    "    // where U is the upper triangular matrix\n",
    "\n",
    "    //Back-Substitution\n",
    "\n",
    "    for i from n down to 1 do\n",
    "        // Calculate the sum of (A[i][j] * x[j]) for j > i\n",
    "        sum = 0\n",
    "        for j from i+1 to n do\n",
    "            sum = sum + A[i][j] * x[j]\n",
    "        end for\n",
    "\n",
    "        // Solve for x[i]\n",
    "        x[i] = (A[i][n] - sum) / A[i][i] // A[i][n] is the modified b[i]\n",
    "    end for\n",
    "\n",
    "\n",
    "    // Partial Pivoting\n",
    "    FOR k from 0 to n-1:  // Loop through each pivot row\n",
    "        // Partial Pivoting: Find the row with the largest absolute value in the current column\n",
    "        pivot_row = k\n",
    "        FOR i from k+1 to n-1:\n",
    "            IF ABS(augmented_matrix[i][k]) > ABS(augmented_matrix[pivot_row][k]):\n",
    "                pivot_row = i\n",
    "        \n",
    "        // Swap the current row with the pivot row if necessary\n",
    "        IF pivot_row != k:\n",
    "            SWAP augmented_matrix[k] and augmented_matrix[pivot_row]\n",
    "\n",
    "        // Check for a zero pivot, indicating no unique solution or a singular matrix\n",
    "        IF augmented_matrix[k][k] == 0:\n",
    "            PRINT \"Error: Division by zero or singular matrix.\"\n",
    "            RETURN \"No unique solution\"\n"
   ]
  },
  {
   "cell_type": "markdown",
   "metadata": {
    "id": "q3urRD0AjWAc"
   },
   "source": [
    "## Python Implementation"
   ]
  },
  {
   "cell_type": "code",
   "execution_count": 8,
   "metadata": {
    "id": "guqGs9nNjWAd",
    "tags": []
   },
   "outputs": [],
   "source": [
    "def GaussElim(A, b, LOUD=False):\n",
    "    \"\"\"create a Gauss-Jordan elimination matrix for a system (RREF)\n",
    "\n",
    "    Args:\n",
    "        A: N by N array\n",
    "        b: array of length N\n",
    "    Returns:\n",
    "        augmented matrix in reduced row echelon form\n",
    "    \"\"\"\n",
    "    # Extract dimensions of A\n",
    "    [Nrow, Ncol] = A.shape\n",
    "\n",
    "    # Check that A is square\n",
    "    assert Nrow == Ncol\n",
    "\n",
    "    # Check dimensions of b\n",
    "    N = Nrow\n",
    "    assert b.size == N\n",
    "\n",
    "    # create augmented matrix\n",
    "    aug_matrix = np.zeros((N,N+1))\n",
    "    aug_matrix[0:N,0:N] = A.copy()\n",
    "    aug_matrix[:,N] = b.copy()\n",
    "\n",
    "    if LOUD:\n",
    "        print(\"Initial Augmented Matrix = \\n\", aug_matrix)\n",
    "\n",
    "    # loop over columns (pivot columns)\n",
    "    for column in range(0, N):\n",
    "        \n",
    "        # STEP 1: Normalize the pivot row (make diagonal element = 1)\n",
    "        pivot_element = aug_matrix[column, column]\n",
    "        aug_matrix[column, :] = aug_matrix[column, :] / pivot_element\n",
    "        \n",
    "        if LOUD:\n",
    "            print(f\"After normalizing row {column}:\\n\", aug_matrix)\n",
    "\n",
    "        # STEP 2: Eliminate ALL other rows in this column (both above and below)\n",
    "        for row in range(0, N):\n",
    "            if row != column:  # Skip the pivot row itself\n",
    "                # Calculate multiplier\n",
    "                multiplier = aug_matrix[row, column]\n",
    "                \n",
    "                # Eliminate the element in this column\n",
    "                aug_matrix[row, :] -= multiplier * aug_matrix[column, :]\n",
    "\n",
    "        if LOUD:\n",
    "            print(f\"After eliminating column {column}:\\n\", aug_matrix)\n",
    "\n",
    "    return aug_matrix"
   ]
  },
  {
   "cell_type": "markdown",
   "metadata": {
    "id": "N8RC6_1gjWAe"
   },
   "source": [
    "## Example"
   ]
  },
  {
   "cell_type": "code",
   "execution_count": 9,
   "metadata": {
    "colab": {
     "base_uri": "https://localhost:8080/"
    },
    "executionInfo": {
     "elapsed": 43,
     "status": "ok",
     "timestamp": 1757611988734,
     "user": {
      "displayName": "Shahriar Afkhami",
      "userId": "10934652738851687692"
     },
     "user_tz": 240
    },
    "id": "XsOmcNNCjWAf",
    "outputId": "78fd2e09-ee5b-44d2-a7fc-a27898df40d5"
   },
   "outputs": [
    {
     "name": "stdout",
     "output_type": "stream",
     "text": [
      "[[1. 0. 0. 1.]\n",
      " [0. 1. 0. 1.]\n",
      " [0. 0. 1. 1.]]\n"
     ]
    }
   ],
   "source": [
    "aug33 = GaussElim(A33,b3)\n",
    "print(aug33)"
   ]
  },
  {
   "cell_type": "markdown",
   "metadata": {
    "id": "GqZhNYy6jWAj"
   },
   "source": [
    "## Generalized Back Substitution"
   ]
  },
  {
   "cell_type": "code",
   "execution_count": 10,
   "metadata": {
    "id": "asbHwWJijWAk",
    "tags": []
   },
   "outputs": [],
   "source": [
    "def BackSub(aug_matrix,z_tol=1E-8):\n",
    "    \"\"\"back substitute a N by N system after Gauss elimination\n",
    "\n",
    "    Args:\n",
    "        aug_matrix: augmented matrix with zeros below the diagonal [numpy 2D array]\n",
    "        z_tol: tolerance for checking for zeros below the diagonal [float]\n",
    "    Returns:\n",
    "        x: length N vector, solution to linear system [numpy 1D array]\n",
    "    \"\"\"\n",
    "    [Nrow, Ncol] = aug_matrix.shape\n",
    "    try:\n",
    "        # check the dimensions\n",
    "        assert Nrow + 1 == Ncol\n",
    "    except AssertionError:\n",
    "        print(\"Dimension checks failed.\")\n",
    "        print(\"Nrow = \",Nrow)\n",
    "        print(\"Ncol = \",Ncol)\n",
    "        raise\n",
    "\n",
    "    assert type(z_tol) is float, \"z_tol must be a float\"\n",
    "\n",
    "    # check augmented matrix is all zeros below the diagonal\n",
    "    for r in range(Nrow):\n",
    "        for c in range(0,r):\n",
    "            assert np.abs(aug_matrix[r,c]) < z_tol, \"\\nWarning! Nonzero in position \"+str(r)+\",\"+str(c)\n",
    "\n",
    "    # create vector of zeros to store solution\n",
    "    x = np.zeros(Nrow)\n",
    "\n",
    "    # loop over the rows starting at the bottom\n",
    "    for row in range(Nrow-1,-1,-1):\n",
    "        RHS = aug_matrix[row,Nrow] # far column\n",
    "\n",
    "        # loop over the columns to the right of the diagonal\n",
    "        for column in range(row+1,Nrow):\n",
    "\n",
    "            # subtract, i.e., substitute the already known values\n",
    "            RHS -= x[column]*aug_matrix[row,column]\n",
    "\n",
    "        # compute the element of x corresponding to the current row\n",
    "        x[row] = RHS/aug_matrix[row,row]\n",
    "\n",
    "    return x"
   ]
  },
  {
   "cell_type": "markdown",
   "metadata": {
    "id": "muDWnp06oO89"
   },
   "source": [
    "Verify the code properly detects nonzeros elements below the diagonal."
   ]
  },
  {
   "cell_type": "code",
   "execution_count": 11,
   "metadata": {
    "colab": {
     "base_uri": "https://localhost:8080/",
     "height": 386
    },
    "executionInfo": {
     "elapsed": 21,
     "status": "error",
     "timestamp": 1757612048654,
     "user": {
      "displayName": "Shahriar Afkhami",
      "userId": "10934652738851687692"
     },
     "user_tz": 240
    },
    "id": "WTW0OSzboO89",
    "outputId": "99201fb5-f935-4fe0-c685-ec5ce95d9ffc"
   },
   "outputs": [
    {
     "name": "stdout",
     "output_type": "stream",
     "text": [
      "[[0.10761576 0.4715276  0.17484919 0.9138808 ]\n",
      " [0.88260399 0.20911724 0.57233764 0.34066807]\n",
      " [0.5753929  0.03968893 0.42266497 0.23921918]]\n"
     ]
    },
    {
     "ename": "AssertionError",
     "evalue": "\nWarning! Nonzero in position 1,0",
     "output_type": "error",
     "traceback": [
      "\u001b[1;31m---------------------------------------------------------------------------\u001b[0m",
      "\u001b[1;31mAssertionError\u001b[0m                            Traceback (most recent call last)",
      "Cell \u001b[1;32mIn[11], line 5\u001b[0m\n\u001b[0;32m      2\u001b[0m not_an_augmented_matrix \u001b[38;5;241m=\u001b[39m np\u001b[38;5;241m.\u001b[39mrandom\u001b[38;5;241m.\u001b[39mrand(\u001b[38;5;241m3\u001b[39m,\u001b[38;5;241m4\u001b[39m)\n\u001b[0;32m      3\u001b[0m \u001b[38;5;28mprint\u001b[39m(not_an_augmented_matrix)\n\u001b[1;32m----> 5\u001b[0m x \u001b[38;5;241m=\u001b[39m BackSub(not_an_augmented_matrix)\n",
      "Cell \u001b[1;32mIn[10], line 25\u001b[0m, in \u001b[0;36mBackSub\u001b[1;34m(aug_matrix, z_tol)\u001b[0m\n\u001b[0;32m     23\u001b[0m \u001b[38;5;28;01mfor\u001b[39;00m r \u001b[38;5;129;01min\u001b[39;00m \u001b[38;5;28mrange\u001b[39m(Nrow):\n\u001b[0;32m     24\u001b[0m     \u001b[38;5;28;01mfor\u001b[39;00m c \u001b[38;5;129;01min\u001b[39;00m \u001b[38;5;28mrange\u001b[39m(\u001b[38;5;241m0\u001b[39m,r):\n\u001b[1;32m---> 25\u001b[0m         \u001b[38;5;28;01massert\u001b[39;00m np\u001b[38;5;241m.\u001b[39mabs(aug_matrix[r,c]) \u001b[38;5;241m<\u001b[39m z_tol, \u001b[38;5;124m\"\u001b[39m\u001b[38;5;130;01m\\n\u001b[39;00m\u001b[38;5;124mWarning! Nonzero in position \u001b[39m\u001b[38;5;124m\"\u001b[39m\u001b[38;5;241m+\u001b[39m\u001b[38;5;28mstr\u001b[39m(r)\u001b[38;5;241m+\u001b[39m\u001b[38;5;124m\"\u001b[39m\u001b[38;5;124m,\u001b[39m\u001b[38;5;124m\"\u001b[39m\u001b[38;5;241m+\u001b[39m\u001b[38;5;28mstr\u001b[39m(c)\n\u001b[0;32m     27\u001b[0m \u001b[38;5;66;03m# create vector of zeros to store solution\u001b[39;00m\n\u001b[0;32m     28\u001b[0m x \u001b[38;5;241m=\u001b[39m np\u001b[38;5;241m.\u001b[39mzeros(Nrow)\n",
      "\u001b[1;31mAssertionError\u001b[0m: \nWarning! Nonzero in position 1,0"
     ]
    }
   ],
   "source": [
    "# make a 3x4 matrix filled with random numbers\n",
    "not_an_augmented_matrix = np.random.rand(3,4)\n",
    "print(not_an_augmented_matrix)\n",
    "\n",
    "x = BackSub(not_an_augmented_matrix)"
   ]
  },
  {
   "cell_type": "markdown",
   "metadata": {
    "id": "rFSaVY-QoO89"
   },
   "source": [
    "We should verify our function gives the same answer as above."
   ]
  },
  {
   "cell_type": "code",
   "execution_count": null,
   "metadata": {
    "colab": {
     "base_uri": "https://localhost:8080/"
    },
    "executionInfo": {
     "elapsed": 42,
     "status": "ok",
     "timestamp": 1757612080557,
     "user": {
      "displayName": "Shahriar Afkhami",
      "userId": "10934652738851687692"
     },
     "user_tz": 240
    },
    "id": "qLig4enUjWAo",
    "outputId": "4af88c9a-722c-4222-a814-401d99cbd3dc"
   },
   "outputs": [
    {
     "name": "stdout",
     "output_type": "stream",
     "text": [
      "The solution is  [1. 1. 1.]\n"
     ]
    }
   ],
   "source": [
    "x33 = BackSub(aug33)\n",
    "print(\"The solution is \", x33)"
   ]
  },
  {
   "cell_type": "code",
   "execution_count": null,
   "metadata": {
    "colab": {
     "base_uri": "https://localhost:8080/"
    },
    "executionInfo": {
     "elapsed": 15,
     "status": "ok",
     "timestamp": 1757612082835,
     "user": {
      "displayName": "Shahriar Afkhami",
      "userId": "10934652738851687692"
     },
     "user_tz": 240
    },
    "id": "oxNWVmiOh2AX",
    "outputId": "f87d52ca-a7b5-48ed-8671-270e66477dbb"
   },
   "outputs": [
    {
     "name": "stdout",
     "output_type": "stream",
     "text": [
      "[[ 3.          2.          1.          6.        ]\n",
      " [ 0.          4.66666667  5.33333333 10.        ]\n",
      " [ 0.          0.         20.         20.        ]]\n"
     ]
    }
   ],
   "source": [
    "print(aug33)"
   ]
  },
  {
   "cell_type": "markdown",
   "metadata": {
    "id": "bAWJUumBoO8-"
   },
   "source": [
    "To access elements of a matrix:"
   ]
  },
  {
   "cell_type": "code",
   "execution_count": null,
   "metadata": {
    "colab": {
     "base_uri": "https://localhost:8080/"
    },
    "executionInfo": {
     "elapsed": 7,
     "status": "ok",
     "timestamp": 1757612093339,
     "user": {
      "displayName": "Shahriar Afkhami",
      "userId": "10934652738851687692"
     },
     "user_tz": 240
    },
    "id": "0ZTFPRiAh99r",
    "outputId": "08121755-aab2-4ef0-857e-6e289d7ced85"
   },
   "outputs": [
    {
     "data": {
      "text/plain": [
       "array([ 0.        ,  4.66666667,  5.33333333, 10.        ])"
      ]
     },
     "execution_count": 31,
     "metadata": {},
     "output_type": "execute_result"
    }
   ],
   "source": [
    "aug33[1] # return the 2nd row"
   ]
  },
  {
   "cell_type": "code",
   "execution_count": null,
   "metadata": {
    "colab": {
     "base_uri": "https://localhost:8080/"
    },
    "executionInfo": {
     "elapsed": 14,
     "status": "ok",
     "timestamp": 1757612096337,
     "user": {
      "displayName": "Shahriar Afkhami",
      "userId": "10934652738851687692"
     },
     "user_tz": 240
    },
    "id": "CUTSUVT-iG-_",
    "outputId": "17f838db-7684-4967-fe5d-ea9e83cbeeaf"
   },
   "outputs": [
    {
     "data": {
      "text/plain": [
       "np.float64(5.333333333333333)"
      ]
     },
     "execution_count": 32,
     "metadata": {},
     "output_type": "execute_result"
    }
   ],
   "source": [
    "aug33[1][2] # return the element from the 2nd row and 3rd column"
   ]
  },
  {
   "cell_type": "code",
   "execution_count": null,
   "metadata": {
    "colab": {
     "base_uri": "https://localhost:8080/"
    },
    "executionInfo": {
     "elapsed": 6,
     "status": "ok",
     "timestamp": 1757612097736,
     "user": {
      "displayName": "Shahriar Afkhami",
      "userId": "10934652738851687692"
     },
     "user_tz": 240
    },
    "id": "71XAoGPRiaof",
    "outputId": "1c7928c5-a5f6-45e2-9442-ca5845138a5b"
   },
   "outputs": [
    {
     "data": {
      "text/plain": [
       "np.float64(5.333333333333333)"
      ]
     },
     "execution_count": 33,
     "metadata": {},
     "output_type": "execute_result"
    }
   ],
   "source": [
    "aug33[1,2] # return the element from the 2nd row and 3rd column"
   ]
  },
  {
   "cell_type": "markdown",
   "metadata": {
    "id": "s4wfFTzqjWAt"
   },
   "source": [
    "## Testing: Random Linear Systems\n"
   ]
  },
  {
   "cell_type": "code",
   "execution_count": null,
   "metadata": {
    "colab": {
     "base_uri": "https://localhost:8080/"
    },
    "executionInfo": {
     "elapsed": 482,
     "status": "ok",
     "timestamp": 1757612188796,
     "user": {
      "displayName": "Shahriar Afkhami",
      "userId": "10934652738851687692"
     },
     "user_tz": 240
    },
    "id": "-ALEtculjWAu",
    "outputId": "79a454cb-b7c9-4afa-9209-18382f592e09"
   },
   "outputs": [
    {
     "name": "stdout",
     "output_type": "stream",
     "text": [
      "All Tests Passed\n"
     ]
    }
   ],
   "source": [
    "# Number of tests\n",
    "tests = 10000\n",
    "\n",
    "# System size\n",
    "N = 4\n",
    "\n",
    "# loop over all tests\n",
    "for i in range(tests):\n",
    "    # generate x and A\n",
    "    x = np.random.rand(N)\n",
    "    A = np.random.rand(N,N)\n",
    "\n",
    "    # Calculate b\n",
    "    b = np.dot(A,x)\n",
    "\n",
    "    # Perform Gaussian Elimination (aka row reduction)\n",
    "    aug = GaussElim(A,b)\n",
    "\n",
    "    # Perform back substitition\n",
    "    sol = BackSub(aug)\n",
    "\n",
    "    # Calculate difference\n",
    "    diff = np.abs(sol-x)\n",
    "\n",
    "    # Check if solutions match within tolerance\n",
    "    try:\n",
    "        assert(np.max(diff) < 1.0e-10)\n",
    "    except AssertionError:\n",
    "        print(\"Test failed with\")\n",
    "        print(\"A = \",A)\n",
    "        print(\"x = \",x)\n",
    "        print(\"diff = \",diff)\n",
    "        raise\n",
    "print(\"All Tests Passed\")"
   ]
  },
  {
   "cell_type": "markdown",
   "metadata": {
    "id": "Vjeredc4oO9A"
   },
   "source": [
    "<div style=\"background-color: rgba(0,0,255,0.05) ; padding: 10px; border: 1px solid darkblue;\">\n",
    "<b>Class Activity</b>: Run the code above a few times. Does anyone observe it only fails some of the time? Any ideas as to why this happens?\n",
    "</div>"
   ]
  },
  {
   "cell_type": "markdown",
   "metadata": {
    "id": "GfHX5_eXjWAx"
   },
   "source": [
    "## Round off and Pivoting"
   ]
  },
  {
   "cell_type": "markdown",
   "metadata": {
    "id": "xKjRLDgjjWAy"
   },
   "source": [
    "For matrices with a large discrepancy in the magnitude of the elements, we'll see that Gauss elimination doesn't perform quite as well."
   ]
  },
  {
   "cell_type": "code",
   "execution_count": null,
   "metadata": {
    "colab": {
     "base_uri": "https://localhost:8080/"
    },
    "executionInfo": {
     "elapsed": 7,
     "status": "ok",
     "timestamp": 1757612290580,
     "user": {
      "displayName": "Shahriar Afkhami",
      "userId": "10934652738851687692"
     },
     "user_tz": 240
    },
    "id": "L0yuLiPSjWAz",
    "outputId": "cb96ddc6-6196-4307-dd82-021301ed9e09"
   },
   "outputs": [
    {
     "name": "stdout",
     "output_type": "stream",
     "text": [
      "[[ 1.e-14 -1.e+00  1.e+00]\n",
      " [-1.e+00  2.e+00 -1.e+00]\n",
      " [ 2.e+00 -1.e+00  0.e+00]]\n"
     ]
    }
   ],
   "source": [
    "epsilon = 1e-14\n",
    "A_eps = np.array([(epsilon,-1,1),(-1,2,-1),(2,-1,0)])\n",
    "print(A_eps)"
   ]
  },
  {
   "cell_type": "markdown",
   "metadata": {
    "id": "RUW-17wsjWA0"
   },
   "source": [
    "Now we will compute the RHS of our system by multiplying the matrix by a simple vector:"
   ]
  },
  {
   "cell_type": "code",
   "execution_count": null,
   "metadata": {
    "colab": {
     "base_uri": "https://localhost:8080/"
    },
    "executionInfo": {
     "elapsed": 13,
     "status": "ok",
     "timestamp": 1757612292277,
     "user": {
      "displayName": "Shahriar Afkhami",
      "userId": "10934652738851687692"
     },
     "user_tz": 240
    },
    "id": "ToPY2FyqjWA1",
    "outputId": "30fbbc17-b837-4664-a963-b4cb4bd6b3a3"
   },
   "outputs": [
    {
     "name": "stdout",
     "output_type": "stream",
     "text": [
      "[0. 0. 1.]\n"
     ]
    }
   ],
   "source": [
    "b_eps = np.array([0,0,1.0])\n",
    "print(b_eps)"
   ]
  },
  {
   "cell_type": "markdown",
   "metadata": {
    "id": "WFrz3SUTjWA3"
   },
   "source": [
    "Now we can solve this system:"
   ]
  },
  {
   "cell_type": "code",
   "execution_count": null,
   "metadata": {
    "colab": {
     "base_uri": "https://localhost:8080/"
    },
    "executionInfo": {
     "elapsed": 7,
     "status": "ok",
     "timestamp": 1757612293846,
     "user": {
      "displayName": "Shahriar Afkhami",
      "userId": "10934652738851687692"
     },
     "user_tz": 240
    },
    "id": "WAUpjM_VjWA4",
    "outputId": "4266ddad-e7ef-4e11-8d00-f960611820a5"
   },
   "outputs": [
    {
     "name": "stdout",
     "output_type": "stream",
     "text": [
      "The solution is [0.96589403 0.96969697 0.96969697]\n",
      "The residual is [ 0.         -0.00380294  0.03790891]\n"
     ]
    }
   ],
   "source": [
    "aug_mat_eps = GaussElim(A_eps,b_eps)\n",
    "x_eps = BackSub(aug_mat_eps,z_tol=10.)\n",
    "print(\"The solution is\",x_eps)\n",
    "print(\"The residual is\",b_eps - A_eps @ x_eps)"
   ]
  },
  {
   "cell_type": "markdown",
   "metadata": {
    "id": "12lMPaQzjWA6"
   },
   "source": [
    "There is a noticeable difference between the calculated solution and the actual solution (as measured by the residual). This is because we are dividing by a small number, which adds numeric error. We should use the largest row element as the **pivot element**, or the element we divide by when doing the elimination.\n",
    "\n",
    "To further demonstrate the need for pivoting, consider the system:"
   ]
  },
  {
   "cell_type": "code",
   "execution_count": null,
   "metadata": {
    "colab": {
     "base_uri": "https://localhost:8080/"
    },
    "executionInfo": {
     "elapsed": 93,
     "status": "ok",
     "timestamp": 1757612324751,
     "user": {
      "displayName": "Shahriar Afkhami",
      "userId": "10934652738851687692"
     },
     "user_tz": 240
    },
    "id": "46_MaRjxjWA7",
    "outputId": "967917ca-e3c0-4259-8127-db3dec76c8fa"
   },
   "outputs": [
    {
     "name": "stdout",
     "output_type": "stream",
     "text": [
      "A=\n",
      " [[1. 0.]\n",
      " [0. 1.]]\n",
      "b= [2. 6.]\n"
     ]
    }
   ],
   "source": [
    "A = np.array([(1.0,0),(0,1.0)])\n",
    "b = np.array([2,6.0])\n",
    "print(\"A=\\n\",A)\n",
    "print(\"b=\",b)"
   ]
  },
  {
   "cell_type": "markdown",
   "metadata": {
    "id": "tItLZe54jWA9"
   },
   "source": [
    "With solution"
   ]
  },
  {
   "cell_type": "code",
   "execution_count": null,
   "metadata": {
    "colab": {
     "base_uri": "https://localhost:8080/"
    },
    "executionInfo": {
     "elapsed": 6,
     "status": "ok",
     "timestamp": 1757612331802,
     "user": {
      "displayName": "Shahriar Afkhami",
      "userId": "10934652738851687692"
     },
     "user_tz": 240
    },
    "id": "JhYoVTnojWA-",
    "outputId": "0c4d7ea4-7ab1-4292-8a81-bc59dbbe2ab7"
   },
   "outputs": [
    {
     "name": "stdout",
     "output_type": "stream",
     "text": [
      "[2. 6.]\n"
     ]
    }
   ],
   "source": [
    "aug_mat = GaussElim(A,b)\n",
    "x = BackSub(aug_mat)\n",
    "print(x)"
   ]
  },
  {
   "cell_type": "markdown",
   "metadata": {
    "id": "hq4L5whtjWA_"
   },
   "source": [
    "This is as expected because $\\mathbf{A}$ is an identity matrix. Now what if we switch the rows in $\\mathbf{A}$ and try the same thing:\n",
    "\n",
    "$$\\underbrace{\\begin{pmatrix} 0 & 1 \\\\ 1 & 0 \\end{pmatrix}}_{\\mathbf{A}} ~\n",
    "\\underbrace{\\begin{pmatrix} x_1\\\\x_2 \\end{pmatrix}}_{\\mathbf{x}} = \\underbrace{\\begin{pmatrix}6\\\\2\\end{pmatrix}}_{\\mathbf{b}}\n",
    "$$\n"
   ]
  },
  {
   "cell_type": "markdown",
   "metadata": {
    "id": "fLacAM98oO9C"
   },
   "source": [
    "<div style=\"background-color: rgba(0,255,0,0.05) ; padding: 10px; border: 1px solid darkgreen;\">\n",
    "<b>Class Activity</b>: Explain what happens when we apply Gaussian elimination to the above system. Then, run the code below.\n",
    "</div>"
   ]
  },
  {
   "cell_type": "code",
   "execution_count": null,
   "metadata": {
    "colab": {
     "base_uri": "https://localhost:8080/",
     "height": 570
    },
    "executionInfo": {
     "elapsed": 18,
     "status": "error",
     "timestamp": 1757612445861,
     "user": {
      "displayName": "Shahriar Afkhami",
      "userId": "10934652738851687692"
     },
     "user_tz": 240
    },
    "id": "moPnEJlEjWBA",
    "outputId": "36287877-a745-45f5-d988-4e91bab9dbee",
    "tags": [
     "hide-output"
    ]
   },
   "outputs": [
    {
     "name": "stdout",
     "output_type": "stream",
     "text": [
      "A =\n",
      " [[0. 1.]\n",
      " [1. 0.]]\n",
      "b = [6. 2.]\n",
      "\n",
      "aug_mat = \n",
      " [[  0.   1.   6.]\n",
      " [ nan -inf -inf]]\n"
     ]
    },
    {
     "name": "stderr",
     "output_type": "stream",
     "text": [
      "/tmp/ipython-input-3212638941.py:44: RuntimeWarning: divide by zero encountered in scalar divide\n",
      "  mod_row -= (mod_row[column]/aug_matrix[column,column]*\n",
      "/tmp/ipython-input-3212638941.py:44: RuntimeWarning: invalid value encountered in multiply\n",
      "  mod_row -= (mod_row[column]/aug_matrix[column,column]*\n"
     ]
    },
    {
     "ename": "AssertionError",
     "evalue": "\nWarning! Nonzero in position 1,0",
     "output_type": "error",
     "traceback": [
      "\u001b[0;31m---------------------------------------------------------------------------\u001b[0m",
      "\u001b[0;31mAssertionError\u001b[0m                            Traceback (most recent call last)",
      "\u001b[0;32m/tmp/ipython-input-747399281.py\u001b[0m in \u001b[0;36m<cell line: 0>\u001b[0;34m()\u001b[0m\n\u001b[1;32m      7\u001b[0m \u001b[0;34m\u001b[0m\u001b[0m\n\u001b[1;32m      8\u001b[0m \u001b[0;31m# With a large zero tolerance, we effectively skip the check below the diagonal\u001b[0m\u001b[0;34m\u001b[0m\u001b[0;34m\u001b[0m\u001b[0m\n\u001b[0;32m----> 9\u001b[0;31m \u001b[0mx\u001b[0m \u001b[0;34m=\u001b[0m \u001b[0mBackSub\u001b[0m\u001b[0;34m(\u001b[0m\u001b[0maug_mat\u001b[0m\u001b[0;34m,\u001b[0m \u001b[0mz_tol\u001b[0m \u001b[0;34m=\u001b[0m \u001b[0;36m1E3\u001b[0m\u001b[0;34m)\u001b[0m\u001b[0;34m\u001b[0m\u001b[0;34m\u001b[0m\u001b[0m\n\u001b[0m\u001b[1;32m     10\u001b[0m \u001b[0mprint\u001b[0m\u001b[0;34m(\u001b[0m\u001b[0;34m\"\\nx =\"\u001b[0m\u001b[0;34m,\u001b[0m\u001b[0mx\u001b[0m\u001b[0;34m)\u001b[0m\u001b[0;34m\u001b[0m\u001b[0;34m\u001b[0m\u001b[0m\n",
      "\u001b[0;32m/tmp/ipython-input-1177368814.py\u001b[0m in \u001b[0;36mBackSub\u001b[0;34m(aug_matrix, z_tol)\u001b[0m\n\u001b[1;32m     23\u001b[0m     \u001b[0;32mfor\u001b[0m \u001b[0mr\u001b[0m \u001b[0;32min\u001b[0m \u001b[0mrange\u001b[0m\u001b[0;34m(\u001b[0m\u001b[0mNrow\u001b[0m\u001b[0;34m)\u001b[0m\u001b[0;34m:\u001b[0m\u001b[0;34m\u001b[0m\u001b[0;34m\u001b[0m\u001b[0m\n\u001b[1;32m     24\u001b[0m         \u001b[0;32mfor\u001b[0m \u001b[0mc\u001b[0m \u001b[0;32min\u001b[0m \u001b[0mrange\u001b[0m\u001b[0;34m(\u001b[0m\u001b[0;36m0\u001b[0m\u001b[0;34m,\u001b[0m\u001b[0mr\u001b[0m\u001b[0;34m)\u001b[0m\u001b[0;34m:\u001b[0m\u001b[0;34m\u001b[0m\u001b[0;34m\u001b[0m\u001b[0m\n\u001b[0;32m---> 25\u001b[0;31m             \u001b[0;32massert\u001b[0m \u001b[0mnp\u001b[0m\u001b[0;34m.\u001b[0m\u001b[0mabs\u001b[0m\u001b[0;34m(\u001b[0m\u001b[0maug_matrix\u001b[0m\u001b[0;34m[\u001b[0m\u001b[0mr\u001b[0m\u001b[0;34m,\u001b[0m\u001b[0mc\u001b[0m\u001b[0;34m]\u001b[0m\u001b[0;34m)\u001b[0m \u001b[0;34m<\u001b[0m \u001b[0mz_tol\u001b[0m\u001b[0;34m,\u001b[0m \u001b[0;34m\"\\nWarning! Nonzero in position \"\u001b[0m\u001b[0;34m+\u001b[0m\u001b[0mstr\u001b[0m\u001b[0;34m(\u001b[0m\u001b[0mr\u001b[0m\u001b[0;34m)\u001b[0m\u001b[0;34m+\u001b[0m\u001b[0;34m\",\"\u001b[0m\u001b[0;34m+\u001b[0m\u001b[0mstr\u001b[0m\u001b[0;34m(\u001b[0m\u001b[0mc\u001b[0m\u001b[0;34m)\u001b[0m\u001b[0;34m\u001b[0m\u001b[0;34m\u001b[0m\u001b[0m\n\u001b[0m\u001b[1;32m     26\u001b[0m \u001b[0;34m\u001b[0m\u001b[0m\n\u001b[1;32m     27\u001b[0m     \u001b[0;31m# create vector of zeros to store solution\u001b[0m\u001b[0;34m\u001b[0m\u001b[0;34m\u001b[0m\u001b[0m\n",
      "\u001b[0;31mAssertionError\u001b[0m: \nWarning! Nonzero in position 1,0"
     ]
    }
   ],
   "source": [
    "A = np.array([(0,1.0),(1.0,0)])\n",
    "b = np.array([6.,2.0])\n",
    "print(\"A =\\n\",A)\n",
    "print(\"b =\",b)\n",
    "aug_mat = GaussElim(A,b)\n",
    "print(\"\\naug_mat = \\n\",aug_mat)\n",
    "\n",
    "# With a large zero tolerance, we effectively skip the check below the diagonal\n",
    "x = BackSub(aug_mat, z_tol = 1E3)\n",
    "print(\"\\nx =\",x)"
   ]
  },
  {
   "cell_type": "markdown",
   "metadata": {
    "id": "1EEhmIlEjWBC"
   },
   "source": [
    "What happened?!?\n",
    "\n",
    "Well, the **pivot element** in the first row was **zero**. We divided by zero.\n",
    "\n",
    "We can correct this by checking before we pivot, and **rearranging the equations** to pivot with the largest possible entry.\n",
    "\n",
    "It is worth mentioning that **largest is relative** to the size of the other entries in the row. Consider two rows: $(11,10,10)$ and $(2,1,1)$. The 2 is actually a better pivot because it is large relative to the other elements of a row."
   ]
  },
  {
   "cell_type": "markdown",
   "metadata": {
    "id": "KglEHk_2jWBE"
   },
   "source": [
    "## Swapping Rows\n",
    "\n",
    "To do pivoting we will need a means to swap rows in our augmented matrix. Run the code below."
   ]
  },
  {
   "cell_type": "code",
   "execution_count": null,
   "metadata": {
    "colab": {
     "base_uri": "https://localhost:8080/"
    },
    "executionInfo": {
     "elapsed": 13,
     "status": "ok",
     "timestamp": 1757612567155,
     "user": {
      "displayName": "Shahriar Afkhami",
      "userId": "10934652738851687692"
     },
     "user_tz": 240
    },
    "id": "aHRRVoDljWBE",
    "outputId": "e48d4ef3-cf2d-4228-bccc-dafdd800a1dd",
    "tags": [
     "remove-output"
    ]
   },
   "outputs": [
    {
     "name": "stdout",
     "output_type": "stream",
     "text": [
      "Before swap, A =\n",
      " [[0. 1.]\n",
      " [1. 0.]]\n",
      "After swapping 0 and 1, A =\n",
      " [[1. 0.]\n",
      " [0. 1.]]\n"
     ]
    }
   ],
   "source": [
    "def swap_rows(A, a, b):\n",
    "    \"\"\"Rows two rows in a matrix, switch row a with row b\n",
    "\n",
    "    args:\n",
    "    A: matrix to perform row swaps on\n",
    "    a: row index of matrix\n",
    "    b: row index of matrix\n",
    "\n",
    "    returns: nothing\n",
    "\n",
    "    side effects:\n",
    "    changes A to rows a and b swapped\n",
    "    \"\"\"\n",
    "\n",
    "    # A negative index will give unexpected behavior\n",
    "    assert (a>=0) and (b>=0)\n",
    "    N = A.shape[0] #number of rows\n",
    "    assert (a<N) and (b<N) #less than because 0-based indexing\n",
    "\n",
    "    # create a temporary variable to store row a\n",
    "    temp = A[a,:].copy()\n",
    "\n",
    "    # move row b values into the location of row a\n",
    "    A[a,:] = A[b,:].copy()\n",
    "\n",
    "    # move row a values (stored in temp) into the location of row a\n",
    "    A[b,:] = temp.copy()\n",
    "\n",
    "# And now we test our function\n",
    "print(\"Before swap, A =\\n\",A)\n",
    "swap_rows(A,0,1)\n",
    "print(\"After swapping 0 and 1, A =\\n\",A)"
   ]
  },
  {
   "cell_type": "markdown",
   "metadata": {
    "id": "NA2fS6hajWBF"
   },
   "source": [
    "## Selecting Pivot"
   ]
  },
  {
   "cell_type": "markdown",
   "metadata": {
    "id": "6mL-kVvTjWBG"
   },
   "source": [
    "The next step is figuring out how to swap during each step. At the beginning of the solve we want to find the **maximum row element size**."
   ]
  },
  {
   "cell_type": "code",
   "execution_count": null,
   "metadata": {
    "colab": {
     "base_uri": "https://localhost:8080/"
    },
    "executionInfo": {
     "elapsed": 49,
     "status": "ok",
     "timestamp": 1757612596706,
     "user": {
      "displayName": "Shahriar Afkhami",
      "userId": "10934652738851687692"
     },
     "user_tz": 240
    },
    "id": "llmSL8_XjWBM",
    "outputId": "4c86b382-8e8c-4ce3-82a1-f495d54fa062",
    "tags": [
     "remove-output"
    ]
   },
   "outputs": [
    {
     "name": "stdout",
     "output_type": "stream",
     "text": [
      "A =\n",
      " [[0.31714958 0.42450013 0.67340867 0.7550851  0.1621044 ]\n",
      " [0.26285996 0.95524483 0.83559778 0.16571808 0.5689868 ]\n",
      " [0.95749912 0.27435258 0.85382664 0.93491121 0.26043149]\n",
      " [0.53732315 0.57000124 0.08389184 0.16218129 0.83504279]\n",
      " [0.16410316 0.9174104  0.60648752 0.66011944 0.94813772]]\n",
      "s = [0.7550851  0.95524483 0.95749912 0.83504279 0.94813772]\n"
     ]
    }
   ],
   "source": [
    "# Create a random matrix\n",
    "N = 5\n",
    "A = np.random.rand(N,N)\n",
    "print(\"A =\\n\",A)\n",
    "\n",
    "# Create a vector of zeros\n",
    "s = np.zeros(N)\n",
    "\n",
    "# loop over rows\n",
    "count = 0\n",
    "for row in A:\n",
    "    # record the largest element of current row into s\n",
    "    s[count] = np.max(np.fabs(row))\n",
    "\n",
    "    # increment counter\n",
    "    count += 1\n",
    "print(\"s =\",s)"
   ]
  },
  {
   "cell_type": "markdown",
   "metadata": {
    "id": "NpzJ000TjWBO"
   },
   "source": [
    "Then we'll have to figure out **which row** has the **largest scaled pivot element**."
   ]
  },
  {
   "cell_type": "code",
   "execution_count": null,
   "metadata": {
    "colab": {
     "base_uri": "https://localhost:8080/"
    },
    "executionInfo": {
     "elapsed": 7,
     "status": "ok",
     "timestamp": 1757612696202,
     "user": {
      "displayName": "Shahriar Afkhami",
      "userId": "10934652738851687692"
     },
     "user_tz": 240
    },
    "id": "XefT2OLqjWBO",
    "outputId": "4bbfdb2c-50bb-459c-c983-d6bb22a6ea46"
   },
   "outputs": [
    {
     "name": "stdout",
     "output_type": "stream",
     "text": [
      "Largest scaled element in column 2 is in row 2\n"
     ]
    }
   ],
   "source": [
    "# Specify the column we want to analyze\n",
    "pivot_column = 2\n",
    "\n",
    "# Find the position of the largest scaled element in said column\n",
    "largest_pos = np.argmax(np.fabs(A[:,pivot_column]/s[pivot_column]))\n",
    "print(\"Largest scaled element in column\",pivot_column,\n",
    "      \"is in row\",largest_pos)"
   ]
  },
  {
   "cell_type": "markdown",
   "metadata": {
    "id": "Y-t0VMzsjsA0"
   },
   "source": [
    "Question: What does ``np.argmax`` do?"
   ]
  },
  {
   "cell_type": "code",
   "execution_count": null,
   "metadata": {
    "colab": {
     "base_uri": "https://localhost:8080/"
    },
    "executionInfo": {
     "elapsed": 50,
     "status": "ok",
     "timestamp": 1757612743874,
     "user": {
      "displayName": "Shahriar Afkhami",
      "userId": "10934652738851687692"
     },
     "user_tz": 240
    },
    "id": "i6xgp4lsjwfE",
    "outputId": "9c59abbd-2868-41fb-83ee-9aa8c0ea1357",
    "tags": [
     "hide-output"
    ]
   },
   "outputs": [
    {
     "name": "stdout",
     "output_type": "stream",
     "text": [
      "Help on _ArrayFunctionDispatcher in module numpy:\n",
      "\n",
      "argmax(a, axis=None, out=None, *, keepdims=<no value>)\n",
      "    Returns the indices of the maximum values along an axis.\n",
      "\n",
      "    Parameters\n",
      "    ----------\n",
      "    a : array_like\n",
      "        Input array.\n",
      "    axis : int, optional\n",
      "        By default, the index is into the flattened array, otherwise\n",
      "        along the specified axis.\n",
      "    out : array, optional\n",
      "        If provided, the result will be inserted into this array. It should\n",
      "        be of the appropriate shape and dtype.\n",
      "    keepdims : bool, optional\n",
      "        If this is set to True, the axes which are reduced are left\n",
      "        in the result as dimensions with size one. With this option,\n",
      "        the result will broadcast correctly against the array.\n",
      "\n",
      "        .. versionadded:: 1.22.0\n",
      "\n",
      "    Returns\n",
      "    -------\n",
      "    index_array : ndarray of ints\n",
      "        Array of indices into the array. It has the same shape as ``a.shape``\n",
      "        with the dimension along `axis` removed. If `keepdims` is set to True,\n",
      "        then the size of `axis` will be 1 with the resulting array having same\n",
      "        shape as ``a.shape``.\n",
      "\n",
      "    See Also\n",
      "    --------\n",
      "    ndarray.argmax, argmin\n",
      "    amax : The maximum value along a given axis.\n",
      "    unravel_index : Convert a flat index into an index tuple.\n",
      "    take_along_axis : Apply ``np.expand_dims(index_array, axis)``\n",
      "                      from argmax to an array as if by calling max.\n",
      "\n",
      "    Notes\n",
      "    -----\n",
      "    In case of multiple occurrences of the maximum values, the indices\n",
      "    corresponding to the first occurrence are returned.\n",
      "\n",
      "    Examples\n",
      "    --------\n",
      "    >>> a = np.arange(6).reshape(2,3) + 10\n",
      "    >>> a\n",
      "    array([[10, 11, 12],\n",
      "           [13, 14, 15]])\n",
      "    >>> np.argmax(a)\n",
      "    5\n",
      "    >>> np.argmax(a, axis=0)\n",
      "    array([1, 1, 1])\n",
      "    >>> np.argmax(a, axis=1)\n",
      "    array([2, 2])\n",
      "\n",
      "    Indexes of the maximal elements of a N-dimensional array:\n",
      "\n",
      "    >>> ind = np.unravel_index(np.argmax(a, axis=None), a.shape)\n",
      "    >>> ind\n",
      "    (1, 2)\n",
      "    >>> a[ind]\n",
      "    15\n",
      "\n",
      "    >>> b = np.arange(6)\n",
      "    >>> b[1] = 5\n",
      "    >>> b\n",
      "    array([0, 5, 2, 3, 4, 5])\n",
      "    >>> np.argmax(b)  # Only the first occurrence is returned.\n",
      "    1\n",
      "\n",
      "    >>> x = np.array([[4,2,3], [1,0,3]])\n",
      "    >>> index_array = np.argmax(x, axis=-1)\n",
      "    >>> # Same as np.amax(x, axis=-1, keepdims=True)\n",
      "    >>> np.take_along_axis(x, np.expand_dims(index_array, axis=-1), axis=-1)\n",
      "    array([[4],\n",
      "           [3]])\n",
      "    >>> # Same as np.amax(x, axis=-1)\n",
      "    >>> np.take_along_axis(x, np.expand_dims(index_array, axis=-1),\n",
      "    ...     axis=-1).squeeze(axis=-1)\n",
      "    array([4, 3])\n",
      "\n",
      "    Setting `keepdims` to `True`,\n",
      "\n",
      "    >>> x = np.arange(24).reshape((2, 3, 4))\n",
      "    >>> res = np.argmax(x, axis=1, keepdims=True)\n",
      "    >>> res.shape\n",
      "    (2, 1, 4)\n",
      "\n"
     ]
    }
   ],
   "source": [
    "help(np.argmax)"
   ]
  },
  {
   "cell_type": "code",
   "execution_count": null,
   "metadata": {
    "colab": {
     "base_uri": "https://localhost:8080/"
    },
    "executionInfo": {
     "elapsed": 8,
     "status": "ok",
     "timestamp": 1757612765392,
     "user": {
      "displayName": "Shahriar Afkhami",
      "userId": "10934652738851687692"
     },
     "user_tz": 240
    },
    "id": "Ev_5ICuij6C9",
    "outputId": "038cb711-5c99-4829-b697-60461db2b50d"
   },
   "outputs": [
    {
     "name": "stdout",
     "output_type": "stream",
     "text": [
      "a =  [1, 4, 2, 3]\n",
      "argmax =  1\n"
     ]
    }
   ],
   "source": [
    "# let's test argmax\n",
    "a = [1, 4, 2, 3]\n",
    "print(\"a = \",a)\n",
    "print(\"argmax = \",np.argmax(a)) # remember, base-0 counting"
   ]
  },
  {
   "cell_type": "markdown",
   "metadata": {
    "id": "-SLqj-8bjWBQ"
   },
   "source": [
    "## Put it All Together"
   ]
  },
  {
   "cell_type": "markdown",
   "metadata": {
    "id": "qPpNAy8pjWBQ"
   },
   "source": [
    "Now it's time to put this all together in a new version of Gauss elimination. Here are the main steps:\n",
    "* Assembles augmented matrix\n",
    "* Identifies scale factors\n",
    "* Performs Gaussian elimination (row reduction):\n",
    "  * Swaps rows if needed\n",
    "  * Performs elimination\n",
    "* Calls backsolve\n",
    "\n"
   ]
  },
  {
   "cell_type": "code",
   "execution_count": null,
   "metadata": {
    "id": "w_EYcPuzjWBR",
    "tags": []
   },
   "outputs": [],
   "source": [
    "def GaussElimPivotSolve(A,b,LOUD=False):\n",
    "    \"\"\"create a Gaussian elimination with pivoting matrix for a system\n",
    "\n",
    "    Args:\n",
    "        A: N by N array\n",
    "        b: array of length N\n",
    "    Returns:\n",
    "        solution vector in the original order\n",
    "    \"\"\"\n",
    "\n",
    "    # checks dimensions\n",
    "    [Nrow, Ncol] = A.shape\n",
    "    assert Nrow == Ncol\n",
    "    N = Nrow\n",
    "\n",
    "\n",
    "    #create augmented matrix\n",
    "    aug_matrix = np.zeros((N,N+1))\n",
    "    aug_matrix[0:N,0:N] = A\n",
    "    aug_matrix[:,N] = b\n",
    "    #augmented matrix is created\n",
    "\n",
    "    #create scale factors\n",
    "    s = np.zeros(N)\n",
    "    count = 0\n",
    "    for row in aug_matrix[:,0:N]: #don't include b\n",
    "        s[count] = np.max(np.fabs(row))\n",
    "        count += 1\n",
    "\n",
    "    # print diagnostics if requested\n",
    "    if LOUD:\n",
    "        print(\"s =\",s)\n",
    "        print(\"Original Augmented Matrix is\\n\",aug_matrix)\n",
    "\n",
    "    #perform elimination\n",
    "    for column in range(0,N):\n",
    "\n",
    "        ## swap rows if needed\n",
    "        # find largest position\n",
    "        largest_pos = (np.argmax(np.fabs(aug_matrix[column:N,column]/\n",
    "                                         s[column:N])) + column)\n",
    "\n",
    "        # check if current column is largest position\n",
    "        if (largest_pos != column):\n",
    "            # if not, swap rows\n",
    "            if (LOUD):\n",
    "                print(\"Swapping row\",column,\"with row\",largest_pos)\n",
    "                print(\"Pre swap\\n\",aug_matrix)\n",
    "            swap_rows(aug_matrix,column,largest_pos)\n",
    "\n",
    "            #re-order s\n",
    "            tmp = s[column]\n",
    "            s[column] = s[largest_pos]\n",
    "            s[largest_pos] = tmp\n",
    "            if (LOUD):\n",
    "                print(\"A =\\n\",aug_matrix)\n",
    "                print(\"new_s =\\n\", s)\n",
    "\n",
    "        #finish off the row\n",
    "        for row in range(column+1,N):\n",
    "            mod_row = aug_matrix[row,:]\n",
    "            mod_row = mod_row - mod_row[column]/aug_matrix[column,column]*aug_matrix[column,:]\n",
    "            aug_matrix[row] = mod_row\n",
    "\n",
    "    #now back solve\n",
    "    if LOUD:\n",
    "        print(\"Final aug_matrix is\\n\",aug_matrix)\n",
    "    x = BackSub(aug_matrix)\n",
    "    return x"
   ]
  },
  {
   "cell_type": "markdown",
   "metadata": {
    "id": "2ovsCIgjjWBT"
   },
   "source": [
    "## Earlier example"
   ]
  },
  {
   "cell_type": "code",
   "execution_count": null,
   "metadata": {
    "colab": {
     "base_uri": "https://localhost:8080/"
    },
    "executionInfo": {
     "elapsed": 7,
     "status": "ok",
     "timestamp": 1757612845968,
     "user": {
      "displayName": "Shahriar Afkhami",
      "userId": "10934652738851687692"
     },
     "user_tz": 240
    },
    "id": "-EcwxwkNjWBT",
    "outputId": "9eed298e-8419-4c63-a002-2c4ef7f11f8d"
   },
   "outputs": [
    {
     "name": "stdout",
     "output_type": "stream",
     "text": [
      "A = \n",
      " [[ 3  2  1]\n",
      " [-1  4  5]\n",
      " [ 2 -8 10]]\n",
      "b = \n",
      " [[6 8 4]]\n",
      "s = [ 3.  5. 10.]\n",
      "Original Augmented Matrix is\n",
      " [[ 3.  2.  1.  6.]\n",
      " [-1.  4.  5.  8.]\n",
      " [ 2. -8. 10.  4.]]\n",
      "Final aug_matrix is\n",
      " [[ 3.          2.          1.          6.        ]\n",
      " [ 0.          4.66666667  5.33333333 10.        ]\n",
      " [ 0.          0.         20.         20.        ]]\n",
      "The solution is [1. 1. 1.]\n",
      "The residual (errors) are [[0. 0. 0.]]\n"
     ]
    }
   ],
   "source": [
    "print(\"A = \\n\",A33)\n",
    "print(\"b = \\n\",b3)\n",
    "\n",
    "x = GaussElimPivotSolve(A33,b3,LOUD=True)\n",
    "print(\"The solution is\",x)\n",
    "print(\"The residual (errors) are\",np.dot(A33,x)-b3)"
   ]
  },
  {
   "cell_type": "markdown",
   "metadata": {
    "id": "pIKkokazjWBW"
   },
   "source": [
    "Success, but not that impressive. Vanilla Gauss elimination also worked here. Pivoting was never used."
   ]
  },
  {
   "cell_type": "markdown",
   "metadata": {
    "id": "0xWrxvPajWBZ"
   },
   "source": [
    "## Test: Troublesome System"
   ]
  },
  {
   "cell_type": "markdown",
   "metadata": {
    "id": "ipTMaFHXjWBa"
   },
   "source": [
    "Now we can try this on the systems that didn't work so well before:"
   ]
  },
  {
   "cell_type": "code",
   "execution_count": null,
   "metadata": {
    "colab": {
     "base_uri": "https://localhost:8080/"
    },
    "executionInfo": {
     "elapsed": 7,
     "status": "ok",
     "timestamp": 1757612870324,
     "user": {
      "displayName": "Shahriar Afkhami",
      "userId": "10934652738851687692"
     },
     "user_tz": 240
    },
    "id": "gPRpPVK1jWBa",
    "outputId": "e3284830-c9a2-44ca-d82b-e50d9f8e4c3c"
   },
   "outputs": [
    {
     "name": "stdout",
     "output_type": "stream",
     "text": [
      "A =\n",
      " [[ 1.e-14 -1.e+00  1.e+00]\n",
      " [-1.e+00  2.e+00 -1.e+00]\n",
      " [ 2.e+00 -1.e+00  0.e+00]]\n",
      "b = [0. 0. 1.]\n",
      "s = [1. 2. 2.]\n",
      "Original Augmented Matrix is\n",
      " [[ 1.e-14 -1.e+00  1.e+00  0.e+00]\n",
      " [-1.e+00  2.e+00 -1.e+00  0.e+00]\n",
      " [ 2.e+00 -1.e+00  0.e+00  1.e+00]]\n",
      "Swapping row 0 with row 2\n",
      "Pre swap\n",
      " [[ 1.e-14 -1.e+00  1.e+00  0.e+00]\n",
      " [-1.e+00  2.e+00 -1.e+00  0.e+00]\n",
      " [ 2.e+00 -1.e+00  0.e+00  1.e+00]]\n",
      "A =\n",
      " [[ 2.e+00 -1.e+00  0.e+00  1.e+00]\n",
      " [-1.e+00  2.e+00 -1.e+00  0.e+00]\n",
      " [ 1.e-14 -1.e+00  1.e+00  0.e+00]]\n",
      "new_s =\n",
      " [2. 2. 1.]\n",
      "Swapping row 1 with row 2\n",
      "Pre swap\n",
      " [[ 2.0e+00 -1.0e+00  0.0e+00  1.0e+00]\n",
      " [ 0.0e+00  1.5e+00 -1.0e+00  5.0e-01]\n",
      " [ 0.0e+00 -1.0e+00  1.0e+00 -5.0e-15]]\n",
      "A =\n",
      " [[ 2.0e+00 -1.0e+00  0.0e+00  1.0e+00]\n",
      " [ 0.0e+00 -1.0e+00  1.0e+00 -5.0e-15]\n",
      " [ 0.0e+00  1.5e+00 -1.0e+00  5.0e-01]]\n",
      "new_s =\n",
      " [2. 1. 2.]\n",
      "Final aug_matrix is\n",
      " [[ 2.e+00 -1.e+00  0.e+00  1.e+00]\n",
      " [ 0.e+00 -1.e+00  1.e+00 -5.e-15]\n",
      " [ 0.e+00  0.e+00  5.e-01  5.e-01]]\n",
      "x = [1. 1. 1.]\n",
      "The residual (errors) are [ 0.00000000e+00 -1.11022302e-16  0.00000000e+00]\n"
     ]
    }
   ],
   "source": [
    "print(\"A =\\n\",A_eps)\n",
    "print(\"b =\",b_eps)\n",
    "x = GaussElimPivotSolve(A_eps,b_eps,LOUD=True)\n",
    "print(\"x =\",x)\n",
    "print(\"The residual (errors) are\",np.dot(A_eps,x)-b_eps)"
   ]
  },
  {
   "cell_type": "markdown",
   "metadata": {
    "id": "TH-KccUGjWBd"
   },
   "source": [
    "We obtained the correct answer. Also, notice how the final augmented matrix is diagonally dominant.  That makes the back-substitution more stable as well."
   ]
  },
  {
   "cell_type": "markdown",
   "metadata": {
    "id": "xjqC3XcdjWBd"
   },
   "source": [
    "## Timing"
   ]
  },
  {
   "cell_type": "markdown",
   "metadata": {
    "id": "LescpCjRjWBe"
   },
   "source": [
    "Gaussian elimination takes $O(n^3)$ operations where $n\\times n$ is the size of the matrix.  The notation $O(n^3)$ means that as the matrix grows, the asymptotic (i.e., $n$ large) growth rate of the number of floating point operations (add, subtract, multiply, and divide are all floating point operations) grows as $n^3$.  Therefore, if we double the size of the matrix, the number of operations goes up by a factor of $2^3=8$.\n",
    "\n",
    "Let's use the time module that python provides to time how long it takes to run our Gaussian elimination code as we increase $n$."
   ]
  },
  {
   "cell_type": "markdown",
   "metadata": {
    "id": "GzDxHMyJoO9K"
   },
   "source": [
    "<div style=\"background-color: rgba(0,0,255,0.05) ; padding: 10px; border: 1px solid darkblue;\">\n",
    "<b>Class Activity</b>: Run the code below.\n",
    "</div>"
   ]
  },
  {
   "cell_type": "code",
   "execution_count": null,
   "metadata": {
    "colab": {
     "base_uri": "https://localhost:8080/",
     "height": 454
    },
    "executionInfo": {
     "elapsed": 1681,
     "status": "ok",
     "timestamp": 1757612946153,
     "user": {
      "displayName": "Shahriar Afkhami",
      "userId": "10934652738851687692"
     },
     "user_tz": 240
    },
    "id": "0I3Y-SrBjWBf",
    "outputId": "efa386e4-6583-4dcc-bee5-72a063e831a1"
   },
   "outputs": [
    {
     "data": {
      "image/png": "[encoded data removed]",
      "text/plain": [
       "<Figure size 640x480 with 1 Axes>"
      ]
     },
     "metadata": {},
     "output_type": "display_data"
    }
   ],
   "source": [
    "import time\n",
    "\n",
    "# Number of times to repeat the test for each size\n",
    "num_tests = 10\n",
    "\n",
    "# Values of N to test\n",
    "N = 2**np.arange(num_tests)\n",
    "\n",
    "# Store timing results\n",
    "times = np.zeros(num_tests)\n",
    "\n",
    "# Loop over tests\n",
    "for test in range(1,num_tests):\n",
    "    # generate random linear system\n",
    "    A = np.random.rand(N[test],N[test])\n",
    "    b = np.dot(A,np.ones(N[test]))\n",
    "    x = np.zeros(N[test])\n",
    "\n",
    "    # start timer\n",
    "    start = time.perf_counter()\n",
    "\n",
    "    # run Gaussian elimination\n",
    "    aug = GaussElim(A,b)\n",
    "    x = BackSub(aug)\n",
    "\n",
    "    # end time\n",
    "    end = time.perf_counter()\n",
    "\n",
    "    # store time result\n",
    "    times[test] = end-start\n",
    "\n",
    "# create log-log plot\n",
    "plt.loglog(N,times,'o-',label=\"experiment\")\n",
    "\n",
    "#make a comparison line with slope 2^3\n",
    "y_comp = times.copy()/4\n",
    "for comp_place in range(num_tests-1,0,-1):\n",
    "    #because x goes up by factor 2 each time, time should go up by 8\n",
    "    y_comp[comp_place -1] = np.exp(np.log(y_comp[test])-3*(np.log(N[test])-np.log(N[comp_place-1])))\n",
    "plt.loglog(N[4:num_tests],y_comp[4:num_tests],'r',linewidth=4,label=\"$O(n^3)$\")\n",
    "\n",
    "#make a comparison line with slope 2^2\n",
    "y_comp = times.copy()*4\n",
    "for comp_place in range(num_tests-1,0,-1):\n",
    "    y_comp[comp_place -1] = np.exp(np.log(y_comp[test])-2*(np.log(N[test])-np.log(N[comp_place-1])))\n",
    "plt.loglog(N[4:num_tests],y_comp[4:num_tests],'g--',linewidth=4,label=\"$O(n^2)$\")\n",
    "\n",
    "# add labels and legend\n",
    "plt.xlabel(\"Number of Equations\")\n",
    "plt.ylabel(\"Seconds to complete solve\")\n",
    "plt.legend()\n",
    "plt.show()"
   ]
  },
  {
   "cell_type": "markdown",
   "metadata": {
    "id": "wgpyCuKYjWBh"
   },
   "source": [
    "In this figure the red line is a slope of 3 on a log-log scale (which corresponds time growing as the number of equations to the third power).  If the time to solve a system was consistent with the theory, then these dots would be parallel to the red line.  That assumes that the time it takes to execute the code is linearly related to the number of floating point operations.\n",
    "The actual slope is closer to 2, the slope of the green dashed line.  This implies that the time to solution is not growing as fast as the theory.  The reason for this is that python (probably numpy) is helping us out and grouping operations together and executing some of them in parallel so that the number of floating point operations is not linearly related to the time."
   ]
  },
  {
   "cell_type": "code",
   "execution_count": null,
   "metadata": {
    "id": "5T9tjaZcQcsQ"
   },
   "outputs": [],
   "source": [
    "import scipy.linalg as la\n",
    "import numpy as np"
   ]
  },
  {
   "cell_type": "markdown",
   "metadata": {
    "id": "MgaYMKRXQcsS"
   },
   "source": [
    "## Solving a Linear System with Python"
   ]
  },
  {
   "cell_type": "markdown",
   "metadata": {
    "id": "sDE2OCB-QcsS"
   },
   "source": [
    "Now let's solve this system of equations with Python. Tip: `scipy` is a little more sophisticated than `numpy`. Read more [here](https://docs.scipy.org/doc/scipy/tutorial/linalg.html#)."
   ]
  },
  {
   "cell_type": "code",
   "execution_count": null,
   "metadata": {
    "colab": {
     "base_uri": "https://localhost:8080/"
    },
    "executionInfo": {
     "elapsed": 6,
     "status": "ok",
     "timestamp": 1757300258349,
     "user": {
      "displayName": "Shahriar Afkhami",
      "userId": "10934652738851687692"
     },
     "user_tz": 240
    },
    "id": "JpHwQqTvQcsS",
    "outputId": "4a212dee-81ae-46d6-88bd-8ed6a29644bb"
   },
   "outputs": [
    {
     "name": "stdout",
     "output_type": "stream",
     "text": [
      "A=\n",
      " [[ 3  2  1]\n",
      " [-1  4  5]\n",
      " [ 2 -8 10]]\n",
      "b=\n",
      " [6 8 4]\n",
      "x=\n",
      " [1. 1. 1.]\n"
     ]
    }
   ],
   "source": [
    "A = np.array([[3, 2, 1], [-1, 4, 5], [2, -8, 10]])\n",
    "print(\"A=\\n\",A)\n",
    "\n",
    "# Define b\n",
    "### BEGIN SOLUTION\n",
    "b = np.array([6,8,4])\n",
    "### END SOLUTION\n",
    "print(\"b=\\n\",b)\n",
    "\n",
    "# Calculate x using la.solve\n",
    "### BEGIN SOLUTION\n",
    "x = la.solve(A,b)\n",
    "### END SOLUTION\n",
    "print(\"x=\\n\",x)\n",
    "\n"
   ]
  },
  {
   "cell_type": "markdown",
   "metadata": {
    "id": "TKFjZU9UQcsT"
   },
   "source": [
    "We can also use Python to calculate the reduced row echelon form. First, let's use `sympy`."
   ]
  },
  {
   "cell_type": "code",
   "execution_count": null,
   "metadata": {
    "colab": {
     "base_uri": "https://localhost:8080/"
    },
    "executionInfo": {
     "elapsed": 3706,
     "status": "ok",
     "timestamp": 1757613596532,
     "user": {
      "displayName": "Shahriar Afkhami",
      "userId": "10934652738851687692"
     },
     "user_tz": 240
    },
    "id": "XPn8i_bQQcsU",
    "outputId": "c9fd977d-6aa0-44e3-d709-c643ccb70909"
   },
   "outputs": [
    {
     "name": "stdout",
     "output_type": "stream",
     "text": [
      "A=\n",
      " Matrix([[3, 2, 1], [-1, 4, 5], [2, -8, 10]])\n",
      "b=\n",
      " Matrix([[6], [8], [4]])\n",
      "aug=\n",
      " Matrix([[3, 2, 1, 6], [-1, 4, 5, 8], [2, -8, 10, 4]])\n",
      "(Matrix([\n",
      "[1, 0, 0, 1],\n",
      "[0, 1, 0, 1],\n",
      "[0, 0, 1, 1]]), (0, 1, 2))\n"
     ]
    }
   ],
   "source": [
    "from sympy import Matrix\n",
    "\n",
    "# Define A\n",
    "A_ = Matrix([[3, 2, 1], [-1, 4, 5], [2, -8, 10]])\n",
    "print(\"A=\\n\",A_)\n",
    "\n",
    "# Define B\n",
    "b_ = Matrix([6,8,4])\n",
    "print(\"b=\\n\",b_)\n",
    "\n",
    "# Create augmented matrix\n",
    "aug_ = A_.row_join(b_)\n",
    "print(\"aug=\\n\",aug_)\n",
    "\n",
    "# Calculate reduced row eschelon form\n",
    "rref_ = aug_.rref()\n",
    "print(rref_)"
   ]
  },
  {
   "cell_type": "markdown",
   "metadata": {
    "id": "TaZM2AlFQcsU"
   },
   "source": [
    "`Sympy` performs symbolic computations which are great for teaching but often too slow for numerically solving large problems (e.g., compuational fluid dynamics simulation). We'll focus on using `scipy` for most of this class, although you should be comfortable converting the reduced row echelon form of the augmented matrix back into the solution of the linear system."
   ]
  },
  {
   "cell_type": "markdown",
   "metadata": {
    "id": "1VS3plkmQcsV"
   },
   "source": [
    "## Extending Gaussian Elimination to Invert a Matrix"
   ]
  },
  {
   "cell_type": "markdown",
   "metadata": {
    "id": "Ln8NjZJwQcsV"
   },
   "source": [
    "Now let's \"open the black box\" to see how `scipy`/`numpy` numerically calculates the inverse. Start by studying [](../04/Gauss-Elimination.ipynb) which converts our by-hand Gaussian elimination calculation into pseudocode and then Python code.\n",
    "\n",
    "As discussed on pg. 199 of Savov, we can calculate the inverse of a matrix $\\bf A$ by assembling the augemented matrix\n",
    "\n",
    "$$ \\begin{bmatrix} {\\bf A} & {\\bf I} \\end{bmatrix} $$\n",
    "\n",
    "and applying Gauss-Jordan elimination to obtain:\n",
    "\n",
    "$$ \\begin{bmatrix} {\\bf I} & {\\bf A}^{-1} \\end{bmatrix}$$\n",
    "\n",
    "**Assignment**:\n",
    "1. Modify the `GaussElim` and `BackSub` functions from [](../04/Gauss-Elimination.ipynb) to perform Gauss-Jordan elimination. As written, these functions first perform Gaussian elimination to produce zeros below the diagonal in the augmented matrix. Next, a backsolve is performed to solve the linear system. This needs to be modified to instead converted the augmented matrix into reduced row eschelon form, i.e., the left of the augmented matrix should be the identify matrix.\n",
    "2. Test your function by solving the linear system example ${\\bf A x} = {\\bf b}$ used earlier in this notebook. In other words, you should be able to reproduce the RREF calculated above with `sympy`.\n",
    "2. Use your function to calculate the matrix inverse ${\\bf A}^{-1}$.\n",
    "3. Tip: You do not need to worry about pivoting. While pivoting is important for numeric stability, it adds complexity."
   ]
  },
  {
   "cell_type": "markdown",
   "metadata": {
    "id": "0rIAOL1XQcsX"
   },
   "source": [
    "## Understanding the Determinant"
   ]
  },
  {
   "cell_type": "markdown",
   "metadata": {
    "id": "4MH3a4i7QcsX"
   },
   "source": [
    "Consider the matrices\n",
    "\n",
    "$$\n",
    "{\\bf A} = \\begin{bmatrix} 2 & 1 \\\\ 3 & 4 \\end{bmatrix}, \\qquad {\\bf B} = \\begin{bmatrix} 0 & 3 \\\\ 2 & 1 \\end{bmatrix}\n",
    "$$"
   ]
  },
  {
   "cell_type": "markdown",
   "metadata": {
    "id": "-ttPCX6pQcsX"
   },
   "source": [
    "Caculate det(${\\bf A}$) with paper and pencil."
   ]
  },
  {
   "cell_type": "markdown",
   "metadata": {
    "id": "ScaZ10KSQcsX"
   },
   "source": [
    "Use `numpy` and `scipy` to numerically verify the following properties of the determinant."
   ]
  },
  {
   "cell_type": "code",
   "execution_count": null,
   "metadata": {
    "id": "Vi0QUsvGQcsY"
   },
   "outputs": [
    {
     "name": "stdout",
     "output_type": "stream",
     "text": [
      "[[0 3]\n",
      " [2 1]]\n"
     ]
    }
   ],
   "source": [
    "A = np.array([[2, 1], [3, 4]])\n",
    "\n",
    "### BEGIN SOLUTION\n",
    "B = np.array([[0, 3], [2, 1]])\n",
    "### END SOLUTION"
   ]
  },
  {
   "cell_type": "markdown",
   "metadata": {
    "id": "K3eNP9pHQcsY"
   },
   "source": [
    "det(${\\bf A}$) = det(${\\bf A}^T$)"
   ]
  },
  {
   "cell_type": "markdown",
   "metadata": {
    "id": "xjDFV_deQcsY"
   },
   "source": [
    "Does the numerical answer match your pencil and paper calculation of det(${\\bf A}$)?"
   ]
  },
  {
   "cell_type": "code",
   "execution_count": null,
   "metadata": {
    "colab": {
     "base_uri": "https://localhost:8080/"
    },
    "executionInfo": {
     "elapsed": 6,
     "status": "ok",
     "timestamp": 1757613923895,
     "user": {
      "displayName": "Shahriar Afkhami",
      "userId": "10934652738851687692"
     },
     "user_tz": 240
    },
    "id": "pyRPS2xbQcsY",
    "outputId": "55f4020b-58d7-498d-e255-9fa24dda9dfc"
   },
   "outputs": [
    {
     "name": "stdout",
     "output_type": "stream",
     "text": [
      "det(A) = 5.0\n",
      "det(A^T) = 5.0\n"
     ]
    }
   ],
   "source": [
    "print(\"det(A) =\", la.det(A))\n",
    "\n",
    "### BEGIN SOLUTION\n",
    "print(\"det(A^T) =\", la.det(A.transpose()))\n",
    "### END SOLUTION"
   ]
  },
  {
   "cell_type": "markdown",
   "metadata": {
    "id": "9fOUq0tTQcsY"
   },
   "source": [
    "Is ${\\bf A}$ invertable?\n"
   ]
  },
  {
   "cell_type": "markdown",
   "metadata": {
    "id": "AjceD_p-QcsZ"
   },
   "source": [
    "det(${\\bf I}$) = 1"
   ]
  },
  {
   "cell_type": "code",
   "execution_count": null,
   "metadata": {
    "colab": {
     "base_uri": "https://localhost:8080/"
    },
    "executionInfo": {
     "elapsed": 8,
     "status": "ok",
     "timestamp": 1757614025017,
     "user": {
      "displayName": "Shahriar Afkhami",
      "userId": "10934652738851687692"
     },
     "user_tz": 240
    },
    "id": "BxY2fMEHQcsZ",
    "outputId": "ccbef20b-b94e-4d2a-bdbf-35493575a94e"
   },
   "outputs": [
    {
     "name": "stdout",
     "output_type": "stream",
     "text": [
      "I =\n",
      " [[1. 0. 0.]\n",
      " [0. 1. 0.]\n",
      " [0. 0. 1.]]\n",
      "det(I) =  1.0\n"
     ]
    }
   ],
   "source": [
    "### BEGIN SOLUTION\n",
    "I = np.identity(3)\n",
    "print(\"I =\\n\", I)\n",
    "print(\"det(I) = \", la.det(I))\n",
    "### END SOLUTION"
   ]
  },
  {
   "cell_type": "markdown",
   "metadata": {
    "id": "mBqw8x06QcsZ"
   },
   "source": [
    "det($\\bf A B$) = det($\\bf A$)det($\\bf B$) = det($\\bf B$)det($\\bf A$) = det($\\bf B A$)"
   ]
  },
  {
   "cell_type": "code",
   "execution_count": null,
   "metadata": {
    "colab": {
     "base_uri": "https://localhost:8080/"
    },
    "executionInfo": {
     "elapsed": 45,
     "status": "ok",
     "timestamp": 1757614029934,
     "user": {
      "displayName": "Shahriar Afkhami",
      "userId": "10934652738851687692"
     },
     "user_tz": 240
    },
    "id": "MpzyaZiMQcsZ",
    "outputId": "fa22a80a-e09b-4014-ae06-ea4add081819"
   },
   "outputs": [
    {
     "name": "stdout",
     "output_type": "stream",
     "text": [
      "det(AB) = -30.000000000000007\n",
      "det(A) = 5.0\n",
      "det(B) = -6.0\n",
      "det(A)*det(B) -30.0\n",
      "det(BA) = -30.0\n"
     ]
    }
   ],
   "source": [
    "print(\"det(AB) =\",la.det(A @ B))\n",
    "\n",
    "### BEGIN SOLUTION\n",
    "print(\"det(A) =\", la.det(A))\n",
    "print(\"det(B) =\", la.det(B))\n",
    "print(\"det(A)*det(B)\",la.det(A)*la.det(B))\n",
    "print(\"det(BA) =\",la.det(B@A))\n",
    "### END SOLUTION"
   ]
  },
  {
   "cell_type": "markdown",
   "metadata": {
    "id": "JJAi4xAgQcsZ"
   },
   "source": [
    "Is ${\\bf B}$ invertable?"
   ]
  },
  {
   "cell_type": "markdown",
   "metadata": {
    "id": "NCzt4a1SQcsa"
   },
   "source": [
    "det($\\alpha \\bf A$) = $\\alpha^n$ det($\\bf A$), where $\\alpha$ is a scalar"
   ]
  },
  {
   "cell_type": "code",
   "execution_count": null,
   "metadata": {
    "id": "LgsNDO0xQcsa"
   },
   "outputs": [],
   "source": [
    "### BEGIN SOLUTION\n",
    "alpha = 4\n",
    "n = A.shape[0]\n",
    "print(\"det(alpha*A) =\", la.det(alpha*A))\n",
    "print(\"alpha^n*det(A) =\", alpha**n*(la.det(A)))\n",
    "### END SOLUTION"
   ]
  },
  {
   "cell_type": "markdown",
   "metadata": {
    "id": "sWZR7-NYQcsa"
   },
   "source": [
    "det(${\\bf A}$) = $\\prod_i \\lambda_i$, where $\\lambda_i$ are the eigenvalues of $\\bf A$"
   ]
  },
  {
   "cell_type": "code",
   "execution_count": null,
   "metadata": {
    "id": "peDhpWO4Qcsa"
   },
   "outputs": [],
   "source": [
    "w = la.eigvals(A)\n",
    "\n",
    "### BEGIN SOLUTION\n",
    "print(\"det(A) = \",la.det(A))\n",
    "print(\"prod(eigenvals) = \",np.prod(w))\n",
    "### END SOLUTION\n"
   ]
  },
  {
   "cell_type": "markdown",
   "metadata": {
    "id": "6RTIPqkPQcsa"
   },
   "source": [
    "## Submission\n",
    "\n",
    "Download this notebook as a .ipynb file and submit to Canvas.\n",
    "\n"
   ]
  },
  {
   "cell_type": "markdown",
   "metadata": {},
   "source": [
    "# Homework Completion"
   ]
  },
  {
   "cell_type": "code",
   "execution_count": 64,
   "metadata": {},
   "outputs": [],
   "source": [
    "def GaussElim(A, b, LOUD=False):\n",
    "    \"\"\"create a Gauss-Jordan elimination matrix for a system (RREF)\n",
    "\n",
    "    Args:\n",
    "        A: N by N array\n",
    "        b: array of length N\n",
    "    Returns:\n",
    "        augmented matrix in reduced row echelon form\n",
    "    \"\"\"\n",
    "    # Extract dimensions of A\n",
    "    [Nrow, Ncol] = A.shape\n",
    "\n",
    "    # Check that A is square\n",
    "    assert Nrow == Ncol\n",
    "\n",
    "    N = Nrow\n",
    "\n",
    "    # create augmented matrix\n",
    "    aug_matrix = np.zeros((N,(2*N)))\n",
    "    aug_matrix[0:N,0:N] = A.copy()\n",
    "    aug_matrix[:, N:] = b.copy()\n",
    "\n",
    "\n",
    "    if LOUD:\n",
    "        print(\"Initial Augmented Matrix = \\n\", aug_matrix)\n",
    "\n",
    "    # loop over columns (pivot columns)\n",
    "    for column in range(0, N):\n",
    "        \n",
    "        # STEP 1: Normalize the pivot row (make diagonal element = 1)\n",
    "        pivot_element = aug_matrix[column, column]\n",
    "        aug_matrix[column, :] = aug_matrix[column, :] / pivot_element\n",
    "        \n",
    "        if LOUD:\n",
    "            print(f\"After normalizing row {column}:\\n\", aug_matrix)\n",
    "\n",
    "        # STEP 2: Eliminate ALL other rows in this column (both above and below)\n",
    "        for row in range(0, N):\n",
    "            if row != column:  # Skip the pivot row itself\n",
    "                # Calculate multiplier\n",
    "                multiplier = aug_matrix[row, column]\n",
    "                \n",
    "                # Eliminate the element in this column\n",
    "                aug_matrix[row, :] -= multiplier * aug_matrix[column, :]\n",
    "\n",
    "        if LOUD:\n",
    "            print(f\"After eliminating column {column}:\\n\", aug_matrix)    \n",
    "    \n",
    "    return aug_matrix"
   ]
  },
  {
   "cell_type": "markdown",
   "metadata": {},
   "source": [
    "## Display of Method"
   ]
  },
  {
   "cell_type": "code",
   "execution_count": 65,
   "metadata": {},
   "outputs": [
    {
     "name": "stdout",
     "output_type": "stream",
     "text": [
      "A=\n",
      " [[ 3  2  1]\n",
      " [-1  4  5]\n",
      " [ 2 -8 10]]\n",
      "B=\n",
      " [[1. 0. 0.]\n",
      " [0. 1. 0.]\n",
      " [0. 0. 1.]]\n",
      "\n",
      "NumPy inverse of A:\n",
      " [[ 0.28571429 -0.1         0.02142857]\n",
      " [ 0.07142857  0.1        -0.05714286]\n",
      " [ 0.          0.1         0.05      ]]\n",
      "\n",
      "Our Gauss elimination result:\n",
      " [[ 0.28571429 -0.1         0.02142857]\n",
      " [ 0.07142857  0.1        -0.05714286]\n",
      " [ 0.          0.1         0.05      ]]\n"
     ]
    }
   ],
   "source": [
    "A = np.array([[3, 2, 1], [-1, 4, 5], [2, -8, 10]])\n",
    "print(\"A=\\n\",A)\n",
    "\n",
    "# Define B\n",
    "I =  np.eye(3)\n",
    "print(\"B=\\n\",I)\n",
    "\n",
    "\n",
    "x = GaussElim(A,I)\n",
    "\n",
    "\n",
    "# Verify our result by computing the inverse using NumPy\n",
    "A_inv_numpy = np.linalg.inv(A)\n",
    "print(\"\\nNumPy inverse of A:\\n\", A_inv_numpy)\n",
    "\n",
    "# Compare with our Gauss elimination result\n",
    "print(\"\\nOur Gauss elimination result:\\n\", x[:, 3:])\n",
    "\n"
   ]
  }
 ],
 "metadata": {
  "colab": {
   "provenance": []
  },
  "kernelspec": {
   "display_name": "base",
   "language": "python",
   "name": "python3"
  },
  "language_info": {
   "codemirror_mode": {
    "name": "ipython",
    "version": 3
   },
   "file_extension": ".py",
   "mimetype": "text/x-python",
   "name": "python",
   "nbconvert_exporter": "python",
   "pygments_lexer": "ipython3",
   "version": "3.12.4"
  }
 },
 "nbformat": 4,
 "nbformat_minor": 0
}
